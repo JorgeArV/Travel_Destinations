{
 "cells": [
  {
   "cell_type": "markdown",
   "metadata": {},
   "source": [
    "#Decision Tree Test - exploring data"
   ]
  },
  {
   "cell_type": "code",
   "execution_count": null,
   "metadata": {},
   "outputs": [],
   "source": [
    "#Initial test: Creating a decision tree. Decision tree just uses max and min temp as x values (for now), to predict a city"
   ]
  },
  {
   "cell_type": "code",
   "execution_count": 1,
   "metadata": {},
   "outputs": [],
   "source": [
    "import matplotlib.pyplot as plt\n",
    "from sklearn.neighbors import KNeighborsClassifier\n",
    "import pandas as pd\n",
    "import os"
   ]
  },
  {
   "cell_type": "code",
   "execution_count": 3,
   "metadata": {},
   "outputs": [],
   "source": [
    "df = pd.read_csv(os.path.join(\"NorthAmericaCityAirbnb.csv\"))"
   ]
  },
  {
   "cell_type": "code",
   "execution_count": 4,
   "metadata": {},
   "outputs": [
    {
     "data": {
      "text/html": [
       "<div>\n",
       "<style scoped>\n",
       "    .dataframe tbody tr th:only-of-type {\n",
       "        vertical-align: middle;\n",
       "    }\n",
       "\n",
       "    .dataframe tbody tr th {\n",
       "        vertical-align: top;\n",
       "    }\n",
       "\n",
       "    .dataframe thead th {\n",
       "        text-align: right;\n",
       "    }\n",
       "</style>\n",
       "<table border=\"1\" class=\"dataframe\">\n",
       "  <thead>\n",
       "    <tr style=\"text-align: right;\">\n",
       "      <th></th>\n",
       "      <th>Unnamed: 0</th>\n",
       "      <th>City</th>\n",
       "      <th>Host Name</th>\n",
       "      <th>Neighbourhood</th>\n",
       "      <th>Latitude</th>\n",
       "      <th>Longitude</th>\n",
       "      <th>Property Type</th>\n",
       "      <th>Room Type</th>\n",
       "      <th>Price</th>\n",
       "      <th>Minimum Nights</th>\n",
       "      <th>Availability 365</th>\n",
       "      <th>Reviews Scores Rating</th>\n",
       "    </tr>\n",
       "  </thead>\n",
       "  <tbody>\n",
       "    <tr>\n",
       "      <th>0</th>\n",
       "      <td>0</td>\n",
       "      <td>Montreal,QC</td>\n",
       "      <td>Nelia</td>\n",
       "      <td>Le Plateau-Mont-Royal</td>\n",
       "      <td>45.53069</td>\n",
       "      <td>-73.58588</td>\n",
       "      <td>Private room in house</td>\n",
       "      <td>Private room</td>\n",
       "      <td>$38.00</td>\n",
       "      <td>2</td>\n",
       "      <td>42</td>\n",
       "      <td>93.0</td>\n",
       "    </tr>\n",
       "    <tr>\n",
       "      <th>1</th>\n",
       "      <td>1</td>\n",
       "      <td>Montreal,QC</td>\n",
       "      <td>Maryline</td>\n",
       "      <td>Ville-Marie</td>\n",
       "      <td>45.51939</td>\n",
       "      <td>-73.56482</td>\n",
       "      <td>Entire apartment</td>\n",
       "      <td>Entire home/apt</td>\n",
       "      <td>$133.00</td>\n",
       "      <td>2</td>\n",
       "      <td>343</td>\n",
       "      <td>94.0</td>\n",
       "    </tr>\n",
       "    <tr>\n",
       "      <th>2</th>\n",
       "      <td>2</td>\n",
       "      <td>Montreal,QC</td>\n",
       "      <td>Maryline</td>\n",
       "      <td>Ville-Marie</td>\n",
       "      <td>45.51929</td>\n",
       "      <td>-73.56493</td>\n",
       "      <td>Entire house</td>\n",
       "      <td>Entire home/apt</td>\n",
       "      <td>$252.00</td>\n",
       "      <td>3</td>\n",
       "      <td>352</td>\n",
       "      <td>92.0</td>\n",
       "    </tr>\n",
       "    <tr>\n",
       "      <th>3</th>\n",
       "      <td>3</td>\n",
       "      <td>Montreal,QC</td>\n",
       "      <td>Gail</td>\n",
       "      <td>Le Sud-Ouest</td>\n",
       "      <td>45.48467</td>\n",
       "      <td>-73.57995</td>\n",
       "      <td>Private room in apartment</td>\n",
       "      <td>Private room</td>\n",
       "      <td>$40.00</td>\n",
       "      <td>2</td>\n",
       "      <td>318</td>\n",
       "      <td>90.0</td>\n",
       "    </tr>\n",
       "    <tr>\n",
       "      <th>4</th>\n",
       "      <td>4</td>\n",
       "      <td>Montreal,QC</td>\n",
       "      <td>Alain</td>\n",
       "      <td>Rosemont-La Petite-Patrie</td>\n",
       "      <td>45.53840</td>\n",
       "      <td>-73.60355</td>\n",
       "      <td>Entire apartment</td>\n",
       "      <td>Entire home/apt</td>\n",
       "      <td>$135.00</td>\n",
       "      <td>4</td>\n",
       "      <td>358</td>\n",
       "      <td>93.0</td>\n",
       "    </tr>\n",
       "    <tr>\n",
       "      <th>...</th>\n",
       "      <td>...</td>\n",
       "      <td>...</td>\n",
       "      <td>...</td>\n",
       "      <td>...</td>\n",
       "      <td>...</td>\n",
       "      <td>...</td>\n",
       "      <td>...</td>\n",
       "      <td>...</td>\n",
       "      <td>...</td>\n",
       "      <td>...</td>\n",
       "      <td>...</td>\n",
       "      <td>...</td>\n",
       "    </tr>\n",
       "    <tr>\n",
       "      <th>257261</th>\n",
       "      <td>7788</td>\n",
       "      <td>Washington,DC</td>\n",
       "      <td>Kia</td>\n",
       "      <td>Shaw, Logan Circle</td>\n",
       "      <td>38.90567</td>\n",
       "      <td>-77.02976</td>\n",
       "      <td>Entire serviced apartment</td>\n",
       "      <td>Entire home/apt</td>\n",
       "      <td>$183.00</td>\n",
       "      <td>91</td>\n",
       "      <td>329</td>\n",
       "      <td>NaN</td>\n",
       "    </tr>\n",
       "    <tr>\n",
       "      <th>257262</th>\n",
       "      <td>7789</td>\n",
       "      <td>Washington,DC</td>\n",
       "      <td>Kia</td>\n",
       "      <td>Columbia Heights, Mt. Pleasant, Pleasant Plain...</td>\n",
       "      <td>38.92104</td>\n",
       "      <td>-77.03229</td>\n",
       "      <td>Entire serviced apartment</td>\n",
       "      <td>Entire home/apt</td>\n",
       "      <td>$169.00</td>\n",
       "      <td>91</td>\n",
       "      <td>301</td>\n",
       "      <td>NaN</td>\n",
       "    </tr>\n",
       "    <tr>\n",
       "      <th>257263</th>\n",
       "      <td>7790</td>\n",
       "      <td>Washington,DC</td>\n",
       "      <td>Antonio</td>\n",
       "      <td>Edgewood, Bloomingdale, Truxton Circle, Eckington</td>\n",
       "      <td>38.92801</td>\n",
       "      <td>-76.99795</td>\n",
       "      <td>Entire townhouse</td>\n",
       "      <td>Entire home/apt</td>\n",
       "      <td>$68.00</td>\n",
       "      <td>30</td>\n",
       "      <td>175</td>\n",
       "      <td>NaN</td>\n",
       "    </tr>\n",
       "    <tr>\n",
       "      <th>257264</th>\n",
       "      <td>7791</td>\n",
       "      <td>Washington,DC</td>\n",
       "      <td>Connie</td>\n",
       "      <td>Lamont Riggs, Queens Chapel, Fort Totten, Plea...</td>\n",
       "      <td>38.96935</td>\n",
       "      <td>-77.00764</td>\n",
       "      <td>Private room in bed and breakfast</td>\n",
       "      <td>Private room</td>\n",
       "      <td>$60.00</td>\n",
       "      <td>14</td>\n",
       "      <td>364</td>\n",
       "      <td>NaN</td>\n",
       "    </tr>\n",
       "    <tr>\n",
       "      <th>257265</th>\n",
       "      <td>7792</td>\n",
       "      <td>Washington,DC</td>\n",
       "      <td>Kia</td>\n",
       "      <td>Southwest Employment Area, Southwest/Waterfron...</td>\n",
       "      <td>38.87604</td>\n",
       "      <td>-77.01457</td>\n",
       "      <td>Entire serviced apartment</td>\n",
       "      <td>Entire home/apt</td>\n",
       "      <td>$117.00</td>\n",
       "      <td>90</td>\n",
       "      <td>307</td>\n",
       "      <td>NaN</td>\n",
       "    </tr>\n",
       "  </tbody>\n",
       "</table>\n",
       "<p>257266 rows × 12 columns</p>\n",
       "</div>"
      ],
      "text/plain": [
       "        Unnamed: 0           City Host Name  \\\n",
       "0                0    Montreal,QC     Nelia   \n",
       "1                1    Montreal,QC  Maryline   \n",
       "2                2    Montreal,QC  Maryline   \n",
       "3                3    Montreal,QC      Gail   \n",
       "4                4    Montreal,QC     Alain   \n",
       "...            ...            ...       ...   \n",
       "257261        7788  Washington,DC       Kia   \n",
       "257262        7789  Washington,DC       Kia   \n",
       "257263        7790  Washington,DC   Antonio   \n",
       "257264        7791  Washington,DC    Connie   \n",
       "257265        7792  Washington,DC       Kia   \n",
       "\n",
       "                                            Neighbourhood  Latitude  \\\n",
       "0                                   Le Plateau-Mont-Royal  45.53069   \n",
       "1                                             Ville-Marie  45.51939   \n",
       "2                                             Ville-Marie  45.51929   \n",
       "3                                            Le Sud-Ouest  45.48467   \n",
       "4                               Rosemont-La Petite-Patrie  45.53840   \n",
       "...                                                   ...       ...   \n",
       "257261                                 Shaw, Logan Circle  38.90567   \n",
       "257262  Columbia Heights, Mt. Pleasant, Pleasant Plain...  38.92104   \n",
       "257263  Edgewood, Bloomingdale, Truxton Circle, Eckington  38.92801   \n",
       "257264  Lamont Riggs, Queens Chapel, Fort Totten, Plea...  38.96935   \n",
       "257265  Southwest Employment Area, Southwest/Waterfron...  38.87604   \n",
       "\n",
       "        Longitude                      Property Type        Room Type  \\\n",
       "0       -73.58588              Private room in house     Private room   \n",
       "1       -73.56482                   Entire apartment  Entire home/apt   \n",
       "2       -73.56493                       Entire house  Entire home/apt   \n",
       "3       -73.57995          Private room in apartment     Private room   \n",
       "4       -73.60355                   Entire apartment  Entire home/apt   \n",
       "...           ...                                ...              ...   \n",
       "257261  -77.02976          Entire serviced apartment  Entire home/apt   \n",
       "257262  -77.03229          Entire serviced apartment  Entire home/apt   \n",
       "257263  -76.99795                   Entire townhouse  Entire home/apt   \n",
       "257264  -77.00764  Private room in bed and breakfast     Private room   \n",
       "257265  -77.01457          Entire serviced apartment  Entire home/apt   \n",
       "\n",
       "          Price  Minimum Nights  Availability 365  Reviews Scores Rating  \n",
       "0        $38.00               2                42                   93.0  \n",
       "1       $133.00               2               343                   94.0  \n",
       "2       $252.00               3               352                   92.0  \n",
       "3        $40.00               2               318                   90.0  \n",
       "4       $135.00               4               358                   93.0  \n",
       "...         ...             ...               ...                    ...  \n",
       "257261  $183.00              91               329                    NaN  \n",
       "257262  $169.00              91               301                    NaN  \n",
       "257263   $68.00              30               175                    NaN  \n",
       "257264   $60.00              14               364                    NaN  \n",
       "257265  $117.00              90               307                    NaN  \n",
       "\n",
       "[257266 rows x 12 columns]"
      ]
     },
     "execution_count": 4,
     "metadata": {},
     "output_type": "execute_result"
    }
   ],
   "source": [
    "df"
   ]
  },
  {
   "cell_type": "code",
   "execution_count": 39,
   "metadata": {},
   "outputs": [],
   "source": [
    "df['Price'] = df['Price'].str.replace('$','')\n",
    "df['Price'] = df['Price'].str.replace(',','')\n",
    "df['Price'] = pd.to_numeric(df['Price'])\n"
   ]
  },
  {
   "cell_type": "code",
   "execution_count": 47,
   "metadata": {},
   "outputs": [],
   "source": [
    "df.dropna(subset = [\"Reviews Scores Rating\"], inplace=True)"
   ]
  },
  {
   "cell_type": "code",
   "execution_count": 48,
   "metadata": {},
   "outputs": [
    {
     "data": {
      "text/plain": [
       "Unnamed: 0                 int64\n",
       "City                      object\n",
       "Host Name                 object\n",
       "Neighbourhood             object\n",
       "Latitude                 float64\n",
       "Longitude                float64\n",
       "Property Type             object\n",
       "Room Type                 object\n",
       "Price                    float64\n",
       "Minimum Nights             int64\n",
       "Availability 365           int64\n",
       "Reviews Scores Rating    float64\n",
       "dtype: object"
      ]
     },
     "execution_count": 48,
     "metadata": {},
     "output_type": "execute_result"
    }
   ],
   "source": [
    "df.dtypes"
   ]
  },
  {
   "cell_type": "code",
   "execution_count": 49,
   "metadata": {},
   "outputs": [],
   "source": [
    "y = df[\"City\"]"
   ]
  },
  {
   "cell_type": "code",
   "execution_count": 50,
   "metadata": {},
   "outputs": [],
   "source": [
    "X= df[[\"Price\", \"Reviews Scores Rating\"]]"
   ]
  },
  {
   "cell_type": "code",
   "execution_count": 51,
   "metadata": {},
   "outputs": [
    {
     "data": {
      "text/plain": [
       "((195565, 2), (195565,))"
      ]
     },
     "execution_count": 51,
     "metadata": {},
     "output_type": "execute_result"
    }
   ],
   "source": [
    "X.shape, y.shape"
   ]
  },
  {
   "cell_type": "code",
   "execution_count": 52,
   "metadata": {},
   "outputs": [],
   "source": [
    "from sklearn.model_selection import train_test_split\n",
    "X_train, X_test, y_train, y_test = train_test_split(X, y, random_state=42)"
   ]
  },
  {
   "cell_type": "code",
   "execution_count": 53,
   "metadata": {},
   "outputs": [],
   "source": [
    "from sklearn.tree import DecisionTreeClassifier"
   ]
  },
  {
   "cell_type": "code",
   "execution_count": 54,
   "metadata": {},
   "outputs": [
    {
     "data": {
      "text/plain": [
       "0.15881943876298782"
      ]
     },
     "execution_count": 54,
     "metadata": {},
     "output_type": "execute_result"
    }
   ],
   "source": [
    "model = DecisionTreeClassifier()\n",
    "model.fit(X_train, y_train)\n",
    "model.score(X_test, y_test)"
   ]
  },
  {
   "cell_type": "code",
   "execution_count": 55,
   "metadata": {},
   "outputs": [],
   "source": [
    "predictions = model.predict(X_test)"
   ]
  },
  {
   "cell_type": "code",
   "execution_count": 56,
   "metadata": {},
   "outputs": [
    {
     "data": {
      "text/plain": [
       "array(['Hawaii,HI', 'New York City,NY', 'Los Angeles,CA', ...,\n",
       "       'Clark County,NV', 'Clark County,NV', 'Clark County,NV'],\n",
       "      dtype=object)"
      ]
     },
     "execution_count": 56,
     "metadata": {},
     "output_type": "execute_result"
    }
   ],
   "source": [
    "predictions"
   ]
  },
  {
   "cell_type": "code",
   "execution_count": null,
   "metadata": {},
   "outputs": [],
   "source": []
  },
  {
   "cell_type": "code",
   "execution_count": 62,
   "metadata": {},
   "outputs": [
    {
     "data": {
      "text/plain": [
       "array(['Austin,TX'], dtype=object)"
      ]
     },
     "execution_count": 62,
     "metadata": {},
     "output_type": "execute_result"
    }
   ],
   "source": [
    "data_point = [[500, 90]]\n",
    "\n",
    "model.predict(data_point)"
   ]
  },
  {
   "cell_type": "markdown",
   "metadata": {},
   "source": [
    "# Let's reduce dataset to Dec. 20 - Dec. 21 to see if model score increases (Only Max. and Min. temp)"
   ]
  },
  {
   "cell_type": "code",
   "execution_count": 13,
   "metadata": {},
   "outputs": [
    {
     "data": {
      "text/plain": [
       "City            object\n",
       "Date            object\n",
       "Temperature    float64\n",
       "temp_max       float64\n",
       "temp_min       float64\n",
       "humidity       float64\n",
       "precip         float64\n",
       "snow           float64\n",
       "windspeed      float64\n",
       "conditions      object\n",
       "dtype: object"
      ]
     },
     "execution_count": 13,
     "metadata": {},
     "output_type": "execute_result"
    }
   ],
   "source": [
    "# 1.We find the variable types of each column - We need to change date to a date-time variable\n",
    "df.dtypes"
   ]
  },
  {
   "cell_type": "code",
   "execution_count": 14,
   "metadata": {},
   "outputs": [],
   "source": [
    "# We create a column with date as a datetime\n",
    "df['Time_stamp'] = pd.to_datetime(df['Date'].str.strip(), format='%Y/%m/%d')"
   ]
  },
  {
   "cell_type": "code",
   "execution_count": 15,
   "metadata": {},
   "outputs": [],
   "source": [
    "#User would imput this value\n",
    "df['day'] = df.Time_stamp.dt.day\n",
    "df['month'] = df.Time_stamp.dt.month\n",
    "df['year'] = df.Time_stamp.dt.year"
   ]
  },
  {
   "cell_type": "code",
   "execution_count": 16,
   "metadata": {},
   "outputs": [
    {
     "data": {
      "text/html": [
       "<div>\n",
       "<style scoped>\n",
       "    .dataframe tbody tr th:only-of-type {\n",
       "        vertical-align: middle;\n",
       "    }\n",
       "\n",
       "    .dataframe tbody tr th {\n",
       "        vertical-align: top;\n",
       "    }\n",
       "\n",
       "    .dataframe thead th {\n",
       "        text-align: right;\n",
       "    }\n",
       "</style>\n",
       "<table border=\"1\" class=\"dataframe\">\n",
       "  <thead>\n",
       "    <tr style=\"text-align: right;\">\n",
       "      <th></th>\n",
       "      <th>City</th>\n",
       "      <th>Date</th>\n",
       "      <th>Temperature</th>\n",
       "      <th>temp_max</th>\n",
       "      <th>temp_min</th>\n",
       "      <th>humidity</th>\n",
       "      <th>precip</th>\n",
       "      <th>snow</th>\n",
       "      <th>windspeed</th>\n",
       "      <th>conditions</th>\n",
       "      <th>Time_stamp</th>\n",
       "      <th>day</th>\n",
       "      <th>month</th>\n",
       "      <th>year</th>\n",
       "    </tr>\n",
       "  </thead>\n",
       "  <tbody>\n",
       "    <tr>\n",
       "      <th>0</th>\n",
       "      <td>Montreal, QC</td>\n",
       "      <td>2020-01-01</td>\n",
       "      <td>0.2</td>\n",
       "      <td>1.1</td>\n",
       "      <td>-0.8</td>\n",
       "      <td>87.84</td>\n",
       "      <td>5.71</td>\n",
       "      <td>0.00</td>\n",
       "      <td>7.9</td>\n",
       "      <td>Rain</td>\n",
       "      <td>2020-01-01</td>\n",
       "      <td>1</td>\n",
       "      <td>1</td>\n",
       "      <td>2020</td>\n",
       "    </tr>\n",
       "    <tr>\n",
       "      <th>1</th>\n",
       "      <td>Montreal, QC</td>\n",
       "      <td>2020-01-02</td>\n",
       "      <td>0.9</td>\n",
       "      <td>2.6</td>\n",
       "      <td>-1.0</td>\n",
       "      <td>78.70</td>\n",
       "      <td>0.00</td>\n",
       "      <td>0.00</td>\n",
       "      <td>7.7</td>\n",
       "      <td>Clear</td>\n",
       "      <td>2020-01-02</td>\n",
       "      <td>2</td>\n",
       "      <td>1</td>\n",
       "      <td>2020</td>\n",
       "    </tr>\n",
       "    <tr>\n",
       "      <th>2</th>\n",
       "      <td>Montreal, QC</td>\n",
       "      <td>2020-01-03</td>\n",
       "      <td>4.8</td>\n",
       "      <td>5.8</td>\n",
       "      <td>2.8</td>\n",
       "      <td>74.88</td>\n",
       "      <td>0.00</td>\n",
       "      <td>0.00</td>\n",
       "      <td>7.6</td>\n",
       "      <td>Clear</td>\n",
       "      <td>2020-01-03</td>\n",
       "      <td>3</td>\n",
       "      <td>1</td>\n",
       "      <td>2020</td>\n",
       "    </tr>\n",
       "    <tr>\n",
       "      <th>3</th>\n",
       "      <td>Montreal, QC</td>\n",
       "      <td>2020-01-04</td>\n",
       "      <td>0.5</td>\n",
       "      <td>3.2</td>\n",
       "      <td>-1.9</td>\n",
       "      <td>78.79</td>\n",
       "      <td>2.27</td>\n",
       "      <td>0.00</td>\n",
       "      <td>11.2</td>\n",
       "      <td>Rain</td>\n",
       "      <td>2020-01-04</td>\n",
       "      <td>4</td>\n",
       "      <td>1</td>\n",
       "      <td>2020</td>\n",
       "    </tr>\n",
       "    <tr>\n",
       "      <th>4</th>\n",
       "      <td>Montreal, QC</td>\n",
       "      <td>2020-01-05</td>\n",
       "      <td>-5.3</td>\n",
       "      <td>-1.8</td>\n",
       "      <td>-9.9</td>\n",
       "      <td>69.09</td>\n",
       "      <td>0.76</td>\n",
       "      <td>3.88</td>\n",
       "      <td>13.1</td>\n",
       "      <td>Snow</td>\n",
       "      <td>2020-01-05</td>\n",
       "      <td>5</td>\n",
       "      <td>1</td>\n",
       "      <td>2020</td>\n",
       "    </tr>\n",
       "    <tr>\n",
       "      <th>...</th>\n",
       "      <td>...</td>\n",
       "      <td>...</td>\n",
       "      <td>...</td>\n",
       "      <td>...</td>\n",
       "      <td>...</td>\n",
       "      <td>...</td>\n",
       "      <td>...</td>\n",
       "      <td>...</td>\n",
       "      <td>...</td>\n",
       "      <td>...</td>\n",
       "      <td>...</td>\n",
       "      <td>...</td>\n",
       "      <td>...</td>\n",
       "      <td>...</td>\n",
       "    </tr>\n",
       "    <tr>\n",
       "      <th>12805</th>\n",
       "      <td>Washington, DC</td>\n",
       "      <td>2020-12-27</td>\n",
       "      <td>1.0</td>\n",
       "      <td>5.6</td>\n",
       "      <td>-3.6</td>\n",
       "      <td>60.64</td>\n",
       "      <td>0.00</td>\n",
       "      <td>0.00</td>\n",
       "      <td>17.2</td>\n",
       "      <td>Partially cloudy</td>\n",
       "      <td>2020-12-27</td>\n",
       "      <td>27</td>\n",
       "      <td>12</td>\n",
       "      <td>2020</td>\n",
       "    </tr>\n",
       "    <tr>\n",
       "      <th>12806</th>\n",
       "      <td>Washington, DC</td>\n",
       "      <td>2020-12-28</td>\n",
       "      <td>6.1</td>\n",
       "      <td>11.3</td>\n",
       "      <td>1.6</td>\n",
       "      <td>64.95</td>\n",
       "      <td>0.00</td>\n",
       "      <td>0.00</td>\n",
       "      <td>19.5</td>\n",
       "      <td>Partially cloudy</td>\n",
       "      <td>2020-12-28</td>\n",
       "      <td>28</td>\n",
       "      <td>12</td>\n",
       "      <td>2020</td>\n",
       "    </tr>\n",
       "    <tr>\n",
       "      <th>12807</th>\n",
       "      <td>Washington, DC</td>\n",
       "      <td>2020-12-29</td>\n",
       "      <td>3.8</td>\n",
       "      <td>6.2</td>\n",
       "      <td>0.3</td>\n",
       "      <td>46.13</td>\n",
       "      <td>0.00</td>\n",
       "      <td>0.00</td>\n",
       "      <td>32.7</td>\n",
       "      <td>Partially cloudy</td>\n",
       "      <td>2020-12-29</td>\n",
       "      <td>29</td>\n",
       "      <td>12</td>\n",
       "      <td>2020</td>\n",
       "    </tr>\n",
       "    <tr>\n",
       "      <th>12808</th>\n",
       "      <td>Washington, DC</td>\n",
       "      <td>2020-12-30</td>\n",
       "      <td>3.8</td>\n",
       "      <td>7.8</td>\n",
       "      <td>-0.3</td>\n",
       "      <td>52.82</td>\n",
       "      <td>0.00</td>\n",
       "      <td>0.00</td>\n",
       "      <td>29.0</td>\n",
       "      <td>Overcast</td>\n",
       "      <td>2020-12-30</td>\n",
       "      <td>30</td>\n",
       "      <td>12</td>\n",
       "      <td>2020</td>\n",
       "    </tr>\n",
       "    <tr>\n",
       "      <th>12809</th>\n",
       "      <td>Washington, DC</td>\n",
       "      <td>2020-12-31</td>\n",
       "      <td>8.1</td>\n",
       "      <td>12.8</td>\n",
       "      <td>4.4</td>\n",
       "      <td>70.87</td>\n",
       "      <td>0.00</td>\n",
       "      <td>0.00</td>\n",
       "      <td>28.8</td>\n",
       "      <td>Overcast</td>\n",
       "      <td>2020-12-31</td>\n",
       "      <td>31</td>\n",
       "      <td>12</td>\n",
       "      <td>2020</td>\n",
       "    </tr>\n",
       "  </tbody>\n",
       "</table>\n",
       "<p>12810 rows × 14 columns</p>\n",
       "</div>"
      ],
      "text/plain": [
       "                 City        Date  Temperature  temp_max  temp_min  humidity  \\\n",
       "0        Montreal, QC  2020-01-01          0.2       1.1      -0.8     87.84   \n",
       "1        Montreal, QC  2020-01-02          0.9       2.6      -1.0     78.70   \n",
       "2        Montreal, QC  2020-01-03          4.8       5.8       2.8     74.88   \n",
       "3        Montreal, QC  2020-01-04          0.5       3.2      -1.9     78.79   \n",
       "4        Montreal, QC  2020-01-05         -5.3      -1.8      -9.9     69.09   \n",
       "...               ...         ...          ...       ...       ...       ...   \n",
       "12805  Washington, DC  2020-12-27          1.0       5.6      -3.6     60.64   \n",
       "12806  Washington, DC  2020-12-28          6.1      11.3       1.6     64.95   \n",
       "12807  Washington, DC  2020-12-29          3.8       6.2       0.3     46.13   \n",
       "12808  Washington, DC  2020-12-30          3.8       7.8      -0.3     52.82   \n",
       "12809  Washington, DC  2020-12-31          8.1      12.8       4.4     70.87   \n",
       "\n",
       "       precip  snow  windspeed        conditions Time_stamp  day  month  year  \n",
       "0        5.71  0.00        7.9              Rain 2020-01-01    1      1  2020  \n",
       "1        0.00  0.00        7.7             Clear 2020-01-02    2      1  2020  \n",
       "2        0.00  0.00        7.6             Clear 2020-01-03    3      1  2020  \n",
       "3        2.27  0.00       11.2              Rain 2020-01-04    4      1  2020  \n",
       "4        0.76  3.88       13.1              Snow 2020-01-05    5      1  2020  \n",
       "...       ...   ...        ...               ...        ...  ...    ...   ...  \n",
       "12805    0.00  0.00       17.2  Partially cloudy 2020-12-27   27     12  2020  \n",
       "12806    0.00  0.00       19.5  Partially cloudy 2020-12-28   28     12  2020  \n",
       "12807    0.00  0.00       32.7  Partially cloudy 2020-12-29   29     12  2020  \n",
       "12808    0.00  0.00       29.0          Overcast 2020-12-30   30     12  2020  \n",
       "12809    0.00  0.00       28.8          Overcast 2020-12-31   31     12  2020  \n",
       "\n",
       "[12810 rows x 14 columns]"
      ]
     },
     "execution_count": 16,
     "metadata": {},
     "output_type": "execute_result"
    }
   ],
   "source": [
    "df"
   ]
  },
  {
   "cell_type": "code",
   "execution_count": 17,
   "metadata": {},
   "outputs": [],
   "source": [
    "#Ansers to be provided by user\n",
    "Month = 12\n",
    "Start_Day = 21\n",
    "End_Day = 31\n"
   ]
  },
  {
   "cell_type": "code",
   "execution_count": 18,
   "metadata": {},
   "outputs": [],
   "source": [
    "df_new = df[(df.month == Month) & (df.day >= Start_Day) & (df.day <= End_Day)]"
   ]
  },
  {
   "cell_type": "code",
   "execution_count": 19,
   "metadata": {},
   "outputs": [
    {
     "data": {
      "text/html": [
       "<div>\n",
       "<style scoped>\n",
       "    .dataframe tbody tr th:only-of-type {\n",
       "        vertical-align: middle;\n",
       "    }\n",
       "\n",
       "    .dataframe tbody tr th {\n",
       "        vertical-align: top;\n",
       "    }\n",
       "\n",
       "    .dataframe thead th {\n",
       "        text-align: right;\n",
       "    }\n",
       "</style>\n",
       "<table border=\"1\" class=\"dataframe\">\n",
       "  <thead>\n",
       "    <tr style=\"text-align: right;\">\n",
       "      <th></th>\n",
       "      <th>City</th>\n",
       "      <th>Date</th>\n",
       "      <th>Temperature</th>\n",
       "      <th>temp_max</th>\n",
       "      <th>temp_min</th>\n",
       "      <th>humidity</th>\n",
       "      <th>precip</th>\n",
       "      <th>snow</th>\n",
       "      <th>windspeed</th>\n",
       "      <th>conditions</th>\n",
       "      <th>Time_stamp</th>\n",
       "      <th>day</th>\n",
       "      <th>month</th>\n",
       "      <th>year</th>\n",
       "    </tr>\n",
       "  </thead>\n",
       "  <tbody>\n",
       "    <tr>\n",
       "      <th>355</th>\n",
       "      <td>Montreal, QC</td>\n",
       "      <td>2020-12-21</td>\n",
       "      <td>1.3</td>\n",
       "      <td>3.1</td>\n",
       "      <td>0.0</td>\n",
       "      <td>86.73</td>\n",
       "      <td>0.96</td>\n",
       "      <td>4.00</td>\n",
       "      <td>7.7</td>\n",
       "      <td>Snow</td>\n",
       "      <td>2020-12-21</td>\n",
       "      <td>21</td>\n",
       "      <td>12</td>\n",
       "      <td>2020</td>\n",
       "    </tr>\n",
       "    <tr>\n",
       "      <th>356</th>\n",
       "      <td>Montreal, QC</td>\n",
       "      <td>2020-12-22</td>\n",
       "      <td>0.2</td>\n",
       "      <td>1.9</td>\n",
       "      <td>-5.6</td>\n",
       "      <td>87.84</td>\n",
       "      <td>4.70</td>\n",
       "      <td>0.00</td>\n",
       "      <td>9.6</td>\n",
       "      <td>Rain</td>\n",
       "      <td>2020-12-22</td>\n",
       "      <td>22</td>\n",
       "      <td>12</td>\n",
       "      <td>2020</td>\n",
       "    </tr>\n",
       "    <tr>\n",
       "      <th>357</th>\n",
       "      <td>Montreal, QC</td>\n",
       "      <td>2020-12-23</td>\n",
       "      <td>-5.3</td>\n",
       "      <td>1.0</td>\n",
       "      <td>-9.2</td>\n",
       "      <td>72.31</td>\n",
       "      <td>2.99</td>\n",
       "      <td>0.00</td>\n",
       "      <td>11.3</td>\n",
       "      <td>Snow</td>\n",
       "      <td>2020-12-23</td>\n",
       "      <td>23</td>\n",
       "      <td>12</td>\n",
       "      <td>2020</td>\n",
       "    </tr>\n",
       "    <tr>\n",
       "      <th>358</th>\n",
       "      <td>Montreal, QC</td>\n",
       "      <td>2020-12-24</td>\n",
       "      <td>5.4</td>\n",
       "      <td>8.7</td>\n",
       "      <td>1.3</td>\n",
       "      <td>79.80</td>\n",
       "      <td>19.43</td>\n",
       "      <td>1.92</td>\n",
       "      <td>11.6</td>\n",
       "      <td>Snow</td>\n",
       "      <td>2020-12-24</td>\n",
       "      <td>24</td>\n",
       "      <td>12</td>\n",
       "      <td>2020</td>\n",
       "    </tr>\n",
       "    <tr>\n",
       "      <th>359</th>\n",
       "      <td>Montreal, QC</td>\n",
       "      <td>2020-12-25</td>\n",
       "      <td>7.6</td>\n",
       "      <td>13.4</td>\n",
       "      <td>0.6</td>\n",
       "      <td>90.44</td>\n",
       "      <td>34.46</td>\n",
       "      <td>0.63</td>\n",
       "      <td>11.5</td>\n",
       "      <td>Snow</td>\n",
       "      <td>2020-12-25</td>\n",
       "      <td>25</td>\n",
       "      <td>12</td>\n",
       "      <td>2020</td>\n",
       "    </tr>\n",
       "    <tr>\n",
       "      <th>...</th>\n",
       "      <td>...</td>\n",
       "      <td>...</td>\n",
       "      <td>...</td>\n",
       "      <td>...</td>\n",
       "      <td>...</td>\n",
       "      <td>...</td>\n",
       "      <td>...</td>\n",
       "      <td>...</td>\n",
       "      <td>...</td>\n",
       "      <td>...</td>\n",
       "      <td>...</td>\n",
       "      <td>...</td>\n",
       "      <td>...</td>\n",
       "      <td>...</td>\n",
       "    </tr>\n",
       "    <tr>\n",
       "      <th>12805</th>\n",
       "      <td>Washington, DC</td>\n",
       "      <td>2020-12-27</td>\n",
       "      <td>1.0</td>\n",
       "      <td>5.6</td>\n",
       "      <td>-3.6</td>\n",
       "      <td>60.64</td>\n",
       "      <td>0.00</td>\n",
       "      <td>0.00</td>\n",
       "      <td>17.2</td>\n",
       "      <td>Partially cloudy</td>\n",
       "      <td>2020-12-27</td>\n",
       "      <td>27</td>\n",
       "      <td>12</td>\n",
       "      <td>2020</td>\n",
       "    </tr>\n",
       "    <tr>\n",
       "      <th>12806</th>\n",
       "      <td>Washington, DC</td>\n",
       "      <td>2020-12-28</td>\n",
       "      <td>6.1</td>\n",
       "      <td>11.3</td>\n",
       "      <td>1.6</td>\n",
       "      <td>64.95</td>\n",
       "      <td>0.00</td>\n",
       "      <td>0.00</td>\n",
       "      <td>19.5</td>\n",
       "      <td>Partially cloudy</td>\n",
       "      <td>2020-12-28</td>\n",
       "      <td>28</td>\n",
       "      <td>12</td>\n",
       "      <td>2020</td>\n",
       "    </tr>\n",
       "    <tr>\n",
       "      <th>12807</th>\n",
       "      <td>Washington, DC</td>\n",
       "      <td>2020-12-29</td>\n",
       "      <td>3.8</td>\n",
       "      <td>6.2</td>\n",
       "      <td>0.3</td>\n",
       "      <td>46.13</td>\n",
       "      <td>0.00</td>\n",
       "      <td>0.00</td>\n",
       "      <td>32.7</td>\n",
       "      <td>Partially cloudy</td>\n",
       "      <td>2020-12-29</td>\n",
       "      <td>29</td>\n",
       "      <td>12</td>\n",
       "      <td>2020</td>\n",
       "    </tr>\n",
       "    <tr>\n",
       "      <th>12808</th>\n",
       "      <td>Washington, DC</td>\n",
       "      <td>2020-12-30</td>\n",
       "      <td>3.8</td>\n",
       "      <td>7.8</td>\n",
       "      <td>-0.3</td>\n",
       "      <td>52.82</td>\n",
       "      <td>0.00</td>\n",
       "      <td>0.00</td>\n",
       "      <td>29.0</td>\n",
       "      <td>Overcast</td>\n",
       "      <td>2020-12-30</td>\n",
       "      <td>30</td>\n",
       "      <td>12</td>\n",
       "      <td>2020</td>\n",
       "    </tr>\n",
       "    <tr>\n",
       "      <th>12809</th>\n",
       "      <td>Washington, DC</td>\n",
       "      <td>2020-12-31</td>\n",
       "      <td>8.1</td>\n",
       "      <td>12.8</td>\n",
       "      <td>4.4</td>\n",
       "      <td>70.87</td>\n",
       "      <td>0.00</td>\n",
       "      <td>0.00</td>\n",
       "      <td>28.8</td>\n",
       "      <td>Overcast</td>\n",
       "      <td>2020-12-31</td>\n",
       "      <td>31</td>\n",
       "      <td>12</td>\n",
       "      <td>2020</td>\n",
       "    </tr>\n",
       "  </tbody>\n",
       "</table>\n",
       "<p>385 rows × 14 columns</p>\n",
       "</div>"
      ],
      "text/plain": [
       "                 City        Date  Temperature  temp_max  temp_min  humidity  \\\n",
       "355      Montreal, QC  2020-12-21          1.3       3.1       0.0     86.73   \n",
       "356      Montreal, QC  2020-12-22          0.2       1.9      -5.6     87.84   \n",
       "357      Montreal, QC  2020-12-23         -5.3       1.0      -9.2     72.31   \n",
       "358      Montreal, QC  2020-12-24          5.4       8.7       1.3     79.80   \n",
       "359      Montreal, QC  2020-12-25          7.6      13.4       0.6     90.44   \n",
       "...               ...         ...          ...       ...       ...       ...   \n",
       "12805  Washington, DC  2020-12-27          1.0       5.6      -3.6     60.64   \n",
       "12806  Washington, DC  2020-12-28          6.1      11.3       1.6     64.95   \n",
       "12807  Washington, DC  2020-12-29          3.8       6.2       0.3     46.13   \n",
       "12808  Washington, DC  2020-12-30          3.8       7.8      -0.3     52.82   \n",
       "12809  Washington, DC  2020-12-31          8.1      12.8       4.4     70.87   \n",
       "\n",
       "       precip  snow  windspeed        conditions Time_stamp  day  month  year  \n",
       "355      0.96  4.00        7.7              Snow 2020-12-21   21     12  2020  \n",
       "356      4.70  0.00        9.6              Rain 2020-12-22   22     12  2020  \n",
       "357      2.99  0.00       11.3              Snow 2020-12-23   23     12  2020  \n",
       "358     19.43  1.92       11.6              Snow 2020-12-24   24     12  2020  \n",
       "359     34.46  0.63       11.5              Snow 2020-12-25   25     12  2020  \n",
       "...       ...   ...        ...               ...        ...  ...    ...   ...  \n",
       "12805    0.00  0.00       17.2  Partially cloudy 2020-12-27   27     12  2020  \n",
       "12806    0.00  0.00       19.5  Partially cloudy 2020-12-28   28     12  2020  \n",
       "12807    0.00  0.00       32.7  Partially cloudy 2020-12-29   29     12  2020  \n",
       "12808    0.00  0.00       29.0          Overcast 2020-12-30   30     12  2020  \n",
       "12809    0.00  0.00       28.8          Overcast 2020-12-31   31     12  2020  \n",
       "\n",
       "[385 rows x 14 columns]"
      ]
     },
     "execution_count": 19,
     "metadata": {},
     "output_type": "execute_result"
    }
   ],
   "source": [
    "df_new"
   ]
  },
  {
   "cell_type": "code",
   "execution_count": 20,
   "metadata": {},
   "outputs": [],
   "source": [
    "y = df_new[\"City\"]"
   ]
  },
  {
   "cell_type": "code",
   "execution_count": 21,
   "metadata": {},
   "outputs": [],
   "source": [
    "X= df_new[[\"temp_max\", \"temp_min\"]]"
   ]
  },
  {
   "cell_type": "code",
   "execution_count": 22,
   "metadata": {},
   "outputs": [],
   "source": [
    "X_train, X_test, y_train, y_test = train_test_split(X, y, random_state=42)"
   ]
  },
  {
   "cell_type": "code",
   "execution_count": 23,
   "metadata": {},
   "outputs": [
    {
     "data": {
      "text/plain": [
       "0.1134020618556701"
      ]
     },
     "execution_count": 23,
     "metadata": {},
     "output_type": "execute_result"
    }
   ],
   "source": [
    "model = DecisionTreeClassifier()\n",
    "model.fit(X_train, y_train)\n",
    "model.score(X_test, y_test)"
   ]
  },
  {
   "cell_type": "code",
   "execution_count": 24,
   "metadata": {},
   "outputs": [
    {
     "data": {
      "text/plain": [
       "array(['San Diego, CA'], dtype=object)"
      ]
     },
     "execution_count": 24,
     "metadata": {},
     "output_type": "execute_result"
    }
   ],
   "source": [
    "data_point = [[15, 10]]\n",
    "\n",
    "model.predict(data_point)"
   ]
  },
  {
   "cell_type": "markdown",
   "metadata": {},
   "source": [
    "# Let's keep same period of time and add humidity"
   ]
  },
  {
   "cell_type": "code",
   "execution_count": 25,
   "metadata": {},
   "outputs": [],
   "source": [
    "y = df_new[\"City\"]"
   ]
  },
  {
   "cell_type": "code",
   "execution_count": 34,
   "metadata": {},
   "outputs": [],
   "source": [
    "X= df_new[[\"temp_max\", \"temp_min\", \"humidity\", \"windspeed\", \"precip\"]] #\"humidity\", \"windspeed\", \"precip\", \"snow\""
   ]
  },
  {
   "cell_type": "code",
   "execution_count": 35,
   "metadata": {},
   "outputs": [],
   "source": [
    "X_train, X_test, y_train, y_test = train_test_split(X, y, random_state=42)"
   ]
  },
  {
   "cell_type": "code",
   "execution_count": 36,
   "metadata": {},
   "outputs": [
    {
     "data": {
      "text/plain": [
       "0.1958762886597938"
      ]
     },
     "execution_count": 36,
     "metadata": {},
     "output_type": "execute_result"
    }
   ],
   "source": [
    "model = DecisionTreeClassifier()\n",
    "model.fit(X_train, y_train)\n",
    "model.score(X_test, y_test)"
   ]
  },
  {
   "cell_type": "code",
   "execution_count": 37,
   "metadata": {},
   "outputs": [
    {
     "ename": "ValueError",
     "evalue": "Number of features of the model must match the input. Model n_features is 5 and input n_features is 3 ",
     "output_type": "error",
     "traceback": [
      "\u001b[1;31m---------------------------------------------------------------------------\u001b[0m",
      "\u001b[1;31mValueError\u001b[0m                                Traceback (most recent call last)",
      "\u001b[1;32m<ipython-input-37-dbf87f66d4c1>\u001b[0m in \u001b[0;36m<module>\u001b[1;34m\u001b[0m\n\u001b[0;32m      2\u001b[0m \u001b[0mdata_point\u001b[0m \u001b[1;33m=\u001b[0m \u001b[1;33m[\u001b[0m\u001b[1;33m[\u001b[0m\u001b[1;33m-\u001b[0m\u001b[1;36m5\u001b[0m\u001b[1;33m,\u001b[0m \u001b[1;33m-\u001b[0m\u001b[1;36m10\u001b[0m\u001b[1;33m,\u001b[0m \u001b[1;36m80\u001b[0m\u001b[1;33m]\u001b[0m\u001b[1;33m]\u001b[0m\u001b[1;33m\u001b[0m\u001b[1;33m\u001b[0m\u001b[0m\n\u001b[0;32m      3\u001b[0m \u001b[1;33m\u001b[0m\u001b[0m\n\u001b[1;32m----> 4\u001b[1;33m \u001b[0mmodel\u001b[0m\u001b[1;33m.\u001b[0m\u001b[0mpredict\u001b[0m\u001b[1;33m(\u001b[0m\u001b[0mdata_point\u001b[0m\u001b[1;33m)\u001b[0m\u001b[1;33m\u001b[0m\u001b[1;33m\u001b[0m\u001b[0m\n\u001b[0m",
      "\u001b[1;32m~\\anaconda3\\lib\\site-packages\\sklearn\\tree\\_classes.py\u001b[0m in \u001b[0;36mpredict\u001b[1;34m(self, X, check_input)\u001b[0m\n\u001b[0;32m    425\u001b[0m         \"\"\"\n\u001b[0;32m    426\u001b[0m         \u001b[0mcheck_is_fitted\u001b[0m\u001b[1;33m(\u001b[0m\u001b[0mself\u001b[0m\u001b[1;33m)\u001b[0m\u001b[1;33m\u001b[0m\u001b[1;33m\u001b[0m\u001b[0m\n\u001b[1;32m--> 427\u001b[1;33m         \u001b[0mX\u001b[0m \u001b[1;33m=\u001b[0m \u001b[0mself\u001b[0m\u001b[1;33m.\u001b[0m\u001b[0m_validate_X_predict\u001b[0m\u001b[1;33m(\u001b[0m\u001b[0mX\u001b[0m\u001b[1;33m,\u001b[0m \u001b[0mcheck_input\u001b[0m\u001b[1;33m)\u001b[0m\u001b[1;33m\u001b[0m\u001b[1;33m\u001b[0m\u001b[0m\n\u001b[0m\u001b[0;32m    428\u001b[0m         \u001b[0mproba\u001b[0m \u001b[1;33m=\u001b[0m \u001b[0mself\u001b[0m\u001b[1;33m.\u001b[0m\u001b[0mtree_\u001b[0m\u001b[1;33m.\u001b[0m\u001b[0mpredict\u001b[0m\u001b[1;33m(\u001b[0m\u001b[0mX\u001b[0m\u001b[1;33m)\u001b[0m\u001b[1;33m\u001b[0m\u001b[1;33m\u001b[0m\u001b[0m\n\u001b[0;32m    429\u001b[0m         \u001b[0mn_samples\u001b[0m \u001b[1;33m=\u001b[0m \u001b[0mX\u001b[0m\u001b[1;33m.\u001b[0m\u001b[0mshape\u001b[0m\u001b[1;33m[\u001b[0m\u001b[1;36m0\u001b[0m\u001b[1;33m]\u001b[0m\u001b[1;33m\u001b[0m\u001b[1;33m\u001b[0m\u001b[0m\n",
      "\u001b[1;32m~\\anaconda3\\lib\\site-packages\\sklearn\\tree\\_classes.py\u001b[0m in \u001b[0;36m_validate_X_predict\u001b[1;34m(self, X, check_input)\u001b[0m\n\u001b[0;32m    394\u001b[0m         \u001b[0mn_features\u001b[0m \u001b[1;33m=\u001b[0m \u001b[0mX\u001b[0m\u001b[1;33m.\u001b[0m\u001b[0mshape\u001b[0m\u001b[1;33m[\u001b[0m\u001b[1;36m1\u001b[0m\u001b[1;33m]\u001b[0m\u001b[1;33m\u001b[0m\u001b[1;33m\u001b[0m\u001b[0m\n\u001b[0;32m    395\u001b[0m         \u001b[1;32mif\u001b[0m \u001b[0mself\u001b[0m\u001b[1;33m.\u001b[0m\u001b[0mn_features_\u001b[0m \u001b[1;33m!=\u001b[0m \u001b[0mn_features\u001b[0m\u001b[1;33m:\u001b[0m\u001b[1;33m\u001b[0m\u001b[1;33m\u001b[0m\u001b[0m\n\u001b[1;32m--> 396\u001b[1;33m             raise ValueError(\"Number of features of the model must \"\n\u001b[0m\u001b[0;32m    397\u001b[0m                              \u001b[1;34m\"match the input. Model n_features is %s and \"\u001b[0m\u001b[1;33m\u001b[0m\u001b[1;33m\u001b[0m\u001b[0m\n\u001b[0;32m    398\u001b[0m                              \u001b[1;34m\"input n_features is %s \"\u001b[0m\u001b[1;33m\u001b[0m\u001b[1;33m\u001b[0m\u001b[0m\n",
      "\u001b[1;31mValueError\u001b[0m: Number of features of the model must match the input. Model n_features is 5 and input n_features is 3 "
     ]
    }
   ],
   "source": [
    "#For humidity, maybe the user inputs very high high, medium or low --> very high 80 , high 65, medium 40, low 20\n",
    "data_point = [[-5, -10, 80]]\n",
    "\n",
    "model.predict(data_point)"
   ]
  },
  {
   "cell_type": "code",
   "execution_count": null,
   "metadata": {},
   "outputs": [],
   "source": []
  }
 ],
 "metadata": {
  "kernelspec": {
   "display_name": "Python 3",
   "language": "python",
   "name": "python3"
  },
  "language_info": {
   "codemirror_mode": {
    "name": "ipython",
    "version": 3
   },
   "file_extension": ".py",
   "mimetype": "text/x-python",
   "name": "python",
   "nbconvert_exporter": "python",
   "pygments_lexer": "ipython3",
   "version": "3.8.3"
  }
 },
 "nbformat": 4,
 "nbformat_minor": 4
}
