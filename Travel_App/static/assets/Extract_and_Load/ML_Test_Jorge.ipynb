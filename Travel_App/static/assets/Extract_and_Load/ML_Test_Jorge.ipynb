{
 "cells": [
  {
   "cell_type": "markdown",
   "metadata": {},
   "source": [
    "#Decision Tree Test - exploring data"
   ]
  },
  {
   "cell_type": "code",
   "execution_count": null,
   "metadata": {},
   "outputs": [],
   "source": [
    "#Initial test: Creating a decision tree. Decision tree just uses max and min temp as x values (for now), to predict a city"
   ]
  },
  {
   "cell_type": "code",
   "execution_count": 1,
   "metadata": {},
   "outputs": [],
   "source": [
    "import matplotlib.pyplot as plt\n",
    "from sklearn.neighbors import KNeighborsClassifier\n",
    "import pandas as pd\n",
    "import os"
   ]
  },
  {
   "cell_type": "code",
   "execution_count": 27,
   "metadata": {},
   "outputs": [],
   "source": [
    "df = pd.read_csv(os.path.join(\"Temperature_Dataset1.csv\"))"
   ]
  },
  {
   "cell_type": "code",
   "execution_count": 28,
   "metadata": {},
   "outputs": [
    {
     "data": {
      "text/html": [
       "<div>\n",
       "<style scoped>\n",
       "    .dataframe tbody tr th:only-of-type {\n",
       "        vertical-align: middle;\n",
       "    }\n",
       "\n",
       "    .dataframe tbody tr th {\n",
       "        vertical-align: top;\n",
       "    }\n",
       "\n",
       "    .dataframe thead th {\n",
       "        text-align: right;\n",
       "    }\n",
       "</style>\n",
       "<table border=\"1\" class=\"dataframe\">\n",
       "  <thead>\n",
       "    <tr style=\"text-align: right;\">\n",
       "      <th></th>\n",
       "      <th>City</th>\n",
       "      <th>Date</th>\n",
       "      <th>Temperature</th>\n",
       "      <th>temp_max</th>\n",
       "      <th>temp_min</th>\n",
       "      <th>humidity</th>\n",
       "      <th>precip</th>\n",
       "      <th>snow</th>\n",
       "      <th>windspeed</th>\n",
       "      <th>conditions</th>\n",
       "    </tr>\n",
       "  </thead>\n",
       "  <tbody>\n",
       "    <tr>\n",
       "      <th>0</th>\n",
       "      <td>Montreal, QC</td>\n",
       "      <td>2020-01-01</td>\n",
       "      <td>0.2</td>\n",
       "      <td>1.1</td>\n",
       "      <td>-0.8</td>\n",
       "      <td>87.84</td>\n",
       "      <td>5.71</td>\n",
       "      <td>0.00</td>\n",
       "      <td>7.9</td>\n",
       "      <td>Rain</td>\n",
       "    </tr>\n",
       "    <tr>\n",
       "      <th>1</th>\n",
       "      <td>Montreal, QC</td>\n",
       "      <td>2020-01-02</td>\n",
       "      <td>0.9</td>\n",
       "      <td>2.6</td>\n",
       "      <td>-1.0</td>\n",
       "      <td>78.70</td>\n",
       "      <td>0.00</td>\n",
       "      <td>0.00</td>\n",
       "      <td>7.7</td>\n",
       "      <td>Clear</td>\n",
       "    </tr>\n",
       "    <tr>\n",
       "      <th>2</th>\n",
       "      <td>Montreal, QC</td>\n",
       "      <td>2020-01-03</td>\n",
       "      <td>4.8</td>\n",
       "      <td>5.8</td>\n",
       "      <td>2.8</td>\n",
       "      <td>74.88</td>\n",
       "      <td>0.00</td>\n",
       "      <td>0.00</td>\n",
       "      <td>7.6</td>\n",
       "      <td>Clear</td>\n",
       "    </tr>\n",
       "    <tr>\n",
       "      <th>3</th>\n",
       "      <td>Montreal, QC</td>\n",
       "      <td>2020-01-04</td>\n",
       "      <td>0.5</td>\n",
       "      <td>3.2</td>\n",
       "      <td>-1.9</td>\n",
       "      <td>78.79</td>\n",
       "      <td>2.27</td>\n",
       "      <td>0.00</td>\n",
       "      <td>11.2</td>\n",
       "      <td>Rain</td>\n",
       "    </tr>\n",
       "    <tr>\n",
       "      <th>4</th>\n",
       "      <td>Montreal, QC</td>\n",
       "      <td>2020-01-05</td>\n",
       "      <td>-5.3</td>\n",
       "      <td>-1.8</td>\n",
       "      <td>-9.9</td>\n",
       "      <td>69.09</td>\n",
       "      <td>0.76</td>\n",
       "      <td>3.88</td>\n",
       "      <td>13.1</td>\n",
       "      <td>Snow</td>\n",
       "    </tr>\n",
       "    <tr>\n",
       "      <th>...</th>\n",
       "      <td>...</td>\n",
       "      <td>...</td>\n",
       "      <td>...</td>\n",
       "      <td>...</td>\n",
       "      <td>...</td>\n",
       "      <td>...</td>\n",
       "      <td>...</td>\n",
       "      <td>...</td>\n",
       "      <td>...</td>\n",
       "      <td>...</td>\n",
       "    </tr>\n",
       "    <tr>\n",
       "      <th>12805</th>\n",
       "      <td>Washington, DC</td>\n",
       "      <td>2020-12-27</td>\n",
       "      <td>1.0</td>\n",
       "      <td>5.6</td>\n",
       "      <td>-3.6</td>\n",
       "      <td>60.64</td>\n",
       "      <td>0.00</td>\n",
       "      <td>0.00</td>\n",
       "      <td>17.2</td>\n",
       "      <td>Partially cloudy</td>\n",
       "    </tr>\n",
       "    <tr>\n",
       "      <th>12806</th>\n",
       "      <td>Washington, DC</td>\n",
       "      <td>2020-12-28</td>\n",
       "      <td>6.1</td>\n",
       "      <td>11.3</td>\n",
       "      <td>1.6</td>\n",
       "      <td>64.95</td>\n",
       "      <td>0.00</td>\n",
       "      <td>0.00</td>\n",
       "      <td>19.5</td>\n",
       "      <td>Partially cloudy</td>\n",
       "    </tr>\n",
       "    <tr>\n",
       "      <th>12807</th>\n",
       "      <td>Washington, DC</td>\n",
       "      <td>2020-12-29</td>\n",
       "      <td>3.8</td>\n",
       "      <td>6.2</td>\n",
       "      <td>0.3</td>\n",
       "      <td>46.13</td>\n",
       "      <td>0.00</td>\n",
       "      <td>0.00</td>\n",
       "      <td>32.7</td>\n",
       "      <td>Partially cloudy</td>\n",
       "    </tr>\n",
       "    <tr>\n",
       "      <th>12808</th>\n",
       "      <td>Washington, DC</td>\n",
       "      <td>2020-12-30</td>\n",
       "      <td>3.8</td>\n",
       "      <td>7.8</td>\n",
       "      <td>-0.3</td>\n",
       "      <td>52.82</td>\n",
       "      <td>0.00</td>\n",
       "      <td>0.00</td>\n",
       "      <td>29.0</td>\n",
       "      <td>Overcast</td>\n",
       "    </tr>\n",
       "    <tr>\n",
       "      <th>12809</th>\n",
       "      <td>Washington, DC</td>\n",
       "      <td>2020-12-31</td>\n",
       "      <td>8.1</td>\n",
       "      <td>12.8</td>\n",
       "      <td>4.4</td>\n",
       "      <td>70.87</td>\n",
       "      <td>0.00</td>\n",
       "      <td>0.00</td>\n",
       "      <td>28.8</td>\n",
       "      <td>Overcast</td>\n",
       "    </tr>\n",
       "  </tbody>\n",
       "</table>\n",
       "<p>12810 rows × 10 columns</p>\n",
       "</div>"
      ],
      "text/plain": [
       "                 City        Date  Temperature  temp_max  temp_min  humidity  \\\n",
       "0        Montreal, QC  2020-01-01          0.2       1.1      -0.8     87.84   \n",
       "1        Montreal, QC  2020-01-02          0.9       2.6      -1.0     78.70   \n",
       "2        Montreal, QC  2020-01-03          4.8       5.8       2.8     74.88   \n",
       "3        Montreal, QC  2020-01-04          0.5       3.2      -1.9     78.79   \n",
       "4        Montreal, QC  2020-01-05         -5.3      -1.8      -9.9     69.09   \n",
       "...               ...         ...          ...       ...       ...       ...   \n",
       "12805  Washington, DC  2020-12-27          1.0       5.6      -3.6     60.64   \n",
       "12806  Washington, DC  2020-12-28          6.1      11.3       1.6     64.95   \n",
       "12807  Washington, DC  2020-12-29          3.8       6.2       0.3     46.13   \n",
       "12808  Washington, DC  2020-12-30          3.8       7.8      -0.3     52.82   \n",
       "12809  Washington, DC  2020-12-31          8.1      12.8       4.4     70.87   \n",
       "\n",
       "       precip  snow  windspeed        conditions  \n",
       "0        5.71  0.00        7.9              Rain  \n",
       "1        0.00  0.00        7.7             Clear  \n",
       "2        0.00  0.00        7.6             Clear  \n",
       "3        2.27  0.00       11.2              Rain  \n",
       "4        0.76  3.88       13.1              Snow  \n",
       "...       ...   ...        ...               ...  \n",
       "12805    0.00  0.00       17.2  Partially cloudy  \n",
       "12806    0.00  0.00       19.5  Partially cloudy  \n",
       "12807    0.00  0.00       32.7  Partially cloudy  \n",
       "12808    0.00  0.00       29.0          Overcast  \n",
       "12809    0.00  0.00       28.8          Overcast  \n",
       "\n",
       "[12810 rows x 10 columns]"
      ]
     },
     "execution_count": 28,
     "metadata": {},
     "output_type": "execute_result"
    }
   ],
   "source": [
    "df"
   ]
  },
  {
   "cell_type": "code",
   "execution_count": 4,
   "metadata": {},
   "outputs": [],
   "source": [
    "y = df[\"City\"]"
   ]
  },
  {
   "cell_type": "code",
   "execution_count": 7,
   "metadata": {},
   "outputs": [],
   "source": [
    "X= df[[\"temp_max\", \"temp_min\"]]"
   ]
  },
  {
   "cell_type": "code",
   "execution_count": 9,
   "metadata": {},
   "outputs": [
    {
     "data": {
      "text/plain": [
       "((12810, 2), (12810,))"
      ]
     },
     "execution_count": 9,
     "metadata": {},
     "output_type": "execute_result"
    }
   ],
   "source": [
    "X.shape, y.shape"
   ]
  },
  {
   "cell_type": "code",
   "execution_count": 10,
   "metadata": {},
   "outputs": [],
   "source": [
    "from sklearn.model_selection import train_test_split\n",
    "X_train, X_test, y_train, y_test = train_test_split(X, y, random_state=42)"
   ]
  },
  {
   "cell_type": "code",
   "execution_count": 11,
   "metadata": {},
   "outputs": [],
   "source": [
    "from sklearn.tree import DecisionTreeClassifier"
   ]
  },
  {
   "cell_type": "code",
   "execution_count": 13,
   "metadata": {},
   "outputs": [
    {
     "data": {
      "text/plain": [
       "0.10739931314392757"
      ]
     },
     "execution_count": 13,
     "metadata": {},
     "output_type": "execute_result"
    }
   ],
   "source": [
    "model = DecisionTreeClassifier()\n",
    "model.fit(X_train, y_train)\n",
    "model.score(X_test, y_test)"
   ]
  },
  {
   "cell_type": "code",
   "execution_count": 14,
   "metadata": {},
   "outputs": [],
   "source": [
    "predictions = model.predict(X_test)"
   ]
  },
  {
   "cell_type": "code",
   "execution_count": 15,
   "metadata": {},
   "outputs": [
    {
     "data": {
      "text/plain": [
       "array(['New Brunswick, NB', 'Washington, DC', 'New Brunswick, NB', ...,\n",
       "       'Los Angeles, CA', 'San Francisco, CA', 'Cambridge, MA'],\n",
       "      dtype=object)"
      ]
     },
     "execution_count": 15,
     "metadata": {},
     "output_type": "execute_result"
    }
   ],
   "source": [
    "predictions"
   ]
  },
  {
   "cell_type": "code",
   "execution_count": 16,
   "metadata": {},
   "outputs": [
    {
     "data": {
      "text/plain": [
       "772                  Ottawa, ON\n",
       "10196             San Diego, CA\n",
       "385           New Brunswick, NB\n",
       "4269                Chicago, IL\n",
       "8                  Montreal, QC\n",
       "                  ...          \n",
       "10423         San Francisco, CA\n",
       "11170    Santa Clara County, CA\n",
       "957                  Ottawa, ON\n",
       "2110              Vancouver, BC\n",
       "8544          Pacific Grove, CA\n",
       "Name: City, Length: 3203, dtype: object"
      ]
     },
     "execution_count": 16,
     "metadata": {},
     "output_type": "execute_result"
    }
   ],
   "source": []
  },
  {
   "cell_type": "code",
   "execution_count": 19,
   "metadata": {},
   "outputs": [
    {
     "data": {
      "text/plain": [
       "array(['Vancouver, BC'], dtype=object)"
      ]
     },
     "execution_count": 19,
     "metadata": {},
     "output_type": "execute_result"
    }
   ],
   "source": [
    "data_point = [[-2, 8]]\n",
    "\n",
    "model.predict(data_point)"
   ]
  },
  {
   "cell_type": "markdown",
   "metadata": {},
   "source": [
    "# Let's reduce dataset to Dec. 20 - Dec. 21 to see if model score increases (Only Max. and Min. temp)"
   ]
  },
  {
   "cell_type": "code",
   "execution_count": 31,
   "metadata": {},
   "outputs": [
    {
     "data": {
      "text/plain": [
       "City                   object\n",
       "Date                   object\n",
       "Temperature           float64\n",
       "temp_max              float64\n",
       "temp_min              float64\n",
       "humidity              float64\n",
       "precip                float64\n",
       "snow                  float64\n",
       "windspeed             float64\n",
       "conditions             object\n",
       "Time_stamp     datetime64[ns]\n",
       "dtype: object"
      ]
     },
     "execution_count": 31,
     "metadata": {},
     "output_type": "execute_result"
    }
   ],
   "source": [
    "# 1.We find the variable types of each column - We need to change date to a date-time variable\n",
    "df.dtypes"
   ]
  },
  {
   "cell_type": "code",
   "execution_count": 30,
   "metadata": {},
   "outputs": [],
   "source": [
    "# We create a column with date as a datetime\n",
    "df['Time_stamp'] = pd.to_datetime(df['Date'].str.strip(), format='%Y/%m/%d')"
   ]
  },
  {
   "cell_type": "code",
   "execution_count": 33,
   "metadata": {},
   "outputs": [],
   "source": [
    "#User would imput this value\n",
    "df['day'] = df.Time_stamp.dt.day\n",
    "df['month'] = df.Time_stamp.dt.month\n",
    "df['year'] = df.Time_stamp.dt.year"
   ]
  },
  {
   "cell_type": "code",
   "execution_count": 71,
   "metadata": {},
   "outputs": [
    {
     "data": {
      "text/html": [
       "<div>\n",
       "<style scoped>\n",
       "    .dataframe tbody tr th:only-of-type {\n",
       "        vertical-align: middle;\n",
       "    }\n",
       "\n",
       "    .dataframe tbody tr th {\n",
       "        vertical-align: top;\n",
       "    }\n",
       "\n",
       "    .dataframe thead th {\n",
       "        text-align: right;\n",
       "    }\n",
       "</style>\n",
       "<table border=\"1\" class=\"dataframe\">\n",
       "  <thead>\n",
       "    <tr style=\"text-align: right;\">\n",
       "      <th></th>\n",
       "      <th>City</th>\n",
       "      <th>Date</th>\n",
       "      <th>Temperature</th>\n",
       "      <th>temp_max</th>\n",
       "      <th>temp_min</th>\n",
       "      <th>humidity</th>\n",
       "      <th>precip</th>\n",
       "      <th>snow</th>\n",
       "      <th>windspeed</th>\n",
       "      <th>conditions</th>\n",
       "      <th>Time_stamp</th>\n",
       "      <th>day</th>\n",
       "      <th>month</th>\n",
       "      <th>year</th>\n",
       "    </tr>\n",
       "  </thead>\n",
       "  <tbody>\n",
       "    <tr>\n",
       "      <th>0</th>\n",
       "      <td>Montreal, QC</td>\n",
       "      <td>2020-01-01</td>\n",
       "      <td>0.2</td>\n",
       "      <td>1.1</td>\n",
       "      <td>-0.8</td>\n",
       "      <td>87.84</td>\n",
       "      <td>5.71</td>\n",
       "      <td>0.00</td>\n",
       "      <td>7.9</td>\n",
       "      <td>Rain</td>\n",
       "      <td>2020-01-01</td>\n",
       "      <td>1</td>\n",
       "      <td>1</td>\n",
       "      <td>2020</td>\n",
       "    </tr>\n",
       "    <tr>\n",
       "      <th>1</th>\n",
       "      <td>Montreal, QC</td>\n",
       "      <td>2020-01-02</td>\n",
       "      <td>0.9</td>\n",
       "      <td>2.6</td>\n",
       "      <td>-1.0</td>\n",
       "      <td>78.70</td>\n",
       "      <td>0.00</td>\n",
       "      <td>0.00</td>\n",
       "      <td>7.7</td>\n",
       "      <td>Clear</td>\n",
       "      <td>2020-01-02</td>\n",
       "      <td>2</td>\n",
       "      <td>1</td>\n",
       "      <td>2020</td>\n",
       "    </tr>\n",
       "    <tr>\n",
       "      <th>2</th>\n",
       "      <td>Montreal, QC</td>\n",
       "      <td>2020-01-03</td>\n",
       "      <td>4.8</td>\n",
       "      <td>5.8</td>\n",
       "      <td>2.8</td>\n",
       "      <td>74.88</td>\n",
       "      <td>0.00</td>\n",
       "      <td>0.00</td>\n",
       "      <td>7.6</td>\n",
       "      <td>Clear</td>\n",
       "      <td>2020-01-03</td>\n",
       "      <td>3</td>\n",
       "      <td>1</td>\n",
       "      <td>2020</td>\n",
       "    </tr>\n",
       "    <tr>\n",
       "      <th>3</th>\n",
       "      <td>Montreal, QC</td>\n",
       "      <td>2020-01-04</td>\n",
       "      <td>0.5</td>\n",
       "      <td>3.2</td>\n",
       "      <td>-1.9</td>\n",
       "      <td>78.79</td>\n",
       "      <td>2.27</td>\n",
       "      <td>0.00</td>\n",
       "      <td>11.2</td>\n",
       "      <td>Rain</td>\n",
       "      <td>2020-01-04</td>\n",
       "      <td>4</td>\n",
       "      <td>1</td>\n",
       "      <td>2020</td>\n",
       "    </tr>\n",
       "    <tr>\n",
       "      <th>4</th>\n",
       "      <td>Montreal, QC</td>\n",
       "      <td>2020-01-05</td>\n",
       "      <td>-5.3</td>\n",
       "      <td>-1.8</td>\n",
       "      <td>-9.9</td>\n",
       "      <td>69.09</td>\n",
       "      <td>0.76</td>\n",
       "      <td>3.88</td>\n",
       "      <td>13.1</td>\n",
       "      <td>Snow</td>\n",
       "      <td>2020-01-05</td>\n",
       "      <td>5</td>\n",
       "      <td>1</td>\n",
       "      <td>2020</td>\n",
       "    </tr>\n",
       "    <tr>\n",
       "      <th>...</th>\n",
       "      <td>...</td>\n",
       "      <td>...</td>\n",
       "      <td>...</td>\n",
       "      <td>...</td>\n",
       "      <td>...</td>\n",
       "      <td>...</td>\n",
       "      <td>...</td>\n",
       "      <td>...</td>\n",
       "      <td>...</td>\n",
       "      <td>...</td>\n",
       "      <td>...</td>\n",
       "      <td>...</td>\n",
       "      <td>...</td>\n",
       "      <td>...</td>\n",
       "    </tr>\n",
       "    <tr>\n",
       "      <th>12805</th>\n",
       "      <td>Washington, DC</td>\n",
       "      <td>2020-12-27</td>\n",
       "      <td>1.0</td>\n",
       "      <td>5.6</td>\n",
       "      <td>-3.6</td>\n",
       "      <td>60.64</td>\n",
       "      <td>0.00</td>\n",
       "      <td>0.00</td>\n",
       "      <td>17.2</td>\n",
       "      <td>Partially cloudy</td>\n",
       "      <td>2020-12-27</td>\n",
       "      <td>27</td>\n",
       "      <td>12</td>\n",
       "      <td>2020</td>\n",
       "    </tr>\n",
       "    <tr>\n",
       "      <th>12806</th>\n",
       "      <td>Washington, DC</td>\n",
       "      <td>2020-12-28</td>\n",
       "      <td>6.1</td>\n",
       "      <td>11.3</td>\n",
       "      <td>1.6</td>\n",
       "      <td>64.95</td>\n",
       "      <td>0.00</td>\n",
       "      <td>0.00</td>\n",
       "      <td>19.5</td>\n",
       "      <td>Partially cloudy</td>\n",
       "      <td>2020-12-28</td>\n",
       "      <td>28</td>\n",
       "      <td>12</td>\n",
       "      <td>2020</td>\n",
       "    </tr>\n",
       "    <tr>\n",
       "      <th>12807</th>\n",
       "      <td>Washington, DC</td>\n",
       "      <td>2020-12-29</td>\n",
       "      <td>3.8</td>\n",
       "      <td>6.2</td>\n",
       "      <td>0.3</td>\n",
       "      <td>46.13</td>\n",
       "      <td>0.00</td>\n",
       "      <td>0.00</td>\n",
       "      <td>32.7</td>\n",
       "      <td>Partially cloudy</td>\n",
       "      <td>2020-12-29</td>\n",
       "      <td>29</td>\n",
       "      <td>12</td>\n",
       "      <td>2020</td>\n",
       "    </tr>\n",
       "    <tr>\n",
       "      <th>12808</th>\n",
       "      <td>Washington, DC</td>\n",
       "      <td>2020-12-30</td>\n",
       "      <td>3.8</td>\n",
       "      <td>7.8</td>\n",
       "      <td>-0.3</td>\n",
       "      <td>52.82</td>\n",
       "      <td>0.00</td>\n",
       "      <td>0.00</td>\n",
       "      <td>29.0</td>\n",
       "      <td>Overcast</td>\n",
       "      <td>2020-12-30</td>\n",
       "      <td>30</td>\n",
       "      <td>12</td>\n",
       "      <td>2020</td>\n",
       "    </tr>\n",
       "    <tr>\n",
       "      <th>12809</th>\n",
       "      <td>Washington, DC</td>\n",
       "      <td>2020-12-31</td>\n",
       "      <td>8.1</td>\n",
       "      <td>12.8</td>\n",
       "      <td>4.4</td>\n",
       "      <td>70.87</td>\n",
       "      <td>0.00</td>\n",
       "      <td>0.00</td>\n",
       "      <td>28.8</td>\n",
       "      <td>Overcast</td>\n",
       "      <td>2020-12-31</td>\n",
       "      <td>31</td>\n",
       "      <td>12</td>\n",
       "      <td>2020</td>\n",
       "    </tr>\n",
       "  </tbody>\n",
       "</table>\n",
       "<p>12810 rows × 14 columns</p>\n",
       "</div>"
      ],
      "text/plain": [
       "                 City        Date  Temperature  temp_max  temp_min  humidity  \\\n",
       "0        Montreal, QC  2020-01-01          0.2       1.1      -0.8     87.84   \n",
       "1        Montreal, QC  2020-01-02          0.9       2.6      -1.0     78.70   \n",
       "2        Montreal, QC  2020-01-03          4.8       5.8       2.8     74.88   \n",
       "3        Montreal, QC  2020-01-04          0.5       3.2      -1.9     78.79   \n",
       "4        Montreal, QC  2020-01-05         -5.3      -1.8      -9.9     69.09   \n",
       "...               ...         ...          ...       ...       ...       ...   \n",
       "12805  Washington, DC  2020-12-27          1.0       5.6      -3.6     60.64   \n",
       "12806  Washington, DC  2020-12-28          6.1      11.3       1.6     64.95   \n",
       "12807  Washington, DC  2020-12-29          3.8       6.2       0.3     46.13   \n",
       "12808  Washington, DC  2020-12-30          3.8       7.8      -0.3     52.82   \n",
       "12809  Washington, DC  2020-12-31          8.1      12.8       4.4     70.87   \n",
       "\n",
       "       precip  snow  windspeed        conditions Time_stamp  day  month  year  \n",
       "0        5.71  0.00        7.9              Rain 2020-01-01    1      1  2020  \n",
       "1        0.00  0.00        7.7             Clear 2020-01-02    2      1  2020  \n",
       "2        0.00  0.00        7.6             Clear 2020-01-03    3      1  2020  \n",
       "3        2.27  0.00       11.2              Rain 2020-01-04    4      1  2020  \n",
       "4        0.76  3.88       13.1              Snow 2020-01-05    5      1  2020  \n",
       "...       ...   ...        ...               ...        ...  ...    ...   ...  \n",
       "12805    0.00  0.00       17.2  Partially cloudy 2020-12-27   27     12  2020  \n",
       "12806    0.00  0.00       19.5  Partially cloudy 2020-12-28   28     12  2020  \n",
       "12807    0.00  0.00       32.7  Partially cloudy 2020-12-29   29     12  2020  \n",
       "12808    0.00  0.00       29.0          Overcast 2020-12-30   30     12  2020  \n",
       "12809    0.00  0.00       28.8          Overcast 2020-12-31   31     12  2020  \n",
       "\n",
       "[12810 rows x 14 columns]"
      ]
     },
     "execution_count": 71,
     "metadata": {},
     "output_type": "execute_result"
    }
   ],
   "source": [
    "df"
   ]
  },
  {
   "cell_type": "code",
   "execution_count": 37,
   "metadata": {},
   "outputs": [],
   "source": [
    "#Ansers to be provided by user\n",
    "Month = 12\n",
    "Start_Day = 21\n",
    "End_Day = 31\n"
   ]
  },
  {
   "cell_type": "code",
   "execution_count": 39,
   "metadata": {},
   "outputs": [],
   "source": [
    "df_new = df[(df.month == Month) & (df.day >= Start_Day) & (df.day <= End_Day)]"
   ]
  },
  {
   "cell_type": "code",
   "execution_count": 56,
   "metadata": {},
   "outputs": [
    {
     "data": {
      "text/html": [
       "<div>\n",
       "<style scoped>\n",
       "    .dataframe tbody tr th:only-of-type {\n",
       "        vertical-align: middle;\n",
       "    }\n",
       "\n",
       "    .dataframe tbody tr th {\n",
       "        vertical-align: top;\n",
       "    }\n",
       "\n",
       "    .dataframe thead th {\n",
       "        text-align: right;\n",
       "    }\n",
       "</style>\n",
       "<table border=\"1\" class=\"dataframe\">\n",
       "  <thead>\n",
       "    <tr style=\"text-align: right;\">\n",
       "      <th></th>\n",
       "      <th>City</th>\n",
       "      <th>Date</th>\n",
       "      <th>Temperature</th>\n",
       "      <th>temp_max</th>\n",
       "      <th>temp_min</th>\n",
       "      <th>humidity</th>\n",
       "      <th>precip</th>\n",
       "      <th>snow</th>\n",
       "      <th>windspeed</th>\n",
       "      <th>conditions</th>\n",
       "      <th>Time_stamp</th>\n",
       "      <th>day</th>\n",
       "      <th>month</th>\n",
       "      <th>year</th>\n",
       "    </tr>\n",
       "  </thead>\n",
       "  <tbody>\n",
       "    <tr>\n",
       "      <th>355</th>\n",
       "      <td>Montreal, QC</td>\n",
       "      <td>2020-12-21</td>\n",
       "      <td>1.3</td>\n",
       "      <td>3.1</td>\n",
       "      <td>0.0</td>\n",
       "      <td>86.73</td>\n",
       "      <td>0.96</td>\n",
       "      <td>4.00</td>\n",
       "      <td>7.7</td>\n",
       "      <td>Snow</td>\n",
       "      <td>2020-12-21</td>\n",
       "      <td>21</td>\n",
       "      <td>12</td>\n",
       "      <td>2020</td>\n",
       "    </tr>\n",
       "    <tr>\n",
       "      <th>356</th>\n",
       "      <td>Montreal, QC</td>\n",
       "      <td>2020-12-22</td>\n",
       "      <td>0.2</td>\n",
       "      <td>1.9</td>\n",
       "      <td>-5.6</td>\n",
       "      <td>87.84</td>\n",
       "      <td>4.70</td>\n",
       "      <td>0.00</td>\n",
       "      <td>9.6</td>\n",
       "      <td>Rain</td>\n",
       "      <td>2020-12-22</td>\n",
       "      <td>22</td>\n",
       "      <td>12</td>\n",
       "      <td>2020</td>\n",
       "    </tr>\n",
       "    <tr>\n",
       "      <th>357</th>\n",
       "      <td>Montreal, QC</td>\n",
       "      <td>2020-12-23</td>\n",
       "      <td>-5.3</td>\n",
       "      <td>1.0</td>\n",
       "      <td>-9.2</td>\n",
       "      <td>72.31</td>\n",
       "      <td>2.99</td>\n",
       "      <td>0.00</td>\n",
       "      <td>11.3</td>\n",
       "      <td>Snow</td>\n",
       "      <td>2020-12-23</td>\n",
       "      <td>23</td>\n",
       "      <td>12</td>\n",
       "      <td>2020</td>\n",
       "    </tr>\n",
       "    <tr>\n",
       "      <th>358</th>\n",
       "      <td>Montreal, QC</td>\n",
       "      <td>2020-12-24</td>\n",
       "      <td>5.4</td>\n",
       "      <td>8.7</td>\n",
       "      <td>1.3</td>\n",
       "      <td>79.80</td>\n",
       "      <td>19.43</td>\n",
       "      <td>1.92</td>\n",
       "      <td>11.6</td>\n",
       "      <td>Snow</td>\n",
       "      <td>2020-12-24</td>\n",
       "      <td>24</td>\n",
       "      <td>12</td>\n",
       "      <td>2020</td>\n",
       "    </tr>\n",
       "    <tr>\n",
       "      <th>359</th>\n",
       "      <td>Montreal, QC</td>\n",
       "      <td>2020-12-25</td>\n",
       "      <td>7.6</td>\n",
       "      <td>13.4</td>\n",
       "      <td>0.6</td>\n",
       "      <td>90.44</td>\n",
       "      <td>34.46</td>\n",
       "      <td>0.63</td>\n",
       "      <td>11.5</td>\n",
       "      <td>Snow</td>\n",
       "      <td>2020-12-25</td>\n",
       "      <td>25</td>\n",
       "      <td>12</td>\n",
       "      <td>2020</td>\n",
       "    </tr>\n",
       "    <tr>\n",
       "      <th>...</th>\n",
       "      <td>...</td>\n",
       "      <td>...</td>\n",
       "      <td>...</td>\n",
       "      <td>...</td>\n",
       "      <td>...</td>\n",
       "      <td>...</td>\n",
       "      <td>...</td>\n",
       "      <td>...</td>\n",
       "      <td>...</td>\n",
       "      <td>...</td>\n",
       "      <td>...</td>\n",
       "      <td>...</td>\n",
       "      <td>...</td>\n",
       "      <td>...</td>\n",
       "    </tr>\n",
       "    <tr>\n",
       "      <th>12805</th>\n",
       "      <td>Washington, DC</td>\n",
       "      <td>2020-12-27</td>\n",
       "      <td>1.0</td>\n",
       "      <td>5.6</td>\n",
       "      <td>-3.6</td>\n",
       "      <td>60.64</td>\n",
       "      <td>0.00</td>\n",
       "      <td>0.00</td>\n",
       "      <td>17.2</td>\n",
       "      <td>Partially cloudy</td>\n",
       "      <td>2020-12-27</td>\n",
       "      <td>27</td>\n",
       "      <td>12</td>\n",
       "      <td>2020</td>\n",
       "    </tr>\n",
       "    <tr>\n",
       "      <th>12806</th>\n",
       "      <td>Washington, DC</td>\n",
       "      <td>2020-12-28</td>\n",
       "      <td>6.1</td>\n",
       "      <td>11.3</td>\n",
       "      <td>1.6</td>\n",
       "      <td>64.95</td>\n",
       "      <td>0.00</td>\n",
       "      <td>0.00</td>\n",
       "      <td>19.5</td>\n",
       "      <td>Partially cloudy</td>\n",
       "      <td>2020-12-28</td>\n",
       "      <td>28</td>\n",
       "      <td>12</td>\n",
       "      <td>2020</td>\n",
       "    </tr>\n",
       "    <tr>\n",
       "      <th>12807</th>\n",
       "      <td>Washington, DC</td>\n",
       "      <td>2020-12-29</td>\n",
       "      <td>3.8</td>\n",
       "      <td>6.2</td>\n",
       "      <td>0.3</td>\n",
       "      <td>46.13</td>\n",
       "      <td>0.00</td>\n",
       "      <td>0.00</td>\n",
       "      <td>32.7</td>\n",
       "      <td>Partially cloudy</td>\n",
       "      <td>2020-12-29</td>\n",
       "      <td>29</td>\n",
       "      <td>12</td>\n",
       "      <td>2020</td>\n",
       "    </tr>\n",
       "    <tr>\n",
       "      <th>12808</th>\n",
       "      <td>Washington, DC</td>\n",
       "      <td>2020-12-30</td>\n",
       "      <td>3.8</td>\n",
       "      <td>7.8</td>\n",
       "      <td>-0.3</td>\n",
       "      <td>52.82</td>\n",
       "      <td>0.00</td>\n",
       "      <td>0.00</td>\n",
       "      <td>29.0</td>\n",
       "      <td>Overcast</td>\n",
       "      <td>2020-12-30</td>\n",
       "      <td>30</td>\n",
       "      <td>12</td>\n",
       "      <td>2020</td>\n",
       "    </tr>\n",
       "    <tr>\n",
       "      <th>12809</th>\n",
       "      <td>Washington, DC</td>\n",
       "      <td>2020-12-31</td>\n",
       "      <td>8.1</td>\n",
       "      <td>12.8</td>\n",
       "      <td>4.4</td>\n",
       "      <td>70.87</td>\n",
       "      <td>0.00</td>\n",
       "      <td>0.00</td>\n",
       "      <td>28.8</td>\n",
       "      <td>Overcast</td>\n",
       "      <td>2020-12-31</td>\n",
       "      <td>31</td>\n",
       "      <td>12</td>\n",
       "      <td>2020</td>\n",
       "    </tr>\n",
       "  </tbody>\n",
       "</table>\n",
       "<p>385 rows × 14 columns</p>\n",
       "</div>"
      ],
      "text/plain": [
       "                 City        Date  Temperature  temp_max  temp_min  humidity  \\\n",
       "355      Montreal, QC  2020-12-21          1.3       3.1       0.0     86.73   \n",
       "356      Montreal, QC  2020-12-22          0.2       1.9      -5.6     87.84   \n",
       "357      Montreal, QC  2020-12-23         -5.3       1.0      -9.2     72.31   \n",
       "358      Montreal, QC  2020-12-24          5.4       8.7       1.3     79.80   \n",
       "359      Montreal, QC  2020-12-25          7.6      13.4       0.6     90.44   \n",
       "...               ...         ...          ...       ...       ...       ...   \n",
       "12805  Washington, DC  2020-12-27          1.0       5.6      -3.6     60.64   \n",
       "12806  Washington, DC  2020-12-28          6.1      11.3       1.6     64.95   \n",
       "12807  Washington, DC  2020-12-29          3.8       6.2       0.3     46.13   \n",
       "12808  Washington, DC  2020-12-30          3.8       7.8      -0.3     52.82   \n",
       "12809  Washington, DC  2020-12-31          8.1      12.8       4.4     70.87   \n",
       "\n",
       "       precip  snow  windspeed        conditions Time_stamp  day  month  year  \n",
       "355      0.96  4.00        7.7              Snow 2020-12-21   21     12  2020  \n",
       "356      4.70  0.00        9.6              Rain 2020-12-22   22     12  2020  \n",
       "357      2.99  0.00       11.3              Snow 2020-12-23   23     12  2020  \n",
       "358     19.43  1.92       11.6              Snow 2020-12-24   24     12  2020  \n",
       "359     34.46  0.63       11.5              Snow 2020-12-25   25     12  2020  \n",
       "...       ...   ...        ...               ...        ...  ...    ...   ...  \n",
       "12805    0.00  0.00       17.2  Partially cloudy 2020-12-27   27     12  2020  \n",
       "12806    0.00  0.00       19.5  Partially cloudy 2020-12-28   28     12  2020  \n",
       "12807    0.00  0.00       32.7  Partially cloudy 2020-12-29   29     12  2020  \n",
       "12808    0.00  0.00       29.0          Overcast 2020-12-30   30     12  2020  \n",
       "12809    0.00  0.00       28.8          Overcast 2020-12-31   31     12  2020  \n",
       "\n",
       "[385 rows x 14 columns]"
      ]
     },
     "execution_count": 56,
     "metadata": {},
     "output_type": "execute_result"
    }
   ],
   "source": [
    "df_new"
   ]
  },
  {
   "cell_type": "code",
   "execution_count": 57,
   "metadata": {},
   "outputs": [],
   "source": [
    "y = df_new[\"City\"]"
   ]
  },
  {
   "cell_type": "code",
   "execution_count": 58,
   "metadata": {},
   "outputs": [],
   "source": [
    "X= df_new[[\"temp_max\", \"temp_min\"]]"
   ]
  },
  {
   "cell_type": "code",
   "execution_count": 59,
   "metadata": {},
   "outputs": [],
   "source": [
    "X_train, X_test, y_train, y_test = train_test_split(X, y, random_state=42)"
   ]
  },
  {
   "cell_type": "code",
   "execution_count": 60,
   "metadata": {},
   "outputs": [
    {
     "data": {
      "text/plain": [
       "0.10309278350515463"
      ]
     },
     "execution_count": 60,
     "metadata": {},
     "output_type": "execute_result"
    }
   ],
   "source": [
    "model = DecisionTreeClassifier()\n",
    "model.fit(X_train, y_train)\n",
    "model.score(X_test, y_test)"
   ]
  },
  {
   "cell_type": "code",
   "execution_count": 47,
   "metadata": {},
   "outputs": [
    {
     "data": {
      "text/plain": [
       "array(['Santa Cruz County, CA'], dtype=object)"
      ]
     },
     "execution_count": 47,
     "metadata": {},
     "output_type": "execute_result"
    }
   ],
   "source": [
    "data_point = [[15, 10]]\n",
    "\n",
    "model.predict(data_point)"
   ]
  },
  {
   "cell_type": "markdown",
   "metadata": {},
   "source": [
    "# Let's keep same period of time and add humidity"
   ]
  },
  {
   "cell_type": "code",
   "execution_count": 104,
   "metadata": {},
   "outputs": [],
   "source": [
    "y = df_new[\"City\"]"
   ]
  },
  {
   "cell_type": "code",
   "execution_count": 111,
   "metadata": {},
   "outputs": [],
   "source": [
    "X= df_new[[\"temp_max\", \"temp_min\", \"humidity\"]] #\"humidity\", \"windspeed\", \"precip\", \"snow\""
   ]
  },
  {
   "cell_type": "code",
   "execution_count": 112,
   "metadata": {},
   "outputs": [],
   "source": [
    "X_train, X_test, y_train, y_test = train_test_split(X, y, random_state=42)"
   ]
  },
  {
   "cell_type": "code",
   "execution_count": 113,
   "metadata": {},
   "outputs": [
    {
     "data": {
      "text/plain": [
       "0.1958762886597938"
      ]
     },
     "execution_count": 113,
     "metadata": {},
     "output_type": "execute_result"
    }
   ],
   "source": [
    "model = DecisionTreeClassifier()\n",
    "model.fit(X_train, y_train)\n",
    "model.score(X_test, y_test)"
   ]
  },
  {
   "cell_type": "code",
   "execution_count": 70,
   "metadata": {},
   "outputs": [
    {
     "data": {
      "text/plain": [
       "array(['Asheville, NC'], dtype=object)"
      ]
     },
     "execution_count": 70,
     "metadata": {},
     "output_type": "execute_result"
    }
   ],
   "source": [
    "#For humidity, maybe the user inputs very high high, medium or low --> very high 80 , high 65, medium 40, low 20\n",
    "data_point = [[-5, -10, 80]]\n",
    "\n",
    "model.predict(data_point)"
   ]
  },
  {
   "cell_type": "code",
   "execution_count": null,
   "metadata": {},
   "outputs": [],
   "source": []
  }
 ],
 "metadata": {
  "kernelspec": {
   "display_name": "Python 3",
   "language": "python",
   "name": "python3"
  },
  "language_info": {
   "codemirror_mode": {
    "name": "ipython",
    "version": 3
   },
   "file_extension": ".py",
   "mimetype": "text/x-python",
   "name": "python",
   "nbconvert_exporter": "python",
   "pygments_lexer": "ipython3",
   "version": "3.8.3"
  }
 },
 "nbformat": 4,
 "nbformat_minor": 4
}
