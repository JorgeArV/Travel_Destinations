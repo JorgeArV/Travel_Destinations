{
 "cells": [
  {
   "cell_type": "markdown",
   "metadata": {},
   "source": [
    "#Clustering KNeighborsClassifier - predict the Neighbourhood for one city"
   ]
  },
  {
   "cell_type": "code",
   "execution_count": null,
   "metadata": {},
   "outputs": [],
   "source": [
    "#Initial test: Creating a decision tree. Decision tree just uses max and min temp as x values (for now), to predict a city"
   ]
  },
  {
   "cell_type": "code",
   "execution_count": 1,
   "metadata": {},
   "outputs": [],
   "source": [
    "import matplotlib.pyplot as plt\n",
    "from sklearn.neighbors import KNeighborsClassifier\n",
    "import pandas as pd\n",
    "import os"
   ]
  },
  {
   "cell_type": "code",
   "execution_count": 2,
   "metadata": {},
   "outputs": [],
   "source": [
    "df = pd.read_csv(os.path.join(\"NorthAmericaCityAirbnb.csv\"))"
   ]
  },
  {
   "cell_type": "code",
   "execution_count": 3,
   "metadata": {
    "scrolled": true
   },
   "outputs": [
    {
     "data": {
      "text/html": [
       "<div>\n",
       "<style scoped>\n",
       "    .dataframe tbody tr th:only-of-type {\n",
       "        vertical-align: middle;\n",
       "    }\n",
       "\n",
       "    .dataframe tbody tr th {\n",
       "        vertical-align: top;\n",
       "    }\n",
       "\n",
       "    .dataframe thead th {\n",
       "        text-align: right;\n",
       "    }\n",
       "</style>\n",
       "<table border=\"1\" class=\"dataframe\">\n",
       "  <thead>\n",
       "    <tr style=\"text-align: right;\">\n",
       "      <th></th>\n",
       "      <th>Unnamed: 0</th>\n",
       "      <th>City</th>\n",
       "      <th>Host Name</th>\n",
       "      <th>Neighbourhood</th>\n",
       "      <th>Latitude</th>\n",
       "      <th>Longitude</th>\n",
       "      <th>Property Type</th>\n",
       "      <th>Room Type</th>\n",
       "      <th>Price</th>\n",
       "      <th>Minimum Nights</th>\n",
       "      <th>Availability 365</th>\n",
       "      <th>Reviews Scores Rating</th>\n",
       "    </tr>\n",
       "  </thead>\n",
       "  <tbody>\n",
       "    <tr>\n",
       "      <th>0</th>\n",
       "      <td>0</td>\n",
       "      <td>Montreal,QC</td>\n",
       "      <td>Nelia</td>\n",
       "      <td>Le Plateau-Mont-Royal</td>\n",
       "      <td>45.53069</td>\n",
       "      <td>-73.58588</td>\n",
       "      <td>Private room in house</td>\n",
       "      <td>Private room</td>\n",
       "      <td>$38.00</td>\n",
       "      <td>2</td>\n",
       "      <td>42</td>\n",
       "      <td>93.0</td>\n",
       "    </tr>\n",
       "    <tr>\n",
       "      <th>1</th>\n",
       "      <td>1</td>\n",
       "      <td>Montreal,QC</td>\n",
       "      <td>Maryline</td>\n",
       "      <td>Ville-Marie</td>\n",
       "      <td>45.51939</td>\n",
       "      <td>-73.56482</td>\n",
       "      <td>Entire apartment</td>\n",
       "      <td>Entire home/apt</td>\n",
       "      <td>$133.00</td>\n",
       "      <td>2</td>\n",
       "      <td>343</td>\n",
       "      <td>94.0</td>\n",
       "    </tr>\n",
       "    <tr>\n",
       "      <th>2</th>\n",
       "      <td>2</td>\n",
       "      <td>Montreal,QC</td>\n",
       "      <td>Maryline</td>\n",
       "      <td>Ville-Marie</td>\n",
       "      <td>45.51929</td>\n",
       "      <td>-73.56493</td>\n",
       "      <td>Entire house</td>\n",
       "      <td>Entire home/apt</td>\n",
       "      <td>$252.00</td>\n",
       "      <td>3</td>\n",
       "      <td>352</td>\n",
       "      <td>92.0</td>\n",
       "    </tr>\n",
       "    <tr>\n",
       "      <th>3</th>\n",
       "      <td>3</td>\n",
       "      <td>Montreal,QC</td>\n",
       "      <td>Gail</td>\n",
       "      <td>Le Sud-Ouest</td>\n",
       "      <td>45.48467</td>\n",
       "      <td>-73.57995</td>\n",
       "      <td>Private room in apartment</td>\n",
       "      <td>Private room</td>\n",
       "      <td>$40.00</td>\n",
       "      <td>2</td>\n",
       "      <td>318</td>\n",
       "      <td>90.0</td>\n",
       "    </tr>\n",
       "    <tr>\n",
       "      <th>4</th>\n",
       "      <td>4</td>\n",
       "      <td>Montreal,QC</td>\n",
       "      <td>Alain</td>\n",
       "      <td>Rosemont-La Petite-Patrie</td>\n",
       "      <td>45.53840</td>\n",
       "      <td>-73.60355</td>\n",
       "      <td>Entire apartment</td>\n",
       "      <td>Entire home/apt</td>\n",
       "      <td>$135.00</td>\n",
       "      <td>4</td>\n",
       "      <td>358</td>\n",
       "      <td>93.0</td>\n",
       "    </tr>\n",
       "    <tr>\n",
       "      <th>...</th>\n",
       "      <td>...</td>\n",
       "      <td>...</td>\n",
       "      <td>...</td>\n",
       "      <td>...</td>\n",
       "      <td>...</td>\n",
       "      <td>...</td>\n",
       "      <td>...</td>\n",
       "      <td>...</td>\n",
       "      <td>...</td>\n",
       "      <td>...</td>\n",
       "      <td>...</td>\n",
       "      <td>...</td>\n",
       "    </tr>\n",
       "    <tr>\n",
       "      <th>248816</th>\n",
       "      <td>7788</td>\n",
       "      <td>Washington,DC</td>\n",
       "      <td>Kia</td>\n",
       "      <td>Shaw, Logan Circle</td>\n",
       "      <td>38.90567</td>\n",
       "      <td>-77.02976</td>\n",
       "      <td>Entire serviced apartment</td>\n",
       "      <td>Entire home/apt</td>\n",
       "      <td>$183.00</td>\n",
       "      <td>91</td>\n",
       "      <td>329</td>\n",
       "      <td>NaN</td>\n",
       "    </tr>\n",
       "    <tr>\n",
       "      <th>248817</th>\n",
       "      <td>7789</td>\n",
       "      <td>Washington,DC</td>\n",
       "      <td>Kia</td>\n",
       "      <td>Columbia Heights, Mt. Pleasant, Pleasant Plain...</td>\n",
       "      <td>38.92104</td>\n",
       "      <td>-77.03229</td>\n",
       "      <td>Entire serviced apartment</td>\n",
       "      <td>Entire home/apt</td>\n",
       "      <td>$169.00</td>\n",
       "      <td>91</td>\n",
       "      <td>301</td>\n",
       "      <td>NaN</td>\n",
       "    </tr>\n",
       "    <tr>\n",
       "      <th>248818</th>\n",
       "      <td>7790</td>\n",
       "      <td>Washington,DC</td>\n",
       "      <td>Antonio</td>\n",
       "      <td>Edgewood, Bloomingdale, Truxton Circle, Eckington</td>\n",
       "      <td>38.92801</td>\n",
       "      <td>-76.99795</td>\n",
       "      <td>Entire townhouse</td>\n",
       "      <td>Entire home/apt</td>\n",
       "      <td>$68.00</td>\n",
       "      <td>30</td>\n",
       "      <td>175</td>\n",
       "      <td>NaN</td>\n",
       "    </tr>\n",
       "    <tr>\n",
       "      <th>248819</th>\n",
       "      <td>7791</td>\n",
       "      <td>Washington,DC</td>\n",
       "      <td>Connie</td>\n",
       "      <td>Lamont Riggs, Queens Chapel, Fort Totten, Plea...</td>\n",
       "      <td>38.96935</td>\n",
       "      <td>-77.00764</td>\n",
       "      <td>Private room in bed and breakfast</td>\n",
       "      <td>Private room</td>\n",
       "      <td>$60.00</td>\n",
       "      <td>14</td>\n",
       "      <td>364</td>\n",
       "      <td>NaN</td>\n",
       "    </tr>\n",
       "    <tr>\n",
       "      <th>248820</th>\n",
       "      <td>7792</td>\n",
       "      <td>Washington,DC</td>\n",
       "      <td>Kia</td>\n",
       "      <td>Southwest Employment Area, Southwest/Waterfron...</td>\n",
       "      <td>38.87604</td>\n",
       "      <td>-77.01457</td>\n",
       "      <td>Entire serviced apartment</td>\n",
       "      <td>Entire home/apt</td>\n",
       "      <td>$117.00</td>\n",
       "      <td>90</td>\n",
       "      <td>307</td>\n",
       "      <td>NaN</td>\n",
       "    </tr>\n",
       "  </tbody>\n",
       "</table>\n",
       "<p>248821 rows × 12 columns</p>\n",
       "</div>"
      ],
      "text/plain": [
       "        Unnamed: 0           City Host Name  \\\n",
       "0                0    Montreal,QC     Nelia   \n",
       "1                1    Montreal,QC  Maryline   \n",
       "2                2    Montreal,QC  Maryline   \n",
       "3                3    Montreal,QC      Gail   \n",
       "4                4    Montreal,QC     Alain   \n",
       "...            ...            ...       ...   \n",
       "248816        7788  Washington,DC       Kia   \n",
       "248817        7789  Washington,DC       Kia   \n",
       "248818        7790  Washington,DC   Antonio   \n",
       "248819        7791  Washington,DC    Connie   \n",
       "248820        7792  Washington,DC       Kia   \n",
       "\n",
       "                                            Neighbourhood  Latitude  \\\n",
       "0                                   Le Plateau-Mont-Royal  45.53069   \n",
       "1                                             Ville-Marie  45.51939   \n",
       "2                                             Ville-Marie  45.51929   \n",
       "3                                            Le Sud-Ouest  45.48467   \n",
       "4                               Rosemont-La Petite-Patrie  45.53840   \n",
       "...                                                   ...       ...   \n",
       "248816                                 Shaw, Logan Circle  38.90567   \n",
       "248817  Columbia Heights, Mt. Pleasant, Pleasant Plain...  38.92104   \n",
       "248818  Edgewood, Bloomingdale, Truxton Circle, Eckington  38.92801   \n",
       "248819  Lamont Riggs, Queens Chapel, Fort Totten, Plea...  38.96935   \n",
       "248820  Southwest Employment Area, Southwest/Waterfron...  38.87604   \n",
       "\n",
       "        Longitude                      Property Type        Room Type  \\\n",
       "0       -73.58588              Private room in house     Private room   \n",
       "1       -73.56482                   Entire apartment  Entire home/apt   \n",
       "2       -73.56493                       Entire house  Entire home/apt   \n",
       "3       -73.57995          Private room in apartment     Private room   \n",
       "4       -73.60355                   Entire apartment  Entire home/apt   \n",
       "...           ...                                ...              ...   \n",
       "248816  -77.02976          Entire serviced apartment  Entire home/apt   \n",
       "248817  -77.03229          Entire serviced apartment  Entire home/apt   \n",
       "248818  -76.99795                   Entire townhouse  Entire home/apt   \n",
       "248819  -77.00764  Private room in bed and breakfast     Private room   \n",
       "248820  -77.01457          Entire serviced apartment  Entire home/apt   \n",
       "\n",
       "          Price  Minimum Nights  Availability 365  Reviews Scores Rating  \n",
       "0        $38.00               2                42                   93.0  \n",
       "1       $133.00               2               343                   94.0  \n",
       "2       $252.00               3               352                   92.0  \n",
       "3        $40.00               2               318                   90.0  \n",
       "4       $135.00               4               358                   93.0  \n",
       "...         ...             ...               ...                    ...  \n",
       "248816  $183.00              91               329                    NaN  \n",
       "248817  $169.00              91               301                    NaN  \n",
       "248818   $68.00              30               175                    NaN  \n",
       "248819   $60.00              14               364                    NaN  \n",
       "248820  $117.00              90               307                    NaN  \n",
       "\n",
       "[248821 rows x 12 columns]"
      ]
     },
     "execution_count": 3,
     "metadata": {},
     "output_type": "execute_result"
    }
   ],
   "source": [
    "df"
   ]
  },
  {
   "cell_type": "code",
   "execution_count": 4,
   "metadata": {},
   "outputs": [],
   "source": [
    "df['Price'] = df['Price'].str.replace('$','')\n",
    "df['Price'] = df['Price'].str.replace(',','')\n",
    "df['Price'] = pd.to_numeric(df['Price'])"
   ]
  },
  {
   "cell_type": "code",
   "execution_count": 5,
   "metadata": {},
   "outputs": [],
   "source": [
    "df.dropna(subset = [\"Reviews Scores Rating\"], inplace=True)"
   ]
  },
  {
   "cell_type": "code",
   "execution_count": 6,
   "metadata": {},
   "outputs": [
    {
     "data": {
      "text/plain": [
       "Unnamed: 0                 int64\n",
       "City                      object\n",
       "Host Name                 object\n",
       "Neighbourhood             object\n",
       "Latitude                 float64\n",
       "Longitude                float64\n",
       "Property Type             object\n",
       "Room Type                 object\n",
       "Price                    float64\n",
       "Minimum Nights             int64\n",
       "Availability 365           int64\n",
       "Reviews Scores Rating    float64\n",
       "dtype: object"
      ]
     },
     "execution_count": 6,
     "metadata": {},
     "output_type": "execute_result"
    }
   ],
   "source": [
    "df.dtypes"
   ]
  },
  {
   "cell_type": "code",
   "execution_count": 7,
   "metadata": {},
   "outputs": [],
   "source": [
    "y = df[\"City\"]"
   ]
  },
  {
   "cell_type": "code",
   "execution_count": 8,
   "metadata": {},
   "outputs": [],
   "source": [
    "X= df[[\"Price\", \"Reviews Scores Rating\"]]"
   ]
  },
  {
   "cell_type": "code",
   "execution_count": 9,
   "metadata": {},
   "outputs": [
    {
     "data": {
      "text/plain": [
       "((189550, 2), (189550,))"
      ]
     },
     "execution_count": 9,
     "metadata": {},
     "output_type": "execute_result"
    }
   ],
   "source": [
    "X.shape, y.shape"
   ]
  },
  {
   "cell_type": "code",
   "execution_count": 10,
   "metadata": {},
   "outputs": [],
   "source": [
    "from sklearn.model_selection import train_test_split\n",
    "X_train, X_test, y_train, y_test = train_test_split(X, y, random_state=42)"
   ]
  },
  {
   "cell_type": "code",
   "execution_count": 11,
   "metadata": {},
   "outputs": [],
   "source": [
    "from sklearn.tree import DecisionTreeClassifier"
   ]
  },
  {
   "cell_type": "code",
   "execution_count": 12,
   "metadata": {},
   "outputs": [
    {
     "data": {
      "text/plain": [
       "0.152823499620157"
      ]
     },
     "execution_count": 12,
     "metadata": {},
     "output_type": "execute_result"
    }
   ],
   "source": [
    "model = DecisionTreeClassifier()\n",
    "model.fit(X_train, y_train)\n",
    "model.score(X_test, y_test)"
   ]
  },
  {
   "cell_type": "code",
   "execution_count": 13,
   "metadata": {},
   "outputs": [],
   "source": [
    "predictions = model.predict(X_test)"
   ]
  },
  {
   "cell_type": "code",
   "execution_count": 14,
   "metadata": {},
   "outputs": [
    {
     "data": {
      "text/plain": [
       "array(['New York City,NY', 'New York City,NY', 'New York City,NY', ...,\n",
       "       'Hawaii,HI', 'Montreal,QC', 'Hawaii,HI'], dtype=object)"
      ]
     },
     "execution_count": 14,
     "metadata": {},
     "output_type": "execute_result"
    }
   ],
   "source": [
    "predictions"
   ]
  },
  {
   "cell_type": "code",
   "execution_count": null,
   "metadata": {},
   "outputs": [],
   "source": []
  },
  {
   "cell_type": "code",
   "execution_count": 15,
   "metadata": {},
   "outputs": [
    {
     "data": {
      "text/plain": [
       "array(['Austin,TX'], dtype=object)"
      ]
     },
     "execution_count": 15,
     "metadata": {},
     "output_type": "execute_result"
    }
   ],
   "source": [
    "data_point = [[-2, 8]]\n",
    "\n",
    "model.predict(data_point)"
   ]
  },
  {
   "cell_type": "markdown",
   "metadata": {},
   "source": [
    "# Let's reduce dataset to Dec. 20 - Dec. 29 to see if model score increases (Only Max. and Min. temp)"
   ]
  },
  {
   "cell_type": "code",
   "execution_count": null,
   "metadata": {},
   "outputs": [],
   "source": [
    "# 1.We find the variable types of each column - We need to change date to a date-time variable\n",
    "df.dtypes"
   ]
  },
  {
   "cell_type": "code",
   "execution_count": null,
   "metadata": {},
   "outputs": [],
   "source": [
    "# We create a column with date as a datetime\n",
    "#df['Time_stamp'] = pd.to_datetime(df['Date'].str.strip(), format='%Y/%m/%d')"
   ]
  },
  {
   "cell_type": "code",
   "execution_count": null,
   "metadata": {},
   "outputs": [],
   "source": [
    "#User would imput this value\n",
    "#df['day'] = df.Time_stamp.dt.day\n",
    "#df['month'] = df.Time_stamp.dt.month\n",
    "#df['year'] = df.Time_stamp.dt.year"
   ]
  },
  {
   "cell_type": "code",
   "execution_count": null,
   "metadata": {},
   "outputs": [],
   "source": [
    "df"
   ]
  },
  {
   "cell_type": "code",
   "execution_count": null,
   "metadata": {},
   "outputs": [],
   "source": [
    "#Answers to be provided by user\n",
    "Month = 12\n",
    "Start_Day = 21\n",
    "End_Day = 31\n"
   ]
  },
  {
   "cell_type": "code",
   "execution_count": null,
   "metadata": {},
   "outputs": [],
   "source": [
    "df_new = df[(df.month == Month) & (df.day >= Start_Day) & (df.day <= End_Day)]"
   ]
  },
  {
   "cell_type": "code",
   "execution_count": null,
   "metadata": {},
   "outputs": [],
   "source": [
    "df_new"
   ]
  },
  {
   "cell_type": "code",
   "execution_count": null,
   "metadata": {},
   "outputs": [],
   "source": [
    "y = df_new3[\"City\"]"
   ]
  },
  {
   "cell_type": "code",
   "execution_count": null,
   "metadata": {},
   "outputs": [],
   "source": [
    "X= df_new3[[\"temp_max\", \"temp_min\"]]"
   ]
  },
  {
   "cell_type": "code",
   "execution_count": null,
   "metadata": {},
   "outputs": [],
   "source": [
    "X_train, X_test, y_train, y_test = train_test_split(X, y, random_state=42)"
   ]
  },
  {
   "cell_type": "code",
   "execution_count": null,
   "metadata": {},
   "outputs": [],
   "source": [
    "model = DecisionTreeClassifier()\n",
    "model.fit(X_train, y_train)\n",
    "model.score(X_test, y_test)"
   ]
  },
  {
   "cell_type": "code",
   "execution_count": null,
   "metadata": {},
   "outputs": [],
   "source": [
    "data_point = [[15, 10]]\n",
    "\n",
    "model.predict(data_point)"
   ]
  },
  {
   "cell_type": "markdown",
   "metadata": {},
   "source": [
    "# Let's keep same period of time and add humidity"
   ]
  },
  {
   "cell_type": "code",
   "execution_count": null,
   "metadata": {},
   "outputs": [],
   "source": [
    "y = df_new[\"City\"]"
   ]
  },
  {
   "cell_type": "code",
   "execution_count": null,
   "metadata": {},
   "outputs": [],
   "source": [
    "X= df_new[[\"Price\", \"Reviews Scores Rating\"]] #\"humidity\", \"windspeed\", \"precip\", \"snow\""
   ]
  },
  {
   "cell_type": "code",
   "execution_count": null,
   "metadata": {},
   "outputs": [],
   "source": [
    "X_train, X_test, y_train, y_test = train_test_split(X, y, random_state=42)"
   ]
  },
  {
   "cell_type": "code",
   "execution_count": null,
   "metadata": {},
   "outputs": [],
   "source": [
    "model = DecisionTreeClassifier()\n",
    "model.fit(X_train, y_train)\n",
    "model.score(X_test, y_test)"
   ]
  },
  {
   "cell_type": "code",
   "execution_count": null,
   "metadata": {},
   "outputs": [],
   "source": [
    "#For humidity, maybe the user inputs very high high, medium or low --> very high 80 , high 65, medium 40, low 20\n",
    "data_point = [[-5, -10, 80]]\n",
    "\n",
    "model.predict(data_point)"
   ]
  },
  {
   "cell_type": "markdown",
   "metadata": {},
   "source": [
    "# Neighbors"
   ]
  },
  {
   "cell_type": "code",
   "execution_count": 7,
   "metadata": {},
   "outputs": [],
   "source": [
    "import matplotlib.pyplot as plt\n",
    "from sklearn.model_selection import train_test_split\n",
    "from sklearn.neighbors import KNeighborsClassifier"
   ]
  },
  {
   "cell_type": "code",
   "execution_count": 8,
   "metadata": {},
   "outputs": [
    {
     "data": {
      "text/html": [
       "<div>\n",
       "<style scoped>\n",
       "    .dataframe tbody tr th:only-of-type {\n",
       "        vertical-align: middle;\n",
       "    }\n",
       "\n",
       "    .dataframe tbody tr th {\n",
       "        vertical-align: top;\n",
       "    }\n",
       "\n",
       "    .dataframe thead th {\n",
       "        text-align: right;\n",
       "    }\n",
       "</style>\n",
       "<table border=\"1\" class=\"dataframe\">\n",
       "  <thead>\n",
       "    <tr style=\"text-align: right;\">\n",
       "      <th></th>\n",
       "      <th>Unnamed: 0</th>\n",
       "      <th>City</th>\n",
       "      <th>Host Name</th>\n",
       "      <th>Neighbourhood</th>\n",
       "      <th>Latitude</th>\n",
       "      <th>Longitude</th>\n",
       "      <th>Property Type</th>\n",
       "      <th>Room Type</th>\n",
       "      <th>Price</th>\n",
       "      <th>Minimum Nights</th>\n",
       "      <th>Availability 365</th>\n",
       "      <th>Reviews Scores Rating</th>\n",
       "    </tr>\n",
       "  </thead>\n",
       "  <tbody>\n",
       "    <tr>\n",
       "      <th>0</th>\n",
       "      <td>0</td>\n",
       "      <td>Montreal,QC</td>\n",
       "      <td>Nelia</td>\n",
       "      <td>Le Plateau-Mont-Royal</td>\n",
       "      <td>45.53069</td>\n",
       "      <td>-73.58588</td>\n",
       "      <td>Private room in house</td>\n",
       "      <td>Private room</td>\n",
       "      <td>38.0</td>\n",
       "      <td>2</td>\n",
       "      <td>42</td>\n",
       "      <td>93.0</td>\n",
       "    </tr>\n",
       "    <tr>\n",
       "      <th>1</th>\n",
       "      <td>1</td>\n",
       "      <td>Montreal,QC</td>\n",
       "      <td>Maryline</td>\n",
       "      <td>Ville-Marie</td>\n",
       "      <td>45.51939</td>\n",
       "      <td>-73.56482</td>\n",
       "      <td>Entire apartment</td>\n",
       "      <td>Entire home/apt</td>\n",
       "      <td>133.0</td>\n",
       "      <td>2</td>\n",
       "      <td>343</td>\n",
       "      <td>94.0</td>\n",
       "    </tr>\n",
       "    <tr>\n",
       "      <th>2</th>\n",
       "      <td>2</td>\n",
       "      <td>Montreal,QC</td>\n",
       "      <td>Maryline</td>\n",
       "      <td>Ville-Marie</td>\n",
       "      <td>45.51929</td>\n",
       "      <td>-73.56493</td>\n",
       "      <td>Entire house</td>\n",
       "      <td>Entire home/apt</td>\n",
       "      <td>252.0</td>\n",
       "      <td>3</td>\n",
       "      <td>352</td>\n",
       "      <td>92.0</td>\n",
       "    </tr>\n",
       "    <tr>\n",
       "      <th>3</th>\n",
       "      <td>3</td>\n",
       "      <td>Montreal,QC</td>\n",
       "      <td>Gail</td>\n",
       "      <td>Le Sud-Ouest</td>\n",
       "      <td>45.48467</td>\n",
       "      <td>-73.57995</td>\n",
       "      <td>Private room in apartment</td>\n",
       "      <td>Private room</td>\n",
       "      <td>40.0</td>\n",
       "      <td>2</td>\n",
       "      <td>318</td>\n",
       "      <td>90.0</td>\n",
       "    </tr>\n",
       "    <tr>\n",
       "      <th>4</th>\n",
       "      <td>4</td>\n",
       "      <td>Montreal,QC</td>\n",
       "      <td>Alain</td>\n",
       "      <td>Rosemont-La Petite-Patrie</td>\n",
       "      <td>45.53840</td>\n",
       "      <td>-73.60355</td>\n",
       "      <td>Entire apartment</td>\n",
       "      <td>Entire home/apt</td>\n",
       "      <td>135.0</td>\n",
       "      <td>4</td>\n",
       "      <td>358</td>\n",
       "      <td>93.0</td>\n",
       "    </tr>\n",
       "    <tr>\n",
       "      <th>...</th>\n",
       "      <td>...</td>\n",
       "      <td>...</td>\n",
       "      <td>...</td>\n",
       "      <td>...</td>\n",
       "      <td>...</td>\n",
       "      <td>...</td>\n",
       "      <td>...</td>\n",
       "      <td>...</td>\n",
       "      <td>...</td>\n",
       "      <td>...</td>\n",
       "      <td>...</td>\n",
       "      <td>...</td>\n",
       "    </tr>\n",
       "    <tr>\n",
       "      <th>248724</th>\n",
       "      <td>7696</td>\n",
       "      <td>Washington,DC</td>\n",
       "      <td>Nick</td>\n",
       "      <td>Downtown, Chinatown, Penn Quarters, Mount Vern...</td>\n",
       "      <td>38.90364</td>\n",
       "      <td>-77.02152</td>\n",
       "      <td>Entire apartment</td>\n",
       "      <td>Entire home/apt</td>\n",
       "      <td>68.0</td>\n",
       "      <td>1</td>\n",
       "      <td>20</td>\n",
       "      <td>100.0</td>\n",
       "    </tr>\n",
       "    <tr>\n",
       "      <th>248732</th>\n",
       "      <td>7704</td>\n",
       "      <td>Washington,DC</td>\n",
       "      <td>Deondra</td>\n",
       "      <td>Fairfax Village, Naylor Gardens, Hillcrest, Su...</td>\n",
       "      <td>38.86122</td>\n",
       "      <td>-76.94883</td>\n",
       "      <td>Private room in condominium</td>\n",
       "      <td>Private room</td>\n",
       "      <td>66.0</td>\n",
       "      <td>1</td>\n",
       "      <td>262</td>\n",
       "      <td>100.0</td>\n",
       "    </tr>\n",
       "    <tr>\n",
       "      <th>248738</th>\n",
       "      <td>7710</td>\n",
       "      <td>Washington,DC</td>\n",
       "      <td>Crystal</td>\n",
       "      <td>Brightwood Park, Crestwood, Petworth</td>\n",
       "      <td>38.95626</td>\n",
       "      <td>-77.02344</td>\n",
       "      <td>Entire condominium</td>\n",
       "      <td>Entire home/apt</td>\n",
       "      <td>89.0</td>\n",
       "      <td>2</td>\n",
       "      <td>353</td>\n",
       "      <td>100.0</td>\n",
       "    </tr>\n",
       "    <tr>\n",
       "      <th>248758</th>\n",
       "      <td>7730</td>\n",
       "      <td>Washington,DC</td>\n",
       "      <td>Joseph</td>\n",
       "      <td>Edgewood, Bloomingdale, Truxton Circle, Eckington</td>\n",
       "      <td>38.91794</td>\n",
       "      <td>-77.01280</td>\n",
       "      <td>Entire house</td>\n",
       "      <td>Entire home/apt</td>\n",
       "      <td>399.0</td>\n",
       "      <td>2</td>\n",
       "      <td>150</td>\n",
       "      <td>100.0</td>\n",
       "    </tr>\n",
       "    <tr>\n",
       "      <th>248773</th>\n",
       "      <td>7745</td>\n",
       "      <td>Washington,DC</td>\n",
       "      <td>Greg</td>\n",
       "      <td>Capitol Hill, Lincoln Park</td>\n",
       "      <td>38.88652</td>\n",
       "      <td>-76.99189</td>\n",
       "      <td>Entire townhouse</td>\n",
       "      <td>Entire home/apt</td>\n",
       "      <td>80.0</td>\n",
       "      <td>1</td>\n",
       "      <td>50</td>\n",
       "      <td>100.0</td>\n",
       "    </tr>\n",
       "  </tbody>\n",
       "</table>\n",
       "<p>189550 rows × 12 columns</p>\n",
       "</div>"
      ],
      "text/plain": [
       "        Unnamed: 0           City Host Name  \\\n",
       "0                0    Montreal,QC     Nelia   \n",
       "1                1    Montreal,QC  Maryline   \n",
       "2                2    Montreal,QC  Maryline   \n",
       "3                3    Montreal,QC      Gail   \n",
       "4                4    Montreal,QC     Alain   \n",
       "...            ...            ...       ...   \n",
       "248724        7696  Washington,DC      Nick   \n",
       "248732        7704  Washington,DC   Deondra   \n",
       "248738        7710  Washington,DC   Crystal   \n",
       "248758        7730  Washington,DC    Joseph   \n",
       "248773        7745  Washington,DC      Greg   \n",
       "\n",
       "                                            Neighbourhood  Latitude  \\\n",
       "0                                   Le Plateau-Mont-Royal  45.53069   \n",
       "1                                             Ville-Marie  45.51939   \n",
       "2                                             Ville-Marie  45.51929   \n",
       "3                                            Le Sud-Ouest  45.48467   \n",
       "4                               Rosemont-La Petite-Patrie  45.53840   \n",
       "...                                                   ...       ...   \n",
       "248724  Downtown, Chinatown, Penn Quarters, Mount Vern...  38.90364   \n",
       "248732  Fairfax Village, Naylor Gardens, Hillcrest, Su...  38.86122   \n",
       "248738               Brightwood Park, Crestwood, Petworth  38.95626   \n",
       "248758  Edgewood, Bloomingdale, Truxton Circle, Eckington  38.91794   \n",
       "248773                         Capitol Hill, Lincoln Park  38.88652   \n",
       "\n",
       "        Longitude                Property Type        Room Type  Price  \\\n",
       "0       -73.58588        Private room in house     Private room   38.0   \n",
       "1       -73.56482             Entire apartment  Entire home/apt  133.0   \n",
       "2       -73.56493                 Entire house  Entire home/apt  252.0   \n",
       "3       -73.57995    Private room in apartment     Private room   40.0   \n",
       "4       -73.60355             Entire apartment  Entire home/apt  135.0   \n",
       "...           ...                          ...              ...    ...   \n",
       "248724  -77.02152             Entire apartment  Entire home/apt   68.0   \n",
       "248732  -76.94883  Private room in condominium     Private room   66.0   \n",
       "248738  -77.02344           Entire condominium  Entire home/apt   89.0   \n",
       "248758  -77.01280                 Entire house  Entire home/apt  399.0   \n",
       "248773  -76.99189             Entire townhouse  Entire home/apt   80.0   \n",
       "\n",
       "        Minimum Nights  Availability 365  Reviews Scores Rating  \n",
       "0                    2                42                   93.0  \n",
       "1                    2               343                   94.0  \n",
       "2                    3               352                   92.0  \n",
       "3                    2               318                   90.0  \n",
       "4                    4               358                   93.0  \n",
       "...                ...               ...                    ...  \n",
       "248724               1                20                  100.0  \n",
       "248732               1               262                  100.0  \n",
       "248738               2               353                  100.0  \n",
       "248758               2               150                  100.0  \n",
       "248773               1                50                  100.0  \n",
       "\n",
       "[189550 rows x 12 columns]"
      ]
     },
     "execution_count": 8,
     "metadata": {},
     "output_type": "execute_result"
    }
   ],
   "source": [
    "df"
   ]
  },
  {
   "cell_type": "code",
   "execution_count": 9,
   "metadata": {},
   "outputs": [
    {
     "data": {
      "text/html": [
       "<div>\n",
       "<style scoped>\n",
       "    .dataframe tbody tr th:only-of-type {\n",
       "        vertical-align: middle;\n",
       "    }\n",
       "\n",
       "    .dataframe tbody tr th {\n",
       "        vertical-align: top;\n",
       "    }\n",
       "\n",
       "    .dataframe thead th {\n",
       "        text-align: right;\n",
       "    }\n",
       "</style>\n",
       "<table border=\"1\" class=\"dataframe\">\n",
       "  <thead>\n",
       "    <tr style=\"text-align: right;\">\n",
       "      <th></th>\n",
       "      <th>Unnamed: 0</th>\n",
       "      <th>City</th>\n",
       "      <th>Host Name</th>\n",
       "      <th>Neighbourhood</th>\n",
       "      <th>Latitude</th>\n",
       "      <th>Longitude</th>\n",
       "      <th>Property Type</th>\n",
       "      <th>Room Type</th>\n",
       "      <th>Price</th>\n",
       "      <th>Minimum Nights</th>\n",
       "      <th>Availability 365</th>\n",
       "      <th>Reviews Scores Rating</th>\n",
       "    </tr>\n",
       "  </thead>\n",
       "  <tbody>\n",
       "    <tr>\n",
       "      <th>0</th>\n",
       "      <td>0</td>\n",
       "      <td>Montreal,QC</td>\n",
       "      <td>Nelia</td>\n",
       "      <td>Le Plateau-Mont-Royal</td>\n",
       "      <td>45.53069</td>\n",
       "      <td>-73.58588</td>\n",
       "      <td>Private room in house</td>\n",
       "      <td>Private room</td>\n",
       "      <td>38.0</td>\n",
       "      <td>2</td>\n",
       "      <td>42</td>\n",
       "      <td>93.0</td>\n",
       "    </tr>\n",
       "    <tr>\n",
       "      <th>1</th>\n",
       "      <td>1</td>\n",
       "      <td>Montreal,QC</td>\n",
       "      <td>Maryline</td>\n",
       "      <td>Ville-Marie</td>\n",
       "      <td>45.51939</td>\n",
       "      <td>-73.56482</td>\n",
       "      <td>Entire apartment</td>\n",
       "      <td>Entire home/apt</td>\n",
       "      <td>133.0</td>\n",
       "      <td>2</td>\n",
       "      <td>343</td>\n",
       "      <td>94.0</td>\n",
       "    </tr>\n",
       "    <tr>\n",
       "      <th>2</th>\n",
       "      <td>2</td>\n",
       "      <td>Montreal,QC</td>\n",
       "      <td>Maryline</td>\n",
       "      <td>Ville-Marie</td>\n",
       "      <td>45.51929</td>\n",
       "      <td>-73.56493</td>\n",
       "      <td>Entire house</td>\n",
       "      <td>Entire home/apt</td>\n",
       "      <td>252.0</td>\n",
       "      <td>3</td>\n",
       "      <td>352</td>\n",
       "      <td>92.0</td>\n",
       "    </tr>\n",
       "    <tr>\n",
       "      <th>3</th>\n",
       "      <td>3</td>\n",
       "      <td>Montreal,QC</td>\n",
       "      <td>Gail</td>\n",
       "      <td>Le Sud-Ouest</td>\n",
       "      <td>45.48467</td>\n",
       "      <td>-73.57995</td>\n",
       "      <td>Private room in apartment</td>\n",
       "      <td>Private room</td>\n",
       "      <td>40.0</td>\n",
       "      <td>2</td>\n",
       "      <td>318</td>\n",
       "      <td>90.0</td>\n",
       "    </tr>\n",
       "    <tr>\n",
       "      <th>4</th>\n",
       "      <td>4</td>\n",
       "      <td>Montreal,QC</td>\n",
       "      <td>Alain</td>\n",
       "      <td>Rosemont-La Petite-Patrie</td>\n",
       "      <td>45.53840</td>\n",
       "      <td>-73.60355</td>\n",
       "      <td>Entire apartment</td>\n",
       "      <td>Entire home/apt</td>\n",
       "      <td>135.0</td>\n",
       "      <td>4</td>\n",
       "      <td>358</td>\n",
       "      <td>93.0</td>\n",
       "    </tr>\n",
       "    <tr>\n",
       "      <th>...</th>\n",
       "      <td>...</td>\n",
       "      <td>...</td>\n",
       "      <td>...</td>\n",
       "      <td>...</td>\n",
       "      <td>...</td>\n",
       "      <td>...</td>\n",
       "      <td>...</td>\n",
       "      <td>...</td>\n",
       "      <td>...</td>\n",
       "      <td>...</td>\n",
       "      <td>...</td>\n",
       "      <td>...</td>\n",
       "    </tr>\n",
       "    <tr>\n",
       "      <th>14012</th>\n",
       "      <td>14012</td>\n",
       "      <td>Montreal,QC</td>\n",
       "      <td>Alexandre Et Steven</td>\n",
       "      <td>Ville-Marie</td>\n",
       "      <td>45.51946</td>\n",
       "      <td>-73.56272</td>\n",
       "      <td>Entire apartment</td>\n",
       "      <td>Entire home/apt</td>\n",
       "      <td>74.0</td>\n",
       "      <td>1</td>\n",
       "      <td>71</td>\n",
       "      <td>60.0</td>\n",
       "    </tr>\n",
       "    <tr>\n",
       "      <th>14014</th>\n",
       "      <td>14014</td>\n",
       "      <td>Montreal,QC</td>\n",
       "      <td>Natalia</td>\n",
       "      <td>Le Sud-Ouest</td>\n",
       "      <td>45.45329</td>\n",
       "      <td>-73.59584</td>\n",
       "      <td>Entire apartment</td>\n",
       "      <td>Entire home/apt</td>\n",
       "      <td>67.0</td>\n",
       "      <td>1</td>\n",
       "      <td>365</td>\n",
       "      <td>80.0</td>\n",
       "    </tr>\n",
       "    <tr>\n",
       "      <th>14015</th>\n",
       "      <td>14015</td>\n",
       "      <td>Montreal,QC</td>\n",
       "      <td>Julien</td>\n",
       "      <td>Ville-Marie</td>\n",
       "      <td>45.50370</td>\n",
       "      <td>-73.56231</td>\n",
       "      <td>Entire loft</td>\n",
       "      <td>Entire home/apt</td>\n",
       "      <td>68.0</td>\n",
       "      <td>1</td>\n",
       "      <td>318</td>\n",
       "      <td>100.0</td>\n",
       "    </tr>\n",
       "    <tr>\n",
       "      <th>14040</th>\n",
       "      <td>14040</td>\n",
       "      <td>Montreal,QC</td>\n",
       "      <td>Ozan</td>\n",
       "      <td>Saint-Laurent</td>\n",
       "      <td>45.51102</td>\n",
       "      <td>-73.67354</td>\n",
       "      <td>Entire loft</td>\n",
       "      <td>Entire home/apt</td>\n",
       "      <td>96.0</td>\n",
       "      <td>1</td>\n",
       "      <td>349</td>\n",
       "      <td>20.0</td>\n",
       "    </tr>\n",
       "    <tr>\n",
       "      <th>14072</th>\n",
       "      <td>14072</td>\n",
       "      <td>Montreal,QC</td>\n",
       "      <td>Ricky</td>\n",
       "      <td>Ville-Marie</td>\n",
       "      <td>45.50304</td>\n",
       "      <td>-73.55352</td>\n",
       "      <td>Entire loft</td>\n",
       "      <td>Entire home/apt</td>\n",
       "      <td>54.0</td>\n",
       "      <td>1</td>\n",
       "      <td>83</td>\n",
       "      <td>100.0</td>\n",
       "    </tr>\n",
       "  </tbody>\n",
       "</table>\n",
       "<p>10357 rows × 12 columns</p>\n",
       "</div>"
      ],
      "text/plain": [
       "       Unnamed: 0         City            Host Name  \\\n",
       "0               0  Montreal,QC                Nelia   \n",
       "1               1  Montreal,QC             Maryline   \n",
       "2               2  Montreal,QC             Maryline   \n",
       "3               3  Montreal,QC                 Gail   \n",
       "4               4  Montreal,QC                Alain   \n",
       "...           ...          ...                  ...   \n",
       "14012       14012  Montreal,QC  Alexandre Et Steven   \n",
       "14014       14014  Montreal,QC              Natalia   \n",
       "14015       14015  Montreal,QC               Julien   \n",
       "14040       14040  Montreal,QC                 Ozan   \n",
       "14072       14072  Montreal,QC                Ricky   \n",
       "\n",
       "                   Neighbourhood  Latitude  Longitude  \\\n",
       "0          Le Plateau-Mont-Royal  45.53069  -73.58588   \n",
       "1                    Ville-Marie  45.51939  -73.56482   \n",
       "2                    Ville-Marie  45.51929  -73.56493   \n",
       "3                   Le Sud-Ouest  45.48467  -73.57995   \n",
       "4      Rosemont-La Petite-Patrie  45.53840  -73.60355   \n",
       "...                          ...       ...        ...   \n",
       "14012                Ville-Marie  45.51946  -73.56272   \n",
       "14014               Le Sud-Ouest  45.45329  -73.59584   \n",
       "14015                Ville-Marie  45.50370  -73.56231   \n",
       "14040              Saint-Laurent  45.51102  -73.67354   \n",
       "14072                Ville-Marie  45.50304  -73.55352   \n",
       "\n",
       "                   Property Type        Room Type  Price  Minimum Nights  \\\n",
       "0          Private room in house     Private room   38.0               2   \n",
       "1               Entire apartment  Entire home/apt  133.0               2   \n",
       "2                   Entire house  Entire home/apt  252.0               3   \n",
       "3      Private room in apartment     Private room   40.0               2   \n",
       "4               Entire apartment  Entire home/apt  135.0               4   \n",
       "...                          ...              ...    ...             ...   \n",
       "14012           Entire apartment  Entire home/apt   74.0               1   \n",
       "14014           Entire apartment  Entire home/apt   67.0               1   \n",
       "14015                Entire loft  Entire home/apt   68.0               1   \n",
       "14040                Entire loft  Entire home/apt   96.0               1   \n",
       "14072                Entire loft  Entire home/apt   54.0               1   \n",
       "\n",
       "       Availability 365  Reviews Scores Rating  \n",
       "0                    42                   93.0  \n",
       "1                   343                   94.0  \n",
       "2                   352                   92.0  \n",
       "3                   318                   90.0  \n",
       "4                   358                   93.0  \n",
       "...                 ...                    ...  \n",
       "14012                71                   60.0  \n",
       "14014               365                   80.0  \n",
       "14015               318                  100.0  \n",
       "14040               349                   20.0  \n",
       "14072                83                  100.0  \n",
       "\n",
       "[10357 rows x 12 columns]"
      ]
     },
     "execution_count": 9,
     "metadata": {},
     "output_type": "execute_result"
    }
   ],
   "source": [
    "df_filtered = df[(df.City == \"Montreal,QC\")]\n",
    "df_filtered"
   ]
  },
  {
   "cell_type": "code",
   "execution_count": 10,
   "metadata": {},
   "outputs": [],
   "source": [
    "X= df_filtered[[\"Price\"]]"
   ]
  },
  {
   "cell_type": "code",
   "execution_count": 11,
   "metadata": {},
   "outputs": [],
   "source": [
    "y = df_filtered[\"Neighbourhood\"]"
   ]
  },
  {
   "cell_type": "code",
   "execution_count": 12,
   "metadata": {},
   "outputs": [],
   "source": [
    "X_train, X_test, y_train, y_test = train_test_split(X, y, random_state=42)"
   ]
  },
  {
   "cell_type": "code",
   "execution_count": 13,
   "metadata": {},
   "outputs": [],
   "source": [
    "from sklearn.preprocessing import StandardScaler"
   ]
  },
  {
   "cell_type": "code",
   "execution_count": 14,
   "metadata": {},
   "outputs": [],
   "source": [
    "X_scaler = StandardScaler().fit(X_train)"
   ]
  },
  {
   "cell_type": "code",
   "execution_count": 15,
   "metadata": {},
   "outputs": [],
   "source": [
    "X_train_scaled = X_scaler.transform(X_train)\n",
    "X_test_scaled = X_scaler.transform(X_test)"
   ]
  },
  {
   "cell_type": "code",
   "execution_count": 16,
   "metadata": {},
   "outputs": [
    {
     "data": {
      "text/plain": [
       "KNeighborsClassifier(n_neighbors=3)"
      ]
     },
     "execution_count": 16,
     "metadata": {},
     "output_type": "execute_result"
    }
   ],
   "source": [
    "model1 = KNeighborsClassifier(n_neighbors=3)\n",
    "model1.fit(X_train_scaled, y_train)"
   ]
  },
  {
   "cell_type": "code",
   "execution_count": 17,
   "metadata": {},
   "outputs": [
    {
     "data": {
      "text/plain": [
       "0.19845559845559846"
      ]
     },
     "execution_count": 17,
     "metadata": {},
     "output_type": "execute_result"
    }
   ],
   "source": [
    "model1.score(X_test_scaled, y_test)"
   ]
  },
  {
   "cell_type": "code",
   "execution_count": 18,
   "metadata": {},
   "outputs": [
    {
     "name": "stdout",
     "output_type": "stream",
     "text": [
      "1 0.22621346723316596 0.17953667953667954\n",
      "3 0.21835972705034118 0.19845559845559846\n",
      "5 0.2415346980816274 0.20656370656370657\n",
      "7 0.2768121539848075 0.24324324324324326\n",
      "9 0.28003089996137503 0.2494208494208494\n",
      "11 0.2989571263035921 0.2648648648648649\n",
      "13 0.3078408651989185 0.26833976833976836\n",
      "15 0.30513711857860176 0.266023166023166\n",
      "17 0.3093858632676709 0.2702702702702703\n",
      "19 0.3048796189004764 0.2590733590733591\n"
     ]
    }
   ],
   "source": [
    "train_score = []\n",
    "test_score = []\n",
    "for k in range(1, 20, 2): \n",
    "  model = KNeighborsClassifier(n_neighbors=k)\n",
    "  model.fit(X_train_scaled, y_train)\n",
    "  train_score.append(model.score(X_train_scaled, y_train))\n",
    "  test_score.append(model.score(X_test_scaled, y_test))\n",
    "  print(k, model.score(X_train_scaled, y_train), model.score(X_test_scaled, y_test))\n"
   ]
  },
  {
   "cell_type": "code",
   "execution_count": 19,
   "metadata": {},
   "outputs": [
    {
     "data": {
      "text/plain": [
       "[<matplotlib.lines.Line2D at 0x1f481518a00>]"
      ]
     },
     "execution_count": 19,
     "metadata": {},
     "output_type": "execute_result"
    },
    {
     "data": {
      "image/png": "[encoded data removed]",
      "text/plain": [
       "<Figure size 432x288 with 1 Axes>"
      ]
     },
     "metadata": {
      "needs_background": "light"
     },
     "output_type": "display_data"
    }
   ],
   "source": [
    "plt.plot(range(1, 20, 2), train_score, marker='o')"
   ]
  },
  {
   "cell_type": "code",
   "execution_count": 20,
   "metadata": {},
   "outputs": [
    {
     "data": {
      "text/plain": [
       "[<matplotlib.lines.Line2D at 0x1f4803e29d0>]"
      ]
     },
     "execution_count": 20,
     "metadata": {},
     "output_type": "execute_result"
    },
    {
     "data": {
      "image/png": "[encoded data removed]",
      "text/plain": [
       "<Figure size 432x288 with 1 Axes>"
      ]
     },
     "metadata": {
      "needs_background": "light"
     },
     "output_type": "display_data"
    }
   ],
   "source": [
    "plt.plot(range(1, 20, 2), test_score, marker=\"x\")"
   ]
  },
  {
   "cell_type": "code",
   "execution_count": 21,
   "metadata": {},
   "outputs": [],
   "source": [
    "#data_point = [[3.1, 0, 90...]]\n",
    "\n",
    "#model1.predict(data_point)"
   ]
  },
  {
   "cell_type": "code",
   "execution_count": 22,
   "metadata": {},
   "outputs": [
    {
     "data": {
      "text/html": [
       "<div>\n",
       "<style scoped>\n",
       "    .dataframe tbody tr th:only-of-type {\n",
       "        vertical-align: middle;\n",
       "    }\n",
       "\n",
       "    .dataframe tbody tr th {\n",
       "        vertical-align: top;\n",
       "    }\n",
       "\n",
       "    .dataframe thead th {\n",
       "        text-align: right;\n",
       "    }\n",
       "</style>\n",
       "<table border=\"1\" class=\"dataframe\">\n",
       "  <thead>\n",
       "    <tr style=\"text-align: right;\">\n",
       "      <th></th>\n",
       "      <th>Unnamed: 0</th>\n",
       "      <th>City</th>\n",
       "      <th>Host Name</th>\n",
       "      <th>Neighbourhood</th>\n",
       "      <th>Latitude</th>\n",
       "      <th>Longitude</th>\n",
       "      <th>Property Type</th>\n",
       "      <th>Room Type</th>\n",
       "      <th>Price</th>\n",
       "      <th>Minimum Nights</th>\n",
       "      <th>Availability 365</th>\n",
       "      <th>Reviews Scores Rating</th>\n",
       "    </tr>\n",
       "  </thead>\n",
       "  <tbody>\n",
       "    <tr>\n",
       "      <th>0</th>\n",
       "      <td>0</td>\n",
       "      <td>Montreal,QC</td>\n",
       "      <td>Nelia</td>\n",
       "      <td>Le Plateau-Mont-Royal</td>\n",
       "      <td>45.53069</td>\n",
       "      <td>-73.58588</td>\n",
       "      <td>Private room in house</td>\n",
       "      <td>Private room</td>\n",
       "      <td>38.0</td>\n",
       "      <td>2</td>\n",
       "      <td>42</td>\n",
       "      <td>93.0</td>\n",
       "    </tr>\n",
       "    <tr>\n",
       "      <th>1</th>\n",
       "      <td>1</td>\n",
       "      <td>Montreal,QC</td>\n",
       "      <td>Maryline</td>\n",
       "      <td>Ville-Marie</td>\n",
       "      <td>45.51939</td>\n",
       "      <td>-73.56482</td>\n",
       "      <td>Entire apartment</td>\n",
       "      <td>Entire home/apt</td>\n",
       "      <td>133.0</td>\n",
       "      <td>2</td>\n",
       "      <td>343</td>\n",
       "      <td>94.0</td>\n",
       "    </tr>\n",
       "    <tr>\n",
       "      <th>2</th>\n",
       "      <td>2</td>\n",
       "      <td>Montreal,QC</td>\n",
       "      <td>Maryline</td>\n",
       "      <td>Ville-Marie</td>\n",
       "      <td>45.51929</td>\n",
       "      <td>-73.56493</td>\n",
       "      <td>Entire house</td>\n",
       "      <td>Entire home/apt</td>\n",
       "      <td>252.0</td>\n",
       "      <td>3</td>\n",
       "      <td>352</td>\n",
       "      <td>92.0</td>\n",
       "    </tr>\n",
       "    <tr>\n",
       "      <th>3</th>\n",
       "      <td>3</td>\n",
       "      <td>Montreal,QC</td>\n",
       "      <td>Gail</td>\n",
       "      <td>Le Sud-Ouest</td>\n",
       "      <td>45.48467</td>\n",
       "      <td>-73.57995</td>\n",
       "      <td>Private room in apartment</td>\n",
       "      <td>Private room</td>\n",
       "      <td>40.0</td>\n",
       "      <td>2</td>\n",
       "      <td>318</td>\n",
       "      <td>90.0</td>\n",
       "    </tr>\n",
       "    <tr>\n",
       "      <th>4</th>\n",
       "      <td>4</td>\n",
       "      <td>Montreal,QC</td>\n",
       "      <td>Alain</td>\n",
       "      <td>Rosemont-La Petite-Patrie</td>\n",
       "      <td>45.53840</td>\n",
       "      <td>-73.60355</td>\n",
       "      <td>Entire apartment</td>\n",
       "      <td>Entire home/apt</td>\n",
       "      <td>135.0</td>\n",
       "      <td>4</td>\n",
       "      <td>358</td>\n",
       "      <td>93.0</td>\n",
       "    </tr>\n",
       "    <tr>\n",
       "      <th>...</th>\n",
       "      <td>...</td>\n",
       "      <td>...</td>\n",
       "      <td>...</td>\n",
       "      <td>...</td>\n",
       "      <td>...</td>\n",
       "      <td>...</td>\n",
       "      <td>...</td>\n",
       "      <td>...</td>\n",
       "      <td>...</td>\n",
       "      <td>...</td>\n",
       "      <td>...</td>\n",
       "      <td>...</td>\n",
       "    </tr>\n",
       "    <tr>\n",
       "      <th>14012</th>\n",
       "      <td>14012</td>\n",
       "      <td>Montreal,QC</td>\n",
       "      <td>Alexandre Et Steven</td>\n",
       "      <td>Ville-Marie</td>\n",
       "      <td>45.51946</td>\n",
       "      <td>-73.56272</td>\n",
       "      <td>Entire apartment</td>\n",
       "      <td>Entire home/apt</td>\n",
       "      <td>74.0</td>\n",
       "      <td>1</td>\n",
       "      <td>71</td>\n",
       "      <td>60.0</td>\n",
       "    </tr>\n",
       "    <tr>\n",
       "      <th>14014</th>\n",
       "      <td>14014</td>\n",
       "      <td>Montreal,QC</td>\n",
       "      <td>Natalia</td>\n",
       "      <td>Le Sud-Ouest</td>\n",
       "      <td>45.45329</td>\n",
       "      <td>-73.59584</td>\n",
       "      <td>Entire apartment</td>\n",
       "      <td>Entire home/apt</td>\n",
       "      <td>67.0</td>\n",
       "      <td>1</td>\n",
       "      <td>365</td>\n",
       "      <td>80.0</td>\n",
       "    </tr>\n",
       "    <tr>\n",
       "      <th>14015</th>\n",
       "      <td>14015</td>\n",
       "      <td>Montreal,QC</td>\n",
       "      <td>Julien</td>\n",
       "      <td>Ville-Marie</td>\n",
       "      <td>45.50370</td>\n",
       "      <td>-73.56231</td>\n",
       "      <td>Entire loft</td>\n",
       "      <td>Entire home/apt</td>\n",
       "      <td>68.0</td>\n",
       "      <td>1</td>\n",
       "      <td>318</td>\n",
       "      <td>100.0</td>\n",
       "    </tr>\n",
       "    <tr>\n",
       "      <th>14040</th>\n",
       "      <td>14040</td>\n",
       "      <td>Montreal,QC</td>\n",
       "      <td>Ozan</td>\n",
       "      <td>Saint-Laurent</td>\n",
       "      <td>45.51102</td>\n",
       "      <td>-73.67354</td>\n",
       "      <td>Entire loft</td>\n",
       "      <td>Entire home/apt</td>\n",
       "      <td>96.0</td>\n",
       "      <td>1</td>\n",
       "      <td>349</td>\n",
       "      <td>20.0</td>\n",
       "    </tr>\n",
       "    <tr>\n",
       "      <th>14072</th>\n",
       "      <td>14072</td>\n",
       "      <td>Montreal,QC</td>\n",
       "      <td>Ricky</td>\n",
       "      <td>Ville-Marie</td>\n",
       "      <td>45.50304</td>\n",
       "      <td>-73.55352</td>\n",
       "      <td>Entire loft</td>\n",
       "      <td>Entire home/apt</td>\n",
       "      <td>54.0</td>\n",
       "      <td>1</td>\n",
       "      <td>83</td>\n",
       "      <td>100.0</td>\n",
       "    </tr>\n",
       "  </tbody>\n",
       "</table>\n",
       "<p>10357 rows × 12 columns</p>\n",
       "</div>"
      ],
      "text/plain": [
       "       Unnamed: 0         City            Host Name  \\\n",
       "0               0  Montreal,QC                Nelia   \n",
       "1               1  Montreal,QC             Maryline   \n",
       "2               2  Montreal,QC             Maryline   \n",
       "3               3  Montreal,QC                 Gail   \n",
       "4               4  Montreal,QC                Alain   \n",
       "...           ...          ...                  ...   \n",
       "14012       14012  Montreal,QC  Alexandre Et Steven   \n",
       "14014       14014  Montreal,QC              Natalia   \n",
       "14015       14015  Montreal,QC               Julien   \n",
       "14040       14040  Montreal,QC                 Ozan   \n",
       "14072       14072  Montreal,QC                Ricky   \n",
       "\n",
       "                   Neighbourhood  Latitude  Longitude  \\\n",
       "0          Le Plateau-Mont-Royal  45.53069  -73.58588   \n",
       "1                    Ville-Marie  45.51939  -73.56482   \n",
       "2                    Ville-Marie  45.51929  -73.56493   \n",
       "3                   Le Sud-Ouest  45.48467  -73.57995   \n",
       "4      Rosemont-La Petite-Patrie  45.53840  -73.60355   \n",
       "...                          ...       ...        ...   \n",
       "14012                Ville-Marie  45.51946  -73.56272   \n",
       "14014               Le Sud-Ouest  45.45329  -73.59584   \n",
       "14015                Ville-Marie  45.50370  -73.56231   \n",
       "14040              Saint-Laurent  45.51102  -73.67354   \n",
       "14072                Ville-Marie  45.50304  -73.55352   \n",
       "\n",
       "                   Property Type        Room Type  Price  Minimum Nights  \\\n",
       "0          Private room in house     Private room   38.0               2   \n",
       "1               Entire apartment  Entire home/apt  133.0               2   \n",
       "2                   Entire house  Entire home/apt  252.0               3   \n",
       "3      Private room in apartment     Private room   40.0               2   \n",
       "4               Entire apartment  Entire home/apt  135.0               4   \n",
       "...                          ...              ...    ...             ...   \n",
       "14012           Entire apartment  Entire home/apt   74.0               1   \n",
       "14014           Entire apartment  Entire home/apt   67.0               1   \n",
       "14015                Entire loft  Entire home/apt   68.0               1   \n",
       "14040                Entire loft  Entire home/apt   96.0               1   \n",
       "14072                Entire loft  Entire home/apt   54.0               1   \n",
       "\n",
       "       Availability 365  Reviews Scores Rating  \n",
       "0                    42                   93.0  \n",
       "1                   343                   94.0  \n",
       "2                   352                   92.0  \n",
       "3                   318                   90.0  \n",
       "4                   358                   93.0  \n",
       "...                 ...                    ...  \n",
       "14012                71                   60.0  \n",
       "14014               365                   80.0  \n",
       "14015               318                  100.0  \n",
       "14040               349                   20.0  \n",
       "14072                83                  100.0  \n",
       "\n",
       "[10357 rows x 12 columns]"
      ]
     },
     "execution_count": 22,
     "metadata": {},
     "output_type": "execute_result"
    }
   ],
   "source": [
    "df_filtered = df[(df.City == \"Montreal,QC\")]\n",
    "df_filtered"
   ]
  },
  {
   "cell_type": "code",
   "execution_count": 23,
   "metadata": {},
   "outputs": [],
   "source": [
    "import matplotlib.pyplot as plt\n",
    "from sklearn.model_selection import train_test_split\n",
    "from sklearn.neighbors import KNeighborsClassifier"
   ]
  },
  {
   "cell_type": "code",
   "execution_count": 24,
   "metadata": {},
   "outputs": [],
   "source": [
    "X= df_filtered[[\"Price\"]]"
   ]
  },
  {
   "cell_type": "code",
   "execution_count": 25,
   "metadata": {},
   "outputs": [],
   "source": [
    "y = df_filtered[\"Neighbourhood\"]"
   ]
  },
  {
   "cell_type": "code",
   "execution_count": 26,
   "metadata": {},
   "outputs": [],
   "source": [
    "X_train, X_test, y_train, y_test = train_test_split(X, y, random_state=42)"
   ]
  },
  {
   "cell_type": "code",
   "execution_count": 27,
   "metadata": {},
   "outputs": [],
   "source": [
    "from sklearn.preprocessing import StandardScaler"
   ]
  },
  {
   "cell_type": "code",
   "execution_count": 28,
   "metadata": {},
   "outputs": [],
   "source": [
    "X_scaler = StandardScaler().fit(X_train)"
   ]
  },
  {
   "cell_type": "code",
   "execution_count": 29,
   "metadata": {},
   "outputs": [],
   "source": [
    "X_train_scaled = X_scaler.transform(X_train)\n",
    "X_test_scaled = X_scaler.transform(X_test)"
   ]
  },
  {
   "cell_type": "code",
   "execution_count": 30,
   "metadata": {},
   "outputs": [
    {
     "data": {
      "text/plain": [
       "KNeighborsClassifier(n_neighbors=3)"
      ]
     },
     "execution_count": 30,
     "metadata": {},
     "output_type": "execute_result"
    }
   ],
   "source": [
    "model1 = KNeighborsClassifier(n_neighbors=3)\n",
    "model1.fit(X_train_scaled, y_train)"
   ]
  },
  {
   "cell_type": "code",
   "execution_count": 31,
   "metadata": {},
   "outputs": [
    {
     "data": {
      "text/plain": [
       "0.19845559845559846"
      ]
     },
     "execution_count": 31,
     "metadata": {},
     "output_type": "execute_result"
    }
   ],
   "source": [
    "model1.score(X_test_scaled, y_test)"
   ]
  },
  {
   "cell_type": "code",
   "execution_count": 32,
   "metadata": {},
   "outputs": [
    {
     "name": "stdout",
     "output_type": "stream",
     "text": [
      "1 0.22621346723316596 0.17953667953667954\n",
      "3 0.21835972705034118 0.19845559845559846\n",
      "5 0.2415346980816274 0.20656370656370657\n",
      "7 0.2768121539848075 0.24324324324324326\n",
      "9 0.28003089996137503 0.2494208494208494\n",
      "11 0.2989571263035921 0.2648648648648649\n",
      "13 0.3078408651989185 0.26833976833976836\n",
      "15 0.30513711857860176 0.266023166023166\n",
      "17 0.3093858632676709 0.2702702702702703\n",
      "19 0.3048796189004764 0.2590733590733591\n"
     ]
    }
   ],
   "source": [
    "train_score = []\n",
    "test_score = []\n",
    "for k in range(1, 20, 2): \n",
    "  model = KNeighborsClassifier(n_neighbors=k)\n",
    "  model.fit(X_train_scaled, y_train)\n",
    "  train_score.append(model.score(X_train_scaled, y_train))\n",
    "  test_score.append(model.score(X_test_scaled, y_test))\n",
    "  print(k, model.score(X_train_scaled, y_train), model.score(X_test_scaled, y_test))"
   ]
  },
  {
   "cell_type": "code",
   "execution_count": null,
   "metadata": {},
   "outputs": [],
   "source": []
  },
  {
   "cell_type": "code",
   "execution_count": null,
   "metadata": {},
   "outputs": [],
   "source": []
  },
  {
   "cell_type": "markdown",
   "metadata": {},
   "source": [
    "# Le'ts reduce dataset"
   ]
  },
  {
   "cell_type": "code",
   "execution_count": null,
   "metadata": {},
   "outputs": [],
   "source": [
    "#Top 5 and bottom 5 based on temperature:\n",
    "df_average_temperature = df[df.City.isin([\"Quebec City, QC\", \"New Brunswick, NB\", \"Twin Cities, MN\", \"Ottawa, ON\", \"Montreal, QC\", \"Hawaii, HI\", \"Broward County, FL\", \"New Orleans, LA\", \"Austin, TX\", \"Clark County, NV\"])]"
   ]
  },
  {
   "cell_type": "code",
   "execution_count": null,
   "metadata": {},
   "outputs": [],
   "source": [
    "#Answers to be provided by user\n",
    "Month = 12\n",
    "Start_Day = 21\n",
    "End_Day = 31"
   ]
  },
  {
   "cell_type": "code",
   "execution_count": null,
   "metadata": {},
   "outputs": [],
   "source": []
  },
  {
   "cell_type": "code",
   "execution_count": null,
   "metadata": {},
   "outputs": [],
   "source": [
    "#Top 5 and bottom 5 based on latitude:\n",
    "\n",
    "df_lat = df[df.City.isin([\"Hawaii, HI\", \"Broward County, FL\", \"New Orleans, LA\", \"Austin, TX\", \"San Diego, CA\", \"Vancouver, BC\", \"Seattle, WA\", \"Quebec City, QC\", \"New Brunswick, NB\", \"Portland, OR\"])]"
   ]
  },
  {
   "cell_type": "code",
   "execution_count": null,
   "metadata": {},
   "outputs": [],
   "source": [
    "df_lat"
   ]
  },
  {
   "cell_type": "code",
   "execution_count": null,
   "metadata": {},
   "outputs": [],
   "source": [
    "#Answers to be provided by user\n",
    "Month = 12\n",
    "Start_Day = 21\n",
    "End_Day = 31"
   ]
  },
  {
   "cell_type": "code",
   "execution_count": null,
   "metadata": {},
   "outputs": [],
   "source": [
    "df_new_lat = df_lat[(df.month == Month) & (df.day >= Start_Day) & (df.day <= End_Day)]"
   ]
  },
  {
   "cell_type": "code",
   "execution_count": null,
   "metadata": {},
   "outputs": [],
   "source": [
    "X= df_new_lat[[\"temp_max\", \"temp_min\", \"humidity\"]] #, \"snow\""
   ]
  },
  {
   "cell_type": "code",
   "execution_count": null,
   "metadata": {},
   "outputs": [],
   "source": [
    "y = df_new_lat[\"City\"]"
   ]
  },
  {
   "cell_type": "code",
   "execution_count": null,
   "metadata": {},
   "outputs": [],
   "source": [
    "import matplotlib.pyplot as plt\n",
    "from sklearn.model_selection import train_test_split\n",
    "from sklearn.neighbors import KNeighborsClassifier\n",
    "from sklearn.preprocessing import StandardScaler"
   ]
  },
  {
   "cell_type": "code",
   "execution_count": null,
   "metadata": {},
   "outputs": [],
   "source": [
    "X_train, X_test, y_train, y_test = train_test_split(X, y, random_state=42)"
   ]
  },
  {
   "cell_type": "code",
   "execution_count": null,
   "metadata": {},
   "outputs": [],
   "source": [
    "X_scaler = StandardScaler().fit(X_train)"
   ]
  },
  {
   "cell_type": "code",
   "execution_count": null,
   "metadata": {},
   "outputs": [],
   "source": [
    "X_train_scaled = X_scaler.transform(X_train)\n",
    "X_test_scaled = X_scaler.transform(X_test)"
   ]
  },
  {
   "cell_type": "code",
   "execution_count": null,
   "metadata": {},
   "outputs": [],
   "source": [
    "model1 = KNeighborsClassifier(n_neighbors=3)\n",
    "model1.fit(X_train_scaled, y_train)"
   ]
  },
  {
   "cell_type": "code",
   "execution_count": null,
   "metadata": {},
   "outputs": [],
   "source": [
    "model1.score(X_test_scaled, y_test)"
   ]
  },
  {
   "cell_type": "code",
   "execution_count": null,
   "metadata": {},
   "outputs": [],
   "source": [
    "train_score = []\n",
    "test_score = []\n",
    "for k in range(1, 20, 2): \n",
    "  model = KNeighborsClassifier(n_neighbors=k)\n",
    "  model.fit(X_train_scaled, y_train)\n",
    "  train_score.append(model.score(X_train_scaled, y_train))\n",
    "  test_score.append(model.score(X_test_scaled, y_test))\n",
    "  print(k, model.score(X_train_scaled, y_train), model.score(X_test_scaled, y_test))\n"
   ]
  },
  {
   "cell_type": "code",
   "execution_count": null,
   "metadata": {},
   "outputs": [],
   "source": [
    "#top 3 bottom 3 and 3 in\n",
    "\n",
    "df_lat = df[df.City.isin([\"Hawaii, HI\", \"Broward County, FL\", \"New Orleans, LA\", \"San Francisco, CA\", \"Nashville, TN\", \"Vancouver, BC\", \"Seattle, WA\", \"Quebec City, QC\", \"Columbus, OH\", \"Toronto, ON\"])]"
   ]
  },
  {
   "cell_type": "code",
   "execution_count": null,
   "metadata": {},
   "outputs": [],
   "source": [
    "data_point = [[3.1, 0, 90]]\n",
    "\n",
    "model1.predict(data_point)"
   ]
  },
  {
   "cell_type": "code",
   "execution_count": null,
   "metadata": {},
   "outputs": [],
   "source": []
  }
 ],
 "metadata": {
  "kernelspec": {
   "display_name": "Python 3",
   "language": "python",
   "name": "python3"
  },
  "language_info": {
   "codemirror_mode": {
    "name": "ipython",
    "version": 3
   },
   "file_extension": ".py",
   "mimetype": "text/x-python",
   "name": "python",
   "nbconvert_exporter": "python",
   "pygments_lexer": "ipython3",
   "version": "3.8.3"
  }
 },
 "nbformat": 4,
 "nbformat_minor": 4
}
