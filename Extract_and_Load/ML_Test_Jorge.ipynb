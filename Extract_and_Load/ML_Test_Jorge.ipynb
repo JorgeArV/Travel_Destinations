{
 "cells": [
  {
   "cell_type": "markdown",
   "metadata": {},
   "source": [
    "#Decision Tree Test - exploring data"
   ]
  },
  {
   "cell_type": "code",
   "execution_count": null,
   "metadata": {},
   "outputs": [],
   "source": [
    "#Initial test: Creating a decision tree. Decision tree just uses max and min temp as x values (for now), to predict a city"
   ]
  },
  {
   "cell_type": "code",
   "execution_count": 1,
   "metadata": {},
   "outputs": [],
   "source": [
    "import matplotlib.pyplot as plt\n",
    "from sklearn.neighbors import KNeighborsClassifier\n",
    "import pandas as pd\n",
    "import os"
   ]
  },
  {
   "cell_type": "code",
   "execution_count": 2,
   "metadata": {},
   "outputs": [],
   "source": [
    "df = pd.read_csv(os.path.join(\"Temperature_Dataset1.csv\"))"
   ]
  },
  {
   "cell_type": "code",
   "execution_count": 3,
   "metadata": {},
   "outputs": [
    {
     "data": {
      "text/html": [
       "<div>\n",
       "<style scoped>\n",
       "    .dataframe tbody tr th:only-of-type {\n",
       "        vertical-align: middle;\n",
       "    }\n",
       "\n",
       "    .dataframe tbody tr th {\n",
       "        vertical-align: top;\n",
       "    }\n",
       "\n",
       "    .dataframe thead th {\n",
       "        text-align: right;\n",
       "    }\n",
       "</style>\n",
       "<table border=\"1\" class=\"dataframe\">\n",
       "  <thead>\n",
       "    <tr style=\"text-align: right;\">\n",
       "      <th></th>\n",
       "      <th>City</th>\n",
       "      <th>Date</th>\n",
       "      <th>Temperature</th>\n",
       "      <th>temp_max</th>\n",
       "      <th>temp_min</th>\n",
       "      <th>humidity</th>\n",
       "      <th>precip</th>\n",
       "      <th>snow</th>\n",
       "      <th>windspeed</th>\n",
       "      <th>conditions</th>\n",
       "    </tr>\n",
       "  </thead>\n",
       "  <tbody>\n",
       "    <tr>\n",
       "      <th>0</th>\n",
       "      <td>Montreal, QC</td>\n",
       "      <td>2020-01-01</td>\n",
       "      <td>0.2</td>\n",
       "      <td>1.1</td>\n",
       "      <td>-0.8</td>\n",
       "      <td>87.84</td>\n",
       "      <td>5.71</td>\n",
       "      <td>0.00</td>\n",
       "      <td>7.9</td>\n",
       "      <td>Rain</td>\n",
       "    </tr>\n",
       "    <tr>\n",
       "      <th>1</th>\n",
       "      <td>Montreal, QC</td>\n",
       "      <td>2020-01-02</td>\n",
       "      <td>0.9</td>\n",
       "      <td>2.6</td>\n",
       "      <td>-1.0</td>\n",
       "      <td>78.70</td>\n",
       "      <td>0.00</td>\n",
       "      <td>0.00</td>\n",
       "      <td>7.7</td>\n",
       "      <td>Clear</td>\n",
       "    </tr>\n",
       "    <tr>\n",
       "      <th>2</th>\n",
       "      <td>Montreal, QC</td>\n",
       "      <td>2020-01-03</td>\n",
       "      <td>4.8</td>\n",
       "      <td>5.8</td>\n",
       "      <td>2.8</td>\n",
       "      <td>74.88</td>\n",
       "      <td>0.00</td>\n",
       "      <td>0.00</td>\n",
       "      <td>7.6</td>\n",
       "      <td>Clear</td>\n",
       "    </tr>\n",
       "    <tr>\n",
       "      <th>3</th>\n",
       "      <td>Montreal, QC</td>\n",
       "      <td>2020-01-04</td>\n",
       "      <td>0.5</td>\n",
       "      <td>3.2</td>\n",
       "      <td>-1.9</td>\n",
       "      <td>78.79</td>\n",
       "      <td>2.27</td>\n",
       "      <td>0.00</td>\n",
       "      <td>11.2</td>\n",
       "      <td>Rain</td>\n",
       "    </tr>\n",
       "    <tr>\n",
       "      <th>4</th>\n",
       "      <td>Montreal, QC</td>\n",
       "      <td>2020-01-05</td>\n",
       "      <td>-5.3</td>\n",
       "      <td>-1.8</td>\n",
       "      <td>-9.9</td>\n",
       "      <td>69.09</td>\n",
       "      <td>0.76</td>\n",
       "      <td>3.88</td>\n",
       "      <td>13.1</td>\n",
       "      <td>Snow</td>\n",
       "    </tr>\n",
       "    <tr>\n",
       "      <th>...</th>\n",
       "      <td>...</td>\n",
       "      <td>...</td>\n",
       "      <td>...</td>\n",
       "      <td>...</td>\n",
       "      <td>...</td>\n",
       "      <td>...</td>\n",
       "      <td>...</td>\n",
       "      <td>...</td>\n",
       "      <td>...</td>\n",
       "      <td>...</td>\n",
       "    </tr>\n",
       "    <tr>\n",
       "      <th>12805</th>\n",
       "      <td>Washington, DC</td>\n",
       "      <td>2020-12-27</td>\n",
       "      <td>1.0</td>\n",
       "      <td>5.6</td>\n",
       "      <td>-3.6</td>\n",
       "      <td>60.64</td>\n",
       "      <td>0.00</td>\n",
       "      <td>0.00</td>\n",
       "      <td>17.2</td>\n",
       "      <td>Partially cloudy</td>\n",
       "    </tr>\n",
       "    <tr>\n",
       "      <th>12806</th>\n",
       "      <td>Washington, DC</td>\n",
       "      <td>2020-12-28</td>\n",
       "      <td>6.1</td>\n",
       "      <td>11.3</td>\n",
       "      <td>1.6</td>\n",
       "      <td>64.95</td>\n",
       "      <td>0.00</td>\n",
       "      <td>0.00</td>\n",
       "      <td>19.5</td>\n",
       "      <td>Partially cloudy</td>\n",
       "    </tr>\n",
       "    <tr>\n",
       "      <th>12807</th>\n",
       "      <td>Washington, DC</td>\n",
       "      <td>2020-12-29</td>\n",
       "      <td>3.8</td>\n",
       "      <td>6.2</td>\n",
       "      <td>0.3</td>\n",
       "      <td>46.13</td>\n",
       "      <td>0.00</td>\n",
       "      <td>0.00</td>\n",
       "      <td>32.7</td>\n",
       "      <td>Partially cloudy</td>\n",
       "    </tr>\n",
       "    <tr>\n",
       "      <th>12808</th>\n",
       "      <td>Washington, DC</td>\n",
       "      <td>2020-12-30</td>\n",
       "      <td>3.8</td>\n",
       "      <td>7.8</td>\n",
       "      <td>-0.3</td>\n",
       "      <td>52.82</td>\n",
       "      <td>0.00</td>\n",
       "      <td>0.00</td>\n",
       "      <td>29.0</td>\n",
       "      <td>Overcast</td>\n",
       "    </tr>\n",
       "    <tr>\n",
       "      <th>12809</th>\n",
       "      <td>Washington, DC</td>\n",
       "      <td>2020-12-31</td>\n",
       "      <td>8.1</td>\n",
       "      <td>12.8</td>\n",
       "      <td>4.4</td>\n",
       "      <td>70.87</td>\n",
       "      <td>0.00</td>\n",
       "      <td>0.00</td>\n",
       "      <td>28.8</td>\n",
       "      <td>Overcast</td>\n",
       "    </tr>\n",
       "  </tbody>\n",
       "</table>\n",
       "<p>12810 rows × 10 columns</p>\n",
       "</div>"
      ],
      "text/plain": [
       "                 City        Date  Temperature  temp_max  temp_min  humidity  \\\n",
       "0        Montreal, QC  2020-01-01          0.2       1.1      -0.8     87.84   \n",
       "1        Montreal, QC  2020-01-02          0.9       2.6      -1.0     78.70   \n",
       "2        Montreal, QC  2020-01-03          4.8       5.8       2.8     74.88   \n",
       "3        Montreal, QC  2020-01-04          0.5       3.2      -1.9     78.79   \n",
       "4        Montreal, QC  2020-01-05         -5.3      -1.8      -9.9     69.09   \n",
       "...               ...         ...          ...       ...       ...       ...   \n",
       "12805  Washington, DC  2020-12-27          1.0       5.6      -3.6     60.64   \n",
       "12806  Washington, DC  2020-12-28          6.1      11.3       1.6     64.95   \n",
       "12807  Washington, DC  2020-12-29          3.8       6.2       0.3     46.13   \n",
       "12808  Washington, DC  2020-12-30          3.8       7.8      -0.3     52.82   \n",
       "12809  Washington, DC  2020-12-31          8.1      12.8       4.4     70.87   \n",
       "\n",
       "       precip  snow  windspeed        conditions  \n",
       "0        5.71  0.00        7.9              Rain  \n",
       "1        0.00  0.00        7.7             Clear  \n",
       "2        0.00  0.00        7.6             Clear  \n",
       "3        2.27  0.00       11.2              Rain  \n",
       "4        0.76  3.88       13.1              Snow  \n",
       "...       ...   ...        ...               ...  \n",
       "12805    0.00  0.00       17.2  Partially cloudy  \n",
       "12806    0.00  0.00       19.5  Partially cloudy  \n",
       "12807    0.00  0.00       32.7  Partially cloudy  \n",
       "12808    0.00  0.00       29.0          Overcast  \n",
       "12809    0.00  0.00       28.8          Overcast  \n",
       "\n",
       "[12810 rows x 10 columns]"
      ]
     },
     "execution_count": 3,
     "metadata": {},
     "output_type": "execute_result"
    }
   ],
   "source": [
    "df"
   ]
  },
  {
   "cell_type": "code",
   "execution_count": null,
   "metadata": {},
   "outputs": [],
   "source": [
    "y = df[\"City\"]"
   ]
  },
  {
   "cell_type": "code",
   "execution_count": null,
   "metadata": {},
   "outputs": [],
   "source": [
    "X= df[[\"temp_max\", \"temp_min\"]]"
   ]
  },
  {
   "cell_type": "code",
   "execution_count": null,
   "metadata": {},
   "outputs": [],
   "source": [
    "X.shape, y.shape"
   ]
  },
  {
   "cell_type": "code",
   "execution_count": null,
   "metadata": {},
   "outputs": [],
   "source": [
    "from sklearn.model_selection import train_test_split\n",
    "X_train, X_test, y_train, y_test = train_test_split(X, y, random_state=42)"
   ]
  },
  {
   "cell_type": "code",
   "execution_count": null,
   "metadata": {},
   "outputs": [],
   "source": [
    "from sklearn.tree import DecisionTreeClassifier"
   ]
  },
  {
   "cell_type": "code",
   "execution_count": null,
   "metadata": {},
   "outputs": [],
   "source": [
    "model = DecisionTreeClassifier()\n",
    "model.fit(X_train, y_train)\n",
    "model.score(X_test, y_test)"
   ]
  },
  {
   "cell_type": "code",
   "execution_count": null,
   "metadata": {},
   "outputs": [],
   "source": [
    "predictions = model.predict(X_test)"
   ]
  },
  {
   "cell_type": "code",
   "execution_count": null,
   "metadata": {},
   "outputs": [],
   "source": [
    "predictions"
   ]
  },
  {
   "cell_type": "code",
   "execution_count": null,
   "metadata": {},
   "outputs": [],
   "source": []
  },
  {
   "cell_type": "code",
   "execution_count": null,
   "metadata": {},
   "outputs": [],
   "source": [
    "data_point = [[-2, 8]]\n",
    "\n",
    "model.predict(data_point)"
   ]
  },
  {
   "cell_type": "markdown",
   "metadata": {},
   "source": [
    "# Let's reduce dataset to Dec. 20 - Dec. 29 to see if model score increases (Only Max. and Min. temp)"
   ]
  },
  {
   "cell_type": "code",
   "execution_count": 6,
   "metadata": {},
   "outputs": [
    {
     "data": {
      "text/plain": [
       "City            object\n",
       "Date            object\n",
       "Temperature    float64\n",
       "temp_max       float64\n",
       "temp_min       float64\n",
       "humidity       float64\n",
       "precip         float64\n",
       "snow           float64\n",
       "windspeed      float64\n",
       "conditions      object\n",
       "dtype: object"
      ]
     },
     "execution_count": 6,
     "metadata": {},
     "output_type": "execute_result"
    }
   ],
   "source": [
    "# 1.We find the variable types of each column - We need to change date to a date-time variable\n",
    "df.dtypes"
   ]
  },
  {
   "cell_type": "code",
   "execution_count": 7,
   "metadata": {},
   "outputs": [],
   "source": [
    "# We create a column with date as a datetime\n",
    "df['Time_stamp'] = pd.to_datetime(df['Date'].str.strip(), format='%Y/%m/%d')"
   ]
  },
  {
   "cell_type": "code",
   "execution_count": 8,
   "metadata": {},
   "outputs": [],
   "source": [
    "#User would imput this value\n",
    "df['day'] = df.Time_stamp.dt.day\n",
    "df['month'] = df.Time_stamp.dt.month\n",
    "df['year'] = df.Time_stamp.dt.year"
   ]
  },
  {
   "cell_type": "code",
   "execution_count": 9,
   "metadata": {},
   "outputs": [
    {
     "data": {
      "text/html": [
       "<div>\n",
       "<style scoped>\n",
       "    .dataframe tbody tr th:only-of-type {\n",
       "        vertical-align: middle;\n",
       "    }\n",
       "\n",
       "    .dataframe tbody tr th {\n",
       "        vertical-align: top;\n",
       "    }\n",
       "\n",
       "    .dataframe thead th {\n",
       "        text-align: right;\n",
       "    }\n",
       "</style>\n",
       "<table border=\"1\" class=\"dataframe\">\n",
       "  <thead>\n",
       "    <tr style=\"text-align: right;\">\n",
       "      <th></th>\n",
       "      <th>City</th>\n",
       "      <th>Date</th>\n",
       "      <th>Temperature</th>\n",
       "      <th>temp_max</th>\n",
       "      <th>temp_min</th>\n",
       "      <th>humidity</th>\n",
       "      <th>precip</th>\n",
       "      <th>snow</th>\n",
       "      <th>windspeed</th>\n",
       "      <th>conditions</th>\n",
       "      <th>Time_stamp</th>\n",
       "      <th>day</th>\n",
       "      <th>month</th>\n",
       "      <th>year</th>\n",
       "    </tr>\n",
       "  </thead>\n",
       "  <tbody>\n",
       "    <tr>\n",
       "      <th>0</th>\n",
       "      <td>Montreal, QC</td>\n",
       "      <td>2020-01-01</td>\n",
       "      <td>0.2</td>\n",
       "      <td>1.1</td>\n",
       "      <td>-0.8</td>\n",
       "      <td>87.84</td>\n",
       "      <td>5.71</td>\n",
       "      <td>0.00</td>\n",
       "      <td>7.9</td>\n",
       "      <td>Rain</td>\n",
       "      <td>2020-01-01</td>\n",
       "      <td>1</td>\n",
       "      <td>1</td>\n",
       "      <td>2020</td>\n",
       "    </tr>\n",
       "    <tr>\n",
       "      <th>1</th>\n",
       "      <td>Montreal, QC</td>\n",
       "      <td>2020-01-02</td>\n",
       "      <td>0.9</td>\n",
       "      <td>2.6</td>\n",
       "      <td>-1.0</td>\n",
       "      <td>78.70</td>\n",
       "      <td>0.00</td>\n",
       "      <td>0.00</td>\n",
       "      <td>7.7</td>\n",
       "      <td>Clear</td>\n",
       "      <td>2020-01-02</td>\n",
       "      <td>2</td>\n",
       "      <td>1</td>\n",
       "      <td>2020</td>\n",
       "    </tr>\n",
       "    <tr>\n",
       "      <th>2</th>\n",
       "      <td>Montreal, QC</td>\n",
       "      <td>2020-01-03</td>\n",
       "      <td>4.8</td>\n",
       "      <td>5.8</td>\n",
       "      <td>2.8</td>\n",
       "      <td>74.88</td>\n",
       "      <td>0.00</td>\n",
       "      <td>0.00</td>\n",
       "      <td>7.6</td>\n",
       "      <td>Clear</td>\n",
       "      <td>2020-01-03</td>\n",
       "      <td>3</td>\n",
       "      <td>1</td>\n",
       "      <td>2020</td>\n",
       "    </tr>\n",
       "    <tr>\n",
       "      <th>3</th>\n",
       "      <td>Montreal, QC</td>\n",
       "      <td>2020-01-04</td>\n",
       "      <td>0.5</td>\n",
       "      <td>3.2</td>\n",
       "      <td>-1.9</td>\n",
       "      <td>78.79</td>\n",
       "      <td>2.27</td>\n",
       "      <td>0.00</td>\n",
       "      <td>11.2</td>\n",
       "      <td>Rain</td>\n",
       "      <td>2020-01-04</td>\n",
       "      <td>4</td>\n",
       "      <td>1</td>\n",
       "      <td>2020</td>\n",
       "    </tr>\n",
       "    <tr>\n",
       "      <th>4</th>\n",
       "      <td>Montreal, QC</td>\n",
       "      <td>2020-01-05</td>\n",
       "      <td>-5.3</td>\n",
       "      <td>-1.8</td>\n",
       "      <td>-9.9</td>\n",
       "      <td>69.09</td>\n",
       "      <td>0.76</td>\n",
       "      <td>3.88</td>\n",
       "      <td>13.1</td>\n",
       "      <td>Snow</td>\n",
       "      <td>2020-01-05</td>\n",
       "      <td>5</td>\n",
       "      <td>1</td>\n",
       "      <td>2020</td>\n",
       "    </tr>\n",
       "    <tr>\n",
       "      <th>...</th>\n",
       "      <td>...</td>\n",
       "      <td>...</td>\n",
       "      <td>...</td>\n",
       "      <td>...</td>\n",
       "      <td>...</td>\n",
       "      <td>...</td>\n",
       "      <td>...</td>\n",
       "      <td>...</td>\n",
       "      <td>...</td>\n",
       "      <td>...</td>\n",
       "      <td>...</td>\n",
       "      <td>...</td>\n",
       "      <td>...</td>\n",
       "      <td>...</td>\n",
       "    </tr>\n",
       "    <tr>\n",
       "      <th>12805</th>\n",
       "      <td>Washington, DC</td>\n",
       "      <td>2020-12-27</td>\n",
       "      <td>1.0</td>\n",
       "      <td>5.6</td>\n",
       "      <td>-3.6</td>\n",
       "      <td>60.64</td>\n",
       "      <td>0.00</td>\n",
       "      <td>0.00</td>\n",
       "      <td>17.2</td>\n",
       "      <td>Partially cloudy</td>\n",
       "      <td>2020-12-27</td>\n",
       "      <td>27</td>\n",
       "      <td>12</td>\n",
       "      <td>2020</td>\n",
       "    </tr>\n",
       "    <tr>\n",
       "      <th>12806</th>\n",
       "      <td>Washington, DC</td>\n",
       "      <td>2020-12-28</td>\n",
       "      <td>6.1</td>\n",
       "      <td>11.3</td>\n",
       "      <td>1.6</td>\n",
       "      <td>64.95</td>\n",
       "      <td>0.00</td>\n",
       "      <td>0.00</td>\n",
       "      <td>19.5</td>\n",
       "      <td>Partially cloudy</td>\n",
       "      <td>2020-12-28</td>\n",
       "      <td>28</td>\n",
       "      <td>12</td>\n",
       "      <td>2020</td>\n",
       "    </tr>\n",
       "    <tr>\n",
       "      <th>12807</th>\n",
       "      <td>Washington, DC</td>\n",
       "      <td>2020-12-29</td>\n",
       "      <td>3.8</td>\n",
       "      <td>6.2</td>\n",
       "      <td>0.3</td>\n",
       "      <td>46.13</td>\n",
       "      <td>0.00</td>\n",
       "      <td>0.00</td>\n",
       "      <td>32.7</td>\n",
       "      <td>Partially cloudy</td>\n",
       "      <td>2020-12-29</td>\n",
       "      <td>29</td>\n",
       "      <td>12</td>\n",
       "      <td>2020</td>\n",
       "    </tr>\n",
       "    <tr>\n",
       "      <th>12808</th>\n",
       "      <td>Washington, DC</td>\n",
       "      <td>2020-12-30</td>\n",
       "      <td>3.8</td>\n",
       "      <td>7.8</td>\n",
       "      <td>-0.3</td>\n",
       "      <td>52.82</td>\n",
       "      <td>0.00</td>\n",
       "      <td>0.00</td>\n",
       "      <td>29.0</td>\n",
       "      <td>Overcast</td>\n",
       "      <td>2020-12-30</td>\n",
       "      <td>30</td>\n",
       "      <td>12</td>\n",
       "      <td>2020</td>\n",
       "    </tr>\n",
       "    <tr>\n",
       "      <th>12809</th>\n",
       "      <td>Washington, DC</td>\n",
       "      <td>2020-12-31</td>\n",
       "      <td>8.1</td>\n",
       "      <td>12.8</td>\n",
       "      <td>4.4</td>\n",
       "      <td>70.87</td>\n",
       "      <td>0.00</td>\n",
       "      <td>0.00</td>\n",
       "      <td>28.8</td>\n",
       "      <td>Overcast</td>\n",
       "      <td>2020-12-31</td>\n",
       "      <td>31</td>\n",
       "      <td>12</td>\n",
       "      <td>2020</td>\n",
       "    </tr>\n",
       "  </tbody>\n",
       "</table>\n",
       "<p>12810 rows × 14 columns</p>\n",
       "</div>"
      ],
      "text/plain": [
       "                 City        Date  Temperature  temp_max  temp_min  humidity  \\\n",
       "0        Montreal, QC  2020-01-01          0.2       1.1      -0.8     87.84   \n",
       "1        Montreal, QC  2020-01-02          0.9       2.6      -1.0     78.70   \n",
       "2        Montreal, QC  2020-01-03          4.8       5.8       2.8     74.88   \n",
       "3        Montreal, QC  2020-01-04          0.5       3.2      -1.9     78.79   \n",
       "4        Montreal, QC  2020-01-05         -5.3      -1.8      -9.9     69.09   \n",
       "...               ...         ...          ...       ...       ...       ...   \n",
       "12805  Washington, DC  2020-12-27          1.0       5.6      -3.6     60.64   \n",
       "12806  Washington, DC  2020-12-28          6.1      11.3       1.6     64.95   \n",
       "12807  Washington, DC  2020-12-29          3.8       6.2       0.3     46.13   \n",
       "12808  Washington, DC  2020-12-30          3.8       7.8      -0.3     52.82   \n",
       "12809  Washington, DC  2020-12-31          8.1      12.8       4.4     70.87   \n",
       "\n",
       "       precip  snow  windspeed        conditions Time_stamp  day  month  year  \n",
       "0        5.71  0.00        7.9              Rain 2020-01-01    1      1  2020  \n",
       "1        0.00  0.00        7.7             Clear 2020-01-02    2      1  2020  \n",
       "2        0.00  0.00        7.6             Clear 2020-01-03    3      1  2020  \n",
       "3        2.27  0.00       11.2              Rain 2020-01-04    4      1  2020  \n",
       "4        0.76  3.88       13.1              Snow 2020-01-05    5      1  2020  \n",
       "...       ...   ...        ...               ...        ...  ...    ...   ...  \n",
       "12805    0.00  0.00       17.2  Partially cloudy 2020-12-27   27     12  2020  \n",
       "12806    0.00  0.00       19.5  Partially cloudy 2020-12-28   28     12  2020  \n",
       "12807    0.00  0.00       32.7  Partially cloudy 2020-12-29   29     12  2020  \n",
       "12808    0.00  0.00       29.0          Overcast 2020-12-30   30     12  2020  \n",
       "12809    0.00  0.00       28.8          Overcast 2020-12-31   31     12  2020  \n",
       "\n",
       "[12810 rows x 14 columns]"
      ]
     },
     "execution_count": 9,
     "metadata": {},
     "output_type": "execute_result"
    }
   ],
   "source": [
    "df"
   ]
  },
  {
   "cell_type": "code",
   "execution_count": null,
   "metadata": {},
   "outputs": [],
   "source": [
    "#Answers to be provided by user\n",
    "Month = 12\n",
    "Start_Day = 21\n",
    "End_Day = 31\n"
   ]
  },
  {
   "cell_type": "code",
   "execution_count": null,
   "metadata": {},
   "outputs": [],
   "source": [
    "df_new = df[(df.month == Month) & (df.day >= Start_Day) & (df.day <= End_Day)]"
   ]
  },
  {
   "cell_type": "code",
   "execution_count": null,
   "metadata": {},
   "outputs": [],
   "source": [
    "df_new"
   ]
  },
  {
   "cell_type": "code",
   "execution_count": null,
   "metadata": {},
   "outputs": [],
   "source": [
    "y = df_new3[\"City\"]"
   ]
  },
  {
   "cell_type": "code",
   "execution_count": null,
   "metadata": {},
   "outputs": [],
   "source": [
    "X= df_new3[[\"temp_max\", \"temp_min\"]]"
   ]
  },
  {
   "cell_type": "code",
   "execution_count": null,
   "metadata": {},
   "outputs": [],
   "source": [
    "X_train, X_test, y_train, y_test = train_test_split(X, y, random_state=42)"
   ]
  },
  {
   "cell_type": "code",
   "execution_count": null,
   "metadata": {},
   "outputs": [],
   "source": [
    "model = DecisionTreeClassifier()\n",
    "model.fit(X_train, y_train)\n",
    "model.score(X_test, y_test)"
   ]
  },
  {
   "cell_type": "code",
   "execution_count": null,
   "metadata": {},
   "outputs": [],
   "source": [
    "data_point = [[15, 10]]\n",
    "\n",
    "model.predict(data_point)"
   ]
  },
  {
   "cell_type": "markdown",
   "metadata": {},
   "source": [
    "# Let's keep same period of time and add humidity"
   ]
  },
  {
   "cell_type": "code",
   "execution_count": null,
   "metadata": {},
   "outputs": [],
   "source": [
    "y = df_new[\"City\"]"
   ]
  },
  {
   "cell_type": "code",
   "execution_count": null,
   "metadata": {},
   "outputs": [],
   "source": [
    "X= df_new[[\"temp_max\", \"temp_min\", \"humidity\"]] #\"humidity\", \"windspeed\", \"precip\", \"snow\""
   ]
  },
  {
   "cell_type": "code",
   "execution_count": null,
   "metadata": {},
   "outputs": [],
   "source": [
    "X_train, X_test, y_train, y_test = train_test_split(X, y, random_state=42)"
   ]
  },
  {
   "cell_type": "code",
   "execution_count": null,
   "metadata": {},
   "outputs": [],
   "source": [
    "model = DecisionTreeClassifier()\n",
    "model.fit(X_train, y_train)\n",
    "model.score(X_test, y_test)"
   ]
  },
  {
   "cell_type": "code",
   "execution_count": null,
   "metadata": {},
   "outputs": [],
   "source": [
    "#For humidity, maybe the user inputs very high high, medium or low --> very high 80 , high 65, medium 40, low 20\n",
    "data_point = [[-5, -10, 80]]\n",
    "\n",
    "model.predict(data_point)"
   ]
  },
  {
   "cell_type": "markdown",
   "metadata": {},
   "source": [
    "# Neighbors"
   ]
  },
  {
   "cell_type": "code",
   "execution_count": null,
   "metadata": {},
   "outputs": [],
   "source": [
    "import matplotlib.pyplot as plt\n",
    "from sklearn.model_selection import train_test_split\n",
    "from sklearn.neighbors import KNeighborsClassifier"
   ]
  },
  {
   "cell_type": "code",
   "execution_count": null,
   "metadata": {},
   "outputs": [],
   "source": [
    "df"
   ]
  },
  {
   "cell_type": "code",
   "execution_count": null,
   "metadata": {},
   "outputs": [],
   "source": [
    "X= df_new3[[\"temp_max\", \"temp_min\", \"humidity\", \"snow\"]]"
   ]
  },
  {
   "cell_type": "code",
   "execution_count": null,
   "metadata": {},
   "outputs": [],
   "source": [
    "y = df_new3[\"City\"]"
   ]
  },
  {
   "cell_type": "code",
   "execution_count": null,
   "metadata": {},
   "outputs": [],
   "source": [
    "X_train, X_test, y_train, y_test = train_test_split(X, y, random_state=42)"
   ]
  },
  {
   "cell_type": "code",
   "execution_count": null,
   "metadata": {},
   "outputs": [],
   "source": [
    "from sklearn.preprocessing import StandardScaler"
   ]
  },
  {
   "cell_type": "code",
   "execution_count": null,
   "metadata": {},
   "outputs": [],
   "source": [
    "X_scaler = StandardScaler().fit(X_train)"
   ]
  },
  {
   "cell_type": "code",
   "execution_count": null,
   "metadata": {},
   "outputs": [],
   "source": [
    "X_train_scaled = X_scaler.transform(X_train)\n",
    "X_test_scaled = X_scaler.transform(X_test)"
   ]
  },
  {
   "cell_type": "code",
   "execution_count": null,
   "metadata": {},
   "outputs": [],
   "source": [
    "model1 = KNeighborsClassifier(n_neighbors=3)\n",
    "model1.fit(X_train_scaled, y_train)"
   ]
  },
  {
   "cell_type": "code",
   "execution_count": null,
   "metadata": {},
   "outputs": [],
   "source": [
    "model1.score(X_test_scaled, y_test)"
   ]
  },
  {
   "cell_type": "code",
   "execution_count": null,
   "metadata": {},
   "outputs": [],
   "source": [
    "train_score = []\n",
    "test_score = []\n",
    "for k in range(1, 20, 2): \n",
    "  model = KNeighborsClassifier(n_neighbors=k)\n",
    "  model.fit(X_train_scaled, y_train)\n",
    "  train_score.append(model.score(X_train_scaled, y_train))\n",
    "  test_score.append(model.score(X_test_scaled, y_test))\n",
    "  print(k, model.score(X_train_scaled, y_train), model.score(X_test_scaled, y_test))\n"
   ]
  },
  {
   "cell_type": "code",
   "execution_count": null,
   "metadata": {},
   "outputs": [],
   "source": [
    "plt.plot(range(1, 20, 2), train_score, marker='o')"
   ]
  },
  {
   "cell_type": "code",
   "execution_count": null,
   "metadata": {},
   "outputs": [],
   "source": [
    "plt.plot(range(1, 20, 2), test_score, marker=\"x\")"
   ]
  },
  {
   "cell_type": "code",
   "execution_count": null,
   "metadata": {},
   "outputs": [],
   "source": [
    "data_point = [[3.1, 0, 90...]]\n",
    "\n",
    "model1.predict(data_point)"
   ]
  },
  {
   "cell_type": "markdown",
   "metadata": {},
   "source": [
    "# Le'ts reduce dataset"
   ]
  },
  {
   "cell_type": "code",
   "execution_count": 25,
   "metadata": {},
   "outputs": [],
   "source": [
    "#Top 5 and bottom 5 based on temperature:\n",
    "df_average_temperature = df[df.City.isin([\"Quebec City, QC\", \"New Brunswick, NB\", \"Twin Cities, MN\", \"Ottawa, ON\", \"Montreal, QC\", \"Hawaii, HI\", \"Broward County, FL\", \"New Orleans, LA\", \"Austin, TX\", \"Clark County, NV\"])]"
   ]
  },
  {
   "cell_type": "code",
   "execution_count": 26,
   "metadata": {},
   "outputs": [],
   "source": [
    "#Answers to be provided by user\n",
    "Month = 12\n",
    "Start_Day = 21\n",
    "End_Day = 31"
   ]
  },
  {
   "cell_type": "code",
   "execution_count": null,
   "metadata": {},
   "outputs": [],
   "source": []
  },
  {
   "cell_type": "code",
   "execution_count": 10,
   "metadata": {},
   "outputs": [],
   "source": [
    "#Top 5 and bottom 5 based on latitude:\n",
    "\n",
    "df_lat = df[df.City.isin([\"Hawaii, HI\", \"Broward County, FL\", \"New Orleans, LA\", \"Austin, TX\", \"San Diego, CA\", \"Vancouver, BC\", \"Seattle, WA\", \"Quebec City, QC\", \"New Brunswick, NB\", \"Portland, OR\"])]"
   ]
  },
  {
   "cell_type": "code",
   "execution_count": 11,
   "metadata": {},
   "outputs": [
    {
     "data": {
      "text/html": [
       "<div>\n",
       "<style scoped>\n",
       "    .dataframe tbody tr th:only-of-type {\n",
       "        vertical-align: middle;\n",
       "    }\n",
       "\n",
       "    .dataframe tbody tr th {\n",
       "        vertical-align: top;\n",
       "    }\n",
       "\n",
       "    .dataframe thead th {\n",
       "        text-align: right;\n",
       "    }\n",
       "</style>\n",
       "<table border=\"1\" class=\"dataframe\">\n",
       "  <thead>\n",
       "    <tr style=\"text-align: right;\">\n",
       "      <th></th>\n",
       "      <th>City</th>\n",
       "      <th>Date</th>\n",
       "      <th>Temperature</th>\n",
       "      <th>temp_max</th>\n",
       "      <th>temp_min</th>\n",
       "      <th>humidity</th>\n",
       "      <th>precip</th>\n",
       "      <th>snow</th>\n",
       "      <th>windspeed</th>\n",
       "      <th>conditions</th>\n",
       "      <th>Time_stamp</th>\n",
       "      <th>day</th>\n",
       "      <th>month</th>\n",
       "      <th>year</th>\n",
       "    </tr>\n",
       "  </thead>\n",
       "  <tbody>\n",
       "    <tr>\n",
       "      <th>366</th>\n",
       "      <td>New Brunswick, NB</td>\n",
       "      <td>2020-01-01</td>\n",
       "      <td>-1.6</td>\n",
       "      <td>-0.9</td>\n",
       "      <td>-3.3</td>\n",
       "      <td>85.81</td>\n",
       "      <td>1.11</td>\n",
       "      <td>0.0</td>\n",
       "      <td>19.6</td>\n",
       "      <td>Snow</td>\n",
       "      <td>2020-01-01</td>\n",
       "      <td>1</td>\n",
       "      <td>1</td>\n",
       "      <td>2020</td>\n",
       "    </tr>\n",
       "    <tr>\n",
       "      <th>367</th>\n",
       "      <td>New Brunswick, NB</td>\n",
       "      <td>2020-01-02</td>\n",
       "      <td>-1.3</td>\n",
       "      <td>0.9</td>\n",
       "      <td>-3.1</td>\n",
       "      <td>77.94</td>\n",
       "      <td>2.80</td>\n",
       "      <td>0.0</td>\n",
       "      <td>23.2</td>\n",
       "      <td>Snow</td>\n",
       "      <td>2020-01-02</td>\n",
       "      <td>2</td>\n",
       "      <td>1</td>\n",
       "      <td>2020</td>\n",
       "    </tr>\n",
       "    <tr>\n",
       "      <th>368</th>\n",
       "      <td>New Brunswick, NB</td>\n",
       "      <td>2020-01-03</td>\n",
       "      <td>-0.4</td>\n",
       "      <td>3.1</td>\n",
       "      <td>-3.7</td>\n",
       "      <td>86.05</td>\n",
       "      <td>1.30</td>\n",
       "      <td>0.0</td>\n",
       "      <td>10.4</td>\n",
       "      <td>Snow</td>\n",
       "      <td>2020-01-03</td>\n",
       "      <td>3</td>\n",
       "      <td>1</td>\n",
       "      <td>2020</td>\n",
       "    </tr>\n",
       "    <tr>\n",
       "      <th>369</th>\n",
       "      <td>New Brunswick, NB</td>\n",
       "      <td>2020-01-04</td>\n",
       "      <td>0.2</td>\n",
       "      <td>2.3</td>\n",
       "      <td>-3.0</td>\n",
       "      <td>88.24</td>\n",
       "      <td>1.11</td>\n",
       "      <td>0.0</td>\n",
       "      <td>11.1</td>\n",
       "      <td>Rain</td>\n",
       "      <td>2020-01-04</td>\n",
       "      <td>4</td>\n",
       "      <td>1</td>\n",
       "      <td>2020</td>\n",
       "    </tr>\n",
       "    <tr>\n",
       "      <th>370</th>\n",
       "      <td>New Brunswick, NB</td>\n",
       "      <td>2020-01-05</td>\n",
       "      <td>-2.6</td>\n",
       "      <td>-0.8</td>\n",
       "      <td>-7.1</td>\n",
       "      <td>83.28</td>\n",
       "      <td>1.91</td>\n",
       "      <td>0.0</td>\n",
       "      <td>26.5</td>\n",
       "      <td>Snow</td>\n",
       "      <td>2020-01-05</td>\n",
       "      <td>5</td>\n",
       "      <td>1</td>\n",
       "      <td>2020</td>\n",
       "    </tr>\n",
       "    <tr>\n",
       "      <th>...</th>\n",
       "      <td>...</td>\n",
       "      <td>...</td>\n",
       "      <td>...</td>\n",
       "      <td>...</td>\n",
       "      <td>...</td>\n",
       "      <td>...</td>\n",
       "      <td>...</td>\n",
       "      <td>...</td>\n",
       "      <td>...</td>\n",
       "      <td>...</td>\n",
       "      <td>...</td>\n",
       "      <td>...</td>\n",
       "      <td>...</td>\n",
       "      <td>...</td>\n",
       "    </tr>\n",
       "    <tr>\n",
       "      <th>12073</th>\n",
       "      <td>Seattle, WA</td>\n",
       "      <td>2020-12-27</td>\n",
       "      <td>5.9</td>\n",
       "      <td>8.5</td>\n",
       "      <td>2.0</td>\n",
       "      <td>87.36</td>\n",
       "      <td>1.77</td>\n",
       "      <td>0.0</td>\n",
       "      <td>10.0</td>\n",
       "      <td>Rain, Overcast</td>\n",
       "      <td>2020-12-27</td>\n",
       "      <td>27</td>\n",
       "      <td>12</td>\n",
       "      <td>2020</td>\n",
       "    </tr>\n",
       "    <tr>\n",
       "      <th>12074</th>\n",
       "      <td>Seattle, WA</td>\n",
       "      <td>2020-12-28</td>\n",
       "      <td>3.6</td>\n",
       "      <td>8.4</td>\n",
       "      <td>-0.3</td>\n",
       "      <td>84.62</td>\n",
       "      <td>0.00</td>\n",
       "      <td>0.0</td>\n",
       "      <td>11.3</td>\n",
       "      <td>Partially cloudy</td>\n",
       "      <td>2020-12-28</td>\n",
       "      <td>28</td>\n",
       "      <td>12</td>\n",
       "      <td>2020</td>\n",
       "    </tr>\n",
       "    <tr>\n",
       "      <th>12075</th>\n",
       "      <td>Seattle, WA</td>\n",
       "      <td>2020-12-29</td>\n",
       "      <td>3.2</td>\n",
       "      <td>4.7</td>\n",
       "      <td>1.0</td>\n",
       "      <td>84.13</td>\n",
       "      <td>1.29</td>\n",
       "      <td>0.0</td>\n",
       "      <td>12.9</td>\n",
       "      <td>Rain, Overcast</td>\n",
       "      <td>2020-12-29</td>\n",
       "      <td>29</td>\n",
       "      <td>12</td>\n",
       "      <td>2020</td>\n",
       "    </tr>\n",
       "    <tr>\n",
       "      <th>12076</th>\n",
       "      <td>Seattle, WA</td>\n",
       "      <td>2020-12-30</td>\n",
       "      <td>6.6</td>\n",
       "      <td>8.7</td>\n",
       "      <td>4.4</td>\n",
       "      <td>91.82</td>\n",
       "      <td>12.24</td>\n",
       "      <td>0.0</td>\n",
       "      <td>30.2</td>\n",
       "      <td>Rain, Overcast</td>\n",
       "      <td>2020-12-30</td>\n",
       "      <td>30</td>\n",
       "      <td>12</td>\n",
       "      <td>2020</td>\n",
       "    </tr>\n",
       "    <tr>\n",
       "      <th>12077</th>\n",
       "      <td>Seattle, WA</td>\n",
       "      <td>2020-12-31</td>\n",
       "      <td>8.8</td>\n",
       "      <td>9.6</td>\n",
       "      <td>7.6</td>\n",
       "      <td>88.07</td>\n",
       "      <td>2.81</td>\n",
       "      <td>0.0</td>\n",
       "      <td>27.6</td>\n",
       "      <td>Rain, Overcast</td>\n",
       "      <td>2020-12-31</td>\n",
       "      <td>31</td>\n",
       "      <td>12</td>\n",
       "      <td>2020</td>\n",
       "    </tr>\n",
       "  </tbody>\n",
       "</table>\n",
       "<p>3660 rows × 14 columns</p>\n",
       "</div>"
      ],
      "text/plain": [
       "                    City        Date  Temperature  temp_max  temp_min  \\\n",
       "366    New Brunswick, NB  2020-01-01         -1.6      -0.9      -3.3   \n",
       "367    New Brunswick, NB  2020-01-02         -1.3       0.9      -3.1   \n",
       "368    New Brunswick, NB  2020-01-03         -0.4       3.1      -3.7   \n",
       "369    New Brunswick, NB  2020-01-04          0.2       2.3      -3.0   \n",
       "370    New Brunswick, NB  2020-01-05         -2.6      -0.8      -7.1   \n",
       "...                  ...         ...          ...       ...       ...   \n",
       "12073        Seattle, WA  2020-12-27          5.9       8.5       2.0   \n",
       "12074        Seattle, WA  2020-12-28          3.6       8.4      -0.3   \n",
       "12075        Seattle, WA  2020-12-29          3.2       4.7       1.0   \n",
       "12076        Seattle, WA  2020-12-30          6.6       8.7       4.4   \n",
       "12077        Seattle, WA  2020-12-31          8.8       9.6       7.6   \n",
       "\n",
       "       humidity  precip  snow  windspeed        conditions Time_stamp  day  \\\n",
       "366       85.81    1.11   0.0       19.6              Snow 2020-01-01    1   \n",
       "367       77.94    2.80   0.0       23.2              Snow 2020-01-02    2   \n",
       "368       86.05    1.30   0.0       10.4              Snow 2020-01-03    3   \n",
       "369       88.24    1.11   0.0       11.1              Rain 2020-01-04    4   \n",
       "370       83.28    1.91   0.0       26.5              Snow 2020-01-05    5   \n",
       "...         ...     ...   ...        ...               ...        ...  ...   \n",
       "12073     87.36    1.77   0.0       10.0    Rain, Overcast 2020-12-27   27   \n",
       "12074     84.62    0.00   0.0       11.3  Partially cloudy 2020-12-28   28   \n",
       "12075     84.13    1.29   0.0       12.9    Rain, Overcast 2020-12-29   29   \n",
       "12076     91.82   12.24   0.0       30.2    Rain, Overcast 2020-12-30   30   \n",
       "12077     88.07    2.81   0.0       27.6    Rain, Overcast 2020-12-31   31   \n",
       "\n",
       "       month  year  \n",
       "366        1  2020  \n",
       "367        1  2020  \n",
       "368        1  2020  \n",
       "369        1  2020  \n",
       "370        1  2020  \n",
       "...      ...   ...  \n",
       "12073     12  2020  \n",
       "12074     12  2020  \n",
       "12075     12  2020  \n",
       "12076     12  2020  \n",
       "12077     12  2020  \n",
       "\n",
       "[3660 rows x 14 columns]"
      ]
     },
     "execution_count": 11,
     "metadata": {},
     "output_type": "execute_result"
    }
   ],
   "source": [
    "df_lat"
   ]
  },
  {
   "cell_type": "code",
   "execution_count": 27,
   "metadata": {},
   "outputs": [],
   "source": [
    "#Answers to be provided by user\n",
    "Month = 12\n",
    "Start_Day = 21\n",
    "End_Day = 31"
   ]
  },
  {
   "cell_type": "code",
   "execution_count": 41,
   "metadata": {},
   "outputs": [
    {
     "name": "stderr",
     "output_type": "stream",
     "text": [
      "<ipython-input-41-1b2208e003b7>:1: UserWarning: Boolean Series key will be reindexed to match DataFrame index.\n",
      "  df_new_lat = df_lat[(df.month == Month) & (df.day >= Start_Day) & (df.day <= End_Day)]\n"
     ]
    }
   ],
   "source": [
    "df_new_lat = df_lat[(df.month == Month) & (df.day >= Start_Day) & (df.day <= End_Day)]"
   ]
  },
  {
   "cell_type": "code",
   "execution_count": 59,
   "metadata": {},
   "outputs": [],
   "source": [
    "X= df_new_lat[[\"temp_max\", \"temp_min\", \"humidity\"]] #, \"snow\""
   ]
  },
  {
   "cell_type": "code",
   "execution_count": 60,
   "metadata": {},
   "outputs": [],
   "source": [
    "y = df_new_lat[\"City\"]"
   ]
  },
  {
   "cell_type": "code",
   "execution_count": 61,
   "metadata": {},
   "outputs": [],
   "source": [
    "import matplotlib.pyplot as plt\n",
    "from sklearn.model_selection import train_test_split\n",
    "from sklearn.neighbors import KNeighborsClassifier\n",
    "from sklearn.preprocessing import StandardScaler"
   ]
  },
  {
   "cell_type": "code",
   "execution_count": 62,
   "metadata": {},
   "outputs": [],
   "source": [
    "X_train, X_test, y_train, y_test = train_test_split(X, y, random_state=42)"
   ]
  },
  {
   "cell_type": "code",
   "execution_count": 63,
   "metadata": {},
   "outputs": [],
   "source": [
    "X_scaler = StandardScaler().fit(X_train)"
   ]
  },
  {
   "cell_type": "code",
   "execution_count": 64,
   "metadata": {},
   "outputs": [],
   "source": [
    "X_train_scaled = X_scaler.transform(X_train)\n",
    "X_test_scaled = X_scaler.transform(X_test)"
   ]
  },
  {
   "cell_type": "code",
   "execution_count": 65,
   "metadata": {},
   "outputs": [
    {
     "data": {
      "text/plain": [
       "KNeighborsClassifier(n_neighbors=3)"
      ]
     },
     "execution_count": 65,
     "metadata": {},
     "output_type": "execute_result"
    }
   ],
   "source": [
    "model1 = KNeighborsClassifier(n_neighbors=3)\n",
    "model1.fit(X_train_scaled, y_train)"
   ]
  },
  {
   "cell_type": "code",
   "execution_count": 66,
   "metadata": {},
   "outputs": [
    {
     "data": {
      "text/plain": [
       "0.5714285714285714"
      ]
     },
     "execution_count": 66,
     "metadata": {},
     "output_type": "execute_result"
    }
   ],
   "source": [
    "model1.score(X_test_scaled, y_test)"
   ]
  },
  {
   "cell_type": "code",
   "execution_count": 67,
   "metadata": {},
   "outputs": [
    {
     "name": "stdout",
     "output_type": "stream",
     "text": [
      "1 1.0 0.6428571428571429\n",
      "3 0.8170731707317073 0.5714285714285714\n",
      "5 0.7195121951219512 0.5714285714285714\n",
      "7 0.6829268292682927 0.5\n",
      "9 0.6585365853658537 0.5357142857142857\n",
      "11 0.6585365853658537 0.5\n",
      "13 0.6341463414634146 0.5357142857142857\n",
      "15 0.5609756097560976 0.42857142857142855\n",
      "17 0.5121951219512195 0.2857142857142857\n",
      "19 0.45121951219512196 0.32142857142857145\n"
     ]
    }
   ],
   "source": [
    "train_score = []\n",
    "test_score = []\n",
    "for k in range(1, 20, 2): \n",
    "  model = KNeighborsClassifier(n_neighbors=k)\n",
    "  model.fit(X_train_scaled, y_train)\n",
    "  train_score.append(model.score(X_train_scaled, y_train))\n",
    "  test_score.append(model.score(X_test_scaled, y_test))\n",
    "  print(k, model.score(X_train_scaled, y_train), model.score(X_test_scaled, y_test))\n"
   ]
  },
  {
   "cell_type": "code",
   "execution_count": 40,
   "metadata": {},
   "outputs": [],
   "source": [
    "#top 3 bottom 3 and 3 in\n",
    "\n",
    "df_lat = df[df.City.isin([\"Hawaii, HI\", \"Broward County, FL\", \"New Orleans, LA\", \"San Francisco, CA\", \"Nashville, TN\", \"Vancouver, BC\", \"Seattle, WA\", \"Quebec City, QC\", \"Columbus, OH\", \"Toronto, ON\"])]"
   ]
  },
  {
   "cell_type": "code",
   "execution_count": 68,
   "metadata": {},
   "outputs": [
    {
     "data": {
      "text/plain": [
       "array(['Vancouver, BC'], dtype=object)"
      ]
     },
     "execution_count": 68,
     "metadata": {},
     "output_type": "execute_result"
    }
   ],
   "source": [
    "data_point = [[3.1, 0, 90]]\n",
    "\n",
    "model1.predict(data_point)"
   ]
  },
  {
   "cell_type": "code",
   "execution_count": null,
   "metadata": {},
   "outputs": [],
   "source": []
  }
 ],
 "metadata": {
  "kernelspec": {
   "display_name": "Python 3",
   "language": "python",
   "name": "python3"
  },
  "language_info": {
   "codemirror_mode": {
    "name": "ipython",
    "version": 3
   },
   "file_extension": ".py",
   "mimetype": "text/x-python",
   "name": "python",
   "nbconvert_exporter": "python",
   "pygments_lexer": "ipython3",
   "version": "3.8.3"
  }
 },
 "nbformat": 4,
 "nbformat_minor": 4
}
