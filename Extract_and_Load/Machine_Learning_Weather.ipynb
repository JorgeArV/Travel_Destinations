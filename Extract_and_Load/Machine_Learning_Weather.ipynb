{
 "cells": [
  {
   "cell_type": "markdown",
   "metadata": {},
   "source": [
    "#Decision Tree Test - exploring data"
   ]
  },
  {
   "cell_type": "code",
   "execution_count": 1,
   "metadata": {},
   "outputs": [],
   "source": [
    "import matplotlib.pyplot as plt\n",
    "from sklearn.neighbors import KNeighborsClassifier\n",
    "import pandas as pd\n",
    "import os\n",
    "import pickle "
   ]
  },
  {
   "cell_type": "code",
   "execution_count": 2,
   "metadata": {},
   "outputs": [],
   "source": [
    "df = pd.read_csv(os.path.join(\"Temperature_Dataset1.csv\"))"
   ]
  },
  {
   "cell_type": "code",
   "execution_count": 3,
   "metadata": {},
   "outputs": [
    {
     "data": {
      "text/html": [
       "<div>\n",
       "<style scoped>\n",
       "    .dataframe tbody tr th:only-of-type {\n",
       "        vertical-align: middle;\n",
       "    }\n",
       "\n",
       "    .dataframe tbody tr th {\n",
       "        vertical-align: top;\n",
       "    }\n",
       "\n",
       "    .dataframe thead th {\n",
       "        text-align: right;\n",
       "    }\n",
       "</style>\n",
       "<table border=\"1\" class=\"dataframe\">\n",
       "  <thead>\n",
       "    <tr style=\"text-align: right;\">\n",
       "      <th></th>\n",
       "      <th>City</th>\n",
       "      <th>Date</th>\n",
       "      <th>Temperature</th>\n",
       "      <th>temp_max</th>\n",
       "      <th>temp_min</th>\n",
       "      <th>humidity</th>\n",
       "      <th>precip</th>\n",
       "      <th>snow</th>\n",
       "      <th>windspeed</th>\n",
       "      <th>conditions</th>\n",
       "    </tr>\n",
       "  </thead>\n",
       "  <tbody>\n",
       "    <tr>\n",
       "      <th>0</th>\n",
       "      <td>Montreal, QC</td>\n",
       "      <td>2020-01-01</td>\n",
       "      <td>0.2</td>\n",
       "      <td>1.1</td>\n",
       "      <td>-0.8</td>\n",
       "      <td>87.84</td>\n",
       "      <td>5.71</td>\n",
       "      <td>0.00</td>\n",
       "      <td>7.9</td>\n",
       "      <td>Rain</td>\n",
       "    </tr>\n",
       "    <tr>\n",
       "      <th>1</th>\n",
       "      <td>Montreal, QC</td>\n",
       "      <td>2020-01-02</td>\n",
       "      <td>0.9</td>\n",
       "      <td>2.6</td>\n",
       "      <td>-1.0</td>\n",
       "      <td>78.70</td>\n",
       "      <td>0.00</td>\n",
       "      <td>0.00</td>\n",
       "      <td>7.7</td>\n",
       "      <td>Clear</td>\n",
       "    </tr>\n",
       "    <tr>\n",
       "      <th>2</th>\n",
       "      <td>Montreal, QC</td>\n",
       "      <td>2020-01-03</td>\n",
       "      <td>4.8</td>\n",
       "      <td>5.8</td>\n",
       "      <td>2.8</td>\n",
       "      <td>74.88</td>\n",
       "      <td>0.00</td>\n",
       "      <td>0.00</td>\n",
       "      <td>7.6</td>\n",
       "      <td>Clear</td>\n",
       "    </tr>\n",
       "    <tr>\n",
       "      <th>3</th>\n",
       "      <td>Montreal, QC</td>\n",
       "      <td>2020-01-04</td>\n",
       "      <td>0.5</td>\n",
       "      <td>3.2</td>\n",
       "      <td>-1.9</td>\n",
       "      <td>78.79</td>\n",
       "      <td>2.27</td>\n",
       "      <td>0.00</td>\n",
       "      <td>11.2</td>\n",
       "      <td>Rain</td>\n",
       "    </tr>\n",
       "    <tr>\n",
       "      <th>4</th>\n",
       "      <td>Montreal, QC</td>\n",
       "      <td>2020-01-05</td>\n",
       "      <td>-5.3</td>\n",
       "      <td>-1.8</td>\n",
       "      <td>-9.9</td>\n",
       "      <td>69.09</td>\n",
       "      <td>0.76</td>\n",
       "      <td>3.88</td>\n",
       "      <td>13.1</td>\n",
       "      <td>Snow</td>\n",
       "    </tr>\n",
       "    <tr>\n",
       "      <th>...</th>\n",
       "      <td>...</td>\n",
       "      <td>...</td>\n",
       "      <td>...</td>\n",
       "      <td>...</td>\n",
       "      <td>...</td>\n",
       "      <td>...</td>\n",
       "      <td>...</td>\n",
       "      <td>...</td>\n",
       "      <td>...</td>\n",
       "      <td>...</td>\n",
       "    </tr>\n",
       "    <tr>\n",
       "      <th>12805</th>\n",
       "      <td>Washington, DC</td>\n",
       "      <td>2020-12-27</td>\n",
       "      <td>1.0</td>\n",
       "      <td>5.6</td>\n",
       "      <td>-3.6</td>\n",
       "      <td>60.64</td>\n",
       "      <td>0.00</td>\n",
       "      <td>0.00</td>\n",
       "      <td>17.2</td>\n",
       "      <td>Partially cloudy</td>\n",
       "    </tr>\n",
       "    <tr>\n",
       "      <th>12806</th>\n",
       "      <td>Washington, DC</td>\n",
       "      <td>2020-12-28</td>\n",
       "      <td>6.1</td>\n",
       "      <td>11.3</td>\n",
       "      <td>1.6</td>\n",
       "      <td>64.95</td>\n",
       "      <td>0.00</td>\n",
       "      <td>0.00</td>\n",
       "      <td>19.5</td>\n",
       "      <td>Partially cloudy</td>\n",
       "    </tr>\n",
       "    <tr>\n",
       "      <th>12807</th>\n",
       "      <td>Washington, DC</td>\n",
       "      <td>2020-12-29</td>\n",
       "      <td>3.8</td>\n",
       "      <td>6.2</td>\n",
       "      <td>0.3</td>\n",
       "      <td>46.13</td>\n",
       "      <td>0.00</td>\n",
       "      <td>0.00</td>\n",
       "      <td>32.7</td>\n",
       "      <td>Partially cloudy</td>\n",
       "    </tr>\n",
       "    <tr>\n",
       "      <th>12808</th>\n",
       "      <td>Washington, DC</td>\n",
       "      <td>2020-12-30</td>\n",
       "      <td>3.8</td>\n",
       "      <td>7.8</td>\n",
       "      <td>-0.3</td>\n",
       "      <td>52.82</td>\n",
       "      <td>0.00</td>\n",
       "      <td>0.00</td>\n",
       "      <td>29.0</td>\n",
       "      <td>Overcast</td>\n",
       "    </tr>\n",
       "    <tr>\n",
       "      <th>12809</th>\n",
       "      <td>Washington, DC</td>\n",
       "      <td>2020-12-31</td>\n",
       "      <td>8.1</td>\n",
       "      <td>12.8</td>\n",
       "      <td>4.4</td>\n",
       "      <td>70.87</td>\n",
       "      <td>0.00</td>\n",
       "      <td>0.00</td>\n",
       "      <td>28.8</td>\n",
       "      <td>Overcast</td>\n",
       "    </tr>\n",
       "  </tbody>\n",
       "</table>\n",
       "<p>12810 rows × 10 columns</p>\n",
       "</div>"
      ],
      "text/plain": [
       "                 City        Date  Temperature  temp_max  temp_min  humidity  \\\n",
       "0        Montreal, QC  2020-01-01          0.2       1.1      -0.8     87.84   \n",
       "1        Montreal, QC  2020-01-02          0.9       2.6      -1.0     78.70   \n",
       "2        Montreal, QC  2020-01-03          4.8       5.8       2.8     74.88   \n",
       "3        Montreal, QC  2020-01-04          0.5       3.2      -1.9     78.79   \n",
       "4        Montreal, QC  2020-01-05         -5.3      -1.8      -9.9     69.09   \n",
       "...               ...         ...          ...       ...       ...       ...   \n",
       "12805  Washington, DC  2020-12-27          1.0       5.6      -3.6     60.64   \n",
       "12806  Washington, DC  2020-12-28          6.1      11.3       1.6     64.95   \n",
       "12807  Washington, DC  2020-12-29          3.8       6.2       0.3     46.13   \n",
       "12808  Washington, DC  2020-12-30          3.8       7.8      -0.3     52.82   \n",
       "12809  Washington, DC  2020-12-31          8.1      12.8       4.4     70.87   \n",
       "\n",
       "       precip  snow  windspeed        conditions  \n",
       "0        5.71  0.00        7.9              Rain  \n",
       "1        0.00  0.00        7.7             Clear  \n",
       "2        0.00  0.00        7.6             Clear  \n",
       "3        2.27  0.00       11.2              Rain  \n",
       "4        0.76  3.88       13.1              Snow  \n",
       "...       ...   ...        ...               ...  \n",
       "12805    0.00  0.00       17.2  Partially cloudy  \n",
       "12806    0.00  0.00       19.5  Partially cloudy  \n",
       "12807    0.00  0.00       32.7  Partially cloudy  \n",
       "12808    0.00  0.00       29.0          Overcast  \n",
       "12809    0.00  0.00       28.8          Overcast  \n",
       "\n",
       "[12810 rows x 10 columns]"
      ]
     },
     "execution_count": 3,
     "metadata": {},
     "output_type": "execute_result"
    }
   ],
   "source": [
    "df"
   ]
  },
  {
   "cell_type": "code",
   "execution_count": 4,
   "metadata": {},
   "outputs": [
    {
     "data": {
      "text/plain": [
       "City            object\n",
       "Date            object\n",
       "Temperature    float64\n",
       "temp_max       float64\n",
       "temp_min       float64\n",
       "humidity       float64\n",
       "precip         float64\n",
       "snow           float64\n",
       "windspeed      float64\n",
       "conditions      object\n",
       "dtype: object"
      ]
     },
     "execution_count": 4,
     "metadata": {},
     "output_type": "execute_result"
    }
   ],
   "source": [
    "# 1.We find the variable types of each column - We need to change date to a date-time variable\n",
    "df.dtypes"
   ]
  },
  {
   "cell_type": "code",
   "execution_count": 5,
   "metadata": {},
   "outputs": [],
   "source": [
    "# We create a column with date as a datetime\n",
    "df['Time_stamp'] = pd.to_datetime(df['Date'].str.strip(), format='%Y/%m/%d')"
   ]
  },
  {
   "cell_type": "code",
   "execution_count": 6,
   "metadata": {},
   "outputs": [],
   "source": [
    "#User would imput this value\n",
    "df['day'] = df.Time_stamp.dt.day\n",
    "df['month'] = df.Time_stamp.dt.month\n",
    "df['year'] = df.Time_stamp.dt.year"
   ]
  },
  {
   "cell_type": "code",
   "execution_count": 7,
   "metadata": {},
   "outputs": [
    {
     "data": {
      "text/html": [
       "<div>\n",
       "<style scoped>\n",
       "    .dataframe tbody tr th:only-of-type {\n",
       "        vertical-align: middle;\n",
       "    }\n",
       "\n",
       "    .dataframe tbody tr th {\n",
       "        vertical-align: top;\n",
       "    }\n",
       "\n",
       "    .dataframe thead th {\n",
       "        text-align: right;\n",
       "    }\n",
       "</style>\n",
       "<table border=\"1\" class=\"dataframe\">\n",
       "  <thead>\n",
       "    <tr style=\"text-align: right;\">\n",
       "      <th></th>\n",
       "      <th>City</th>\n",
       "      <th>Date</th>\n",
       "      <th>Temperature</th>\n",
       "      <th>temp_max</th>\n",
       "      <th>temp_min</th>\n",
       "      <th>humidity</th>\n",
       "      <th>precip</th>\n",
       "      <th>snow</th>\n",
       "      <th>windspeed</th>\n",
       "      <th>conditions</th>\n",
       "      <th>Time_stamp</th>\n",
       "      <th>day</th>\n",
       "      <th>month</th>\n",
       "      <th>year</th>\n",
       "    </tr>\n",
       "  </thead>\n",
       "  <tbody>\n",
       "    <tr>\n",
       "      <th>0</th>\n",
       "      <td>Montreal, QC</td>\n",
       "      <td>2020-01-01</td>\n",
       "      <td>0.2</td>\n",
       "      <td>1.1</td>\n",
       "      <td>-0.8</td>\n",
       "      <td>87.84</td>\n",
       "      <td>5.71</td>\n",
       "      <td>0.00</td>\n",
       "      <td>7.9</td>\n",
       "      <td>Rain</td>\n",
       "      <td>2020-01-01</td>\n",
       "      <td>1</td>\n",
       "      <td>1</td>\n",
       "      <td>2020</td>\n",
       "    </tr>\n",
       "    <tr>\n",
       "      <th>1</th>\n",
       "      <td>Montreal, QC</td>\n",
       "      <td>2020-01-02</td>\n",
       "      <td>0.9</td>\n",
       "      <td>2.6</td>\n",
       "      <td>-1.0</td>\n",
       "      <td>78.70</td>\n",
       "      <td>0.00</td>\n",
       "      <td>0.00</td>\n",
       "      <td>7.7</td>\n",
       "      <td>Clear</td>\n",
       "      <td>2020-01-02</td>\n",
       "      <td>2</td>\n",
       "      <td>1</td>\n",
       "      <td>2020</td>\n",
       "    </tr>\n",
       "    <tr>\n",
       "      <th>2</th>\n",
       "      <td>Montreal, QC</td>\n",
       "      <td>2020-01-03</td>\n",
       "      <td>4.8</td>\n",
       "      <td>5.8</td>\n",
       "      <td>2.8</td>\n",
       "      <td>74.88</td>\n",
       "      <td>0.00</td>\n",
       "      <td>0.00</td>\n",
       "      <td>7.6</td>\n",
       "      <td>Clear</td>\n",
       "      <td>2020-01-03</td>\n",
       "      <td>3</td>\n",
       "      <td>1</td>\n",
       "      <td>2020</td>\n",
       "    </tr>\n",
       "    <tr>\n",
       "      <th>3</th>\n",
       "      <td>Montreal, QC</td>\n",
       "      <td>2020-01-04</td>\n",
       "      <td>0.5</td>\n",
       "      <td>3.2</td>\n",
       "      <td>-1.9</td>\n",
       "      <td>78.79</td>\n",
       "      <td>2.27</td>\n",
       "      <td>0.00</td>\n",
       "      <td>11.2</td>\n",
       "      <td>Rain</td>\n",
       "      <td>2020-01-04</td>\n",
       "      <td>4</td>\n",
       "      <td>1</td>\n",
       "      <td>2020</td>\n",
       "    </tr>\n",
       "    <tr>\n",
       "      <th>4</th>\n",
       "      <td>Montreal, QC</td>\n",
       "      <td>2020-01-05</td>\n",
       "      <td>-5.3</td>\n",
       "      <td>-1.8</td>\n",
       "      <td>-9.9</td>\n",
       "      <td>69.09</td>\n",
       "      <td>0.76</td>\n",
       "      <td>3.88</td>\n",
       "      <td>13.1</td>\n",
       "      <td>Snow</td>\n",
       "      <td>2020-01-05</td>\n",
       "      <td>5</td>\n",
       "      <td>1</td>\n",
       "      <td>2020</td>\n",
       "    </tr>\n",
       "    <tr>\n",
       "      <th>...</th>\n",
       "      <td>...</td>\n",
       "      <td>...</td>\n",
       "      <td>...</td>\n",
       "      <td>...</td>\n",
       "      <td>...</td>\n",
       "      <td>...</td>\n",
       "      <td>...</td>\n",
       "      <td>...</td>\n",
       "      <td>...</td>\n",
       "      <td>...</td>\n",
       "      <td>...</td>\n",
       "      <td>...</td>\n",
       "      <td>...</td>\n",
       "      <td>...</td>\n",
       "    </tr>\n",
       "    <tr>\n",
       "      <th>12805</th>\n",
       "      <td>Washington, DC</td>\n",
       "      <td>2020-12-27</td>\n",
       "      <td>1.0</td>\n",
       "      <td>5.6</td>\n",
       "      <td>-3.6</td>\n",
       "      <td>60.64</td>\n",
       "      <td>0.00</td>\n",
       "      <td>0.00</td>\n",
       "      <td>17.2</td>\n",
       "      <td>Partially cloudy</td>\n",
       "      <td>2020-12-27</td>\n",
       "      <td>27</td>\n",
       "      <td>12</td>\n",
       "      <td>2020</td>\n",
       "    </tr>\n",
       "    <tr>\n",
       "      <th>12806</th>\n",
       "      <td>Washington, DC</td>\n",
       "      <td>2020-12-28</td>\n",
       "      <td>6.1</td>\n",
       "      <td>11.3</td>\n",
       "      <td>1.6</td>\n",
       "      <td>64.95</td>\n",
       "      <td>0.00</td>\n",
       "      <td>0.00</td>\n",
       "      <td>19.5</td>\n",
       "      <td>Partially cloudy</td>\n",
       "      <td>2020-12-28</td>\n",
       "      <td>28</td>\n",
       "      <td>12</td>\n",
       "      <td>2020</td>\n",
       "    </tr>\n",
       "    <tr>\n",
       "      <th>12807</th>\n",
       "      <td>Washington, DC</td>\n",
       "      <td>2020-12-29</td>\n",
       "      <td>3.8</td>\n",
       "      <td>6.2</td>\n",
       "      <td>0.3</td>\n",
       "      <td>46.13</td>\n",
       "      <td>0.00</td>\n",
       "      <td>0.00</td>\n",
       "      <td>32.7</td>\n",
       "      <td>Partially cloudy</td>\n",
       "      <td>2020-12-29</td>\n",
       "      <td>29</td>\n",
       "      <td>12</td>\n",
       "      <td>2020</td>\n",
       "    </tr>\n",
       "    <tr>\n",
       "      <th>12808</th>\n",
       "      <td>Washington, DC</td>\n",
       "      <td>2020-12-30</td>\n",
       "      <td>3.8</td>\n",
       "      <td>7.8</td>\n",
       "      <td>-0.3</td>\n",
       "      <td>52.82</td>\n",
       "      <td>0.00</td>\n",
       "      <td>0.00</td>\n",
       "      <td>29.0</td>\n",
       "      <td>Overcast</td>\n",
       "      <td>2020-12-30</td>\n",
       "      <td>30</td>\n",
       "      <td>12</td>\n",
       "      <td>2020</td>\n",
       "    </tr>\n",
       "    <tr>\n",
       "      <th>12809</th>\n",
       "      <td>Washington, DC</td>\n",
       "      <td>2020-12-31</td>\n",
       "      <td>8.1</td>\n",
       "      <td>12.8</td>\n",
       "      <td>4.4</td>\n",
       "      <td>70.87</td>\n",
       "      <td>0.00</td>\n",
       "      <td>0.00</td>\n",
       "      <td>28.8</td>\n",
       "      <td>Overcast</td>\n",
       "      <td>2020-12-31</td>\n",
       "      <td>31</td>\n",
       "      <td>12</td>\n",
       "      <td>2020</td>\n",
       "    </tr>\n",
       "  </tbody>\n",
       "</table>\n",
       "<p>12810 rows × 14 columns</p>\n",
       "</div>"
      ],
      "text/plain": [
       "                 City        Date  Temperature  temp_max  temp_min  humidity  \\\n",
       "0        Montreal, QC  2020-01-01          0.2       1.1      -0.8     87.84   \n",
       "1        Montreal, QC  2020-01-02          0.9       2.6      -1.0     78.70   \n",
       "2        Montreal, QC  2020-01-03          4.8       5.8       2.8     74.88   \n",
       "3        Montreal, QC  2020-01-04          0.5       3.2      -1.9     78.79   \n",
       "4        Montreal, QC  2020-01-05         -5.3      -1.8      -9.9     69.09   \n",
       "...               ...         ...          ...       ...       ...       ...   \n",
       "12805  Washington, DC  2020-12-27          1.0       5.6      -3.6     60.64   \n",
       "12806  Washington, DC  2020-12-28          6.1      11.3       1.6     64.95   \n",
       "12807  Washington, DC  2020-12-29          3.8       6.2       0.3     46.13   \n",
       "12808  Washington, DC  2020-12-30          3.8       7.8      -0.3     52.82   \n",
       "12809  Washington, DC  2020-12-31          8.1      12.8       4.4     70.87   \n",
       "\n",
       "       precip  snow  windspeed        conditions Time_stamp  day  month  year  \n",
       "0        5.71  0.00        7.9              Rain 2020-01-01    1      1  2020  \n",
       "1        0.00  0.00        7.7             Clear 2020-01-02    2      1  2020  \n",
       "2        0.00  0.00        7.6             Clear 2020-01-03    3      1  2020  \n",
       "3        2.27  0.00       11.2              Rain 2020-01-04    4      1  2020  \n",
       "4        0.76  3.88       13.1              Snow 2020-01-05    5      1  2020  \n",
       "...       ...   ...        ...               ...        ...  ...    ...   ...  \n",
       "12805    0.00  0.00       17.2  Partially cloudy 2020-12-27   27     12  2020  \n",
       "12806    0.00  0.00       19.5  Partially cloudy 2020-12-28   28     12  2020  \n",
       "12807    0.00  0.00       32.7  Partially cloudy 2020-12-29   29     12  2020  \n",
       "12808    0.00  0.00       29.0          Overcast 2020-12-30   30     12  2020  \n",
       "12809    0.00  0.00       28.8          Overcast 2020-12-31   31     12  2020  \n",
       "\n",
       "[12810 rows x 14 columns]"
      ]
     },
     "execution_count": 7,
     "metadata": {},
     "output_type": "execute_result"
    }
   ],
   "source": [
    "df"
   ]
  },
  {
   "cell_type": "code",
   "execution_count": 8,
   "metadata": {},
   "outputs": [],
   "source": [
    "#Answers to be provided by user\n",
    "Month = 12\n",
    "Start_Day = 1\n",
    "End_Day = 31\n"
   ]
  },
  {
   "cell_type": "code",
   "execution_count": 9,
   "metadata": {},
   "outputs": [],
   "source": [
    "df_dec = df[(df.month == Month) & (df.day >= Start_Day) & (df.day <= End_Day)]"
   ]
  },
  {
   "cell_type": "code",
   "execution_count": 12,
   "metadata": {},
   "outputs": [],
   "source": [
    "#Answers to be provided by user\n",
    "Month1 = 11\n",
    "Start_Day1 = 1\n",
    "End_Day1 = 30"
   ]
  },
  {
   "cell_type": "code",
   "execution_count": 14,
   "metadata": {},
   "outputs": [],
   "source": [
    "df_nov = df[(df.month == Month1) & (df.day >= Start_Day1) & (df.day <= End_Day1)]"
   ]
  },
  {
   "cell_type": "code",
   "execution_count": 15,
   "metadata": {},
   "outputs": [],
   "source": [
    "Month2 = 10\n",
    "Start_Day2 = 1\n",
    "End_Day2 = 31"
   ]
  },
  {
   "cell_type": "code",
   "execution_count": 38,
   "metadata": {},
   "outputs": [],
   "source": [
    "frames = [df_nov,df_dec]"
   ]
  },
  {
   "cell_type": "code",
   "execution_count": 39,
   "metadata": {},
   "outputs": [],
   "source": [
    "df_sept_to_Dec = pd.concat(frames)"
   ]
  },
  {
   "cell_type": "code",
   "execution_count": 40,
   "metadata": {},
   "outputs": [],
   "source": [
    "Final_df_lat = df_sept_to_Dec[df_sept_to_Dec.City.isin([\"Hawaii, HI\", \"Broward County, FL\", \"New Orleans, LA\", \"San Francisco, CA\", \"Nashville, TN\", \"Vancouver, BC\", \"Seattle, WA\", \"Quebec City, QC\", \"Columbus, OH\", \"Toronto, ON\"])]"
   ]
  },
  {
   "cell_type": "code",
   "execution_count": 41,
   "metadata": {},
   "outputs": [],
   "source": [
    "X= Final_df_lat[[\"temp_max\", \"temp_min\", \"humidity\"]] "
   ]
  },
  {
   "cell_type": "code",
   "execution_count": 42,
   "metadata": {},
   "outputs": [],
   "source": [
    "y = Final_df_lat[\"City\"]"
   ]
  },
  {
   "cell_type": "code",
   "execution_count": 43,
   "metadata": {},
   "outputs": [],
   "source": [
    "import matplotlib.pyplot as plt\n",
    "from sklearn.model_selection import train_test_split\n",
    "from sklearn.neighbors import KNeighborsClassifier\n",
    "from sklearn.preprocessing import StandardScaler"
   ]
  },
  {
   "cell_type": "code",
   "execution_count": 44,
   "metadata": {},
   "outputs": [],
   "source": [
    "X_train, X_test, y_train, y_test = train_test_split(X, y, random_state=42)"
   ]
  },
  {
   "cell_type": "code",
   "execution_count": 45,
   "metadata": {},
   "outputs": [],
   "source": [
    "X_scaler = StandardScaler().fit(X_train)"
   ]
  },
  {
   "cell_type": "code",
   "execution_count": 46,
   "metadata": {},
   "outputs": [],
   "source": [
    "X_train_scaled = X_scaler.transform(X_train)\n",
    "X_test_scaled = X_scaler.transform(X_test)"
   ]
  },
  {
   "cell_type": "code",
   "execution_count": 47,
   "metadata": {},
   "outputs": [
    {
     "data": {
      "text/plain": [
       "KNeighborsClassifier(n_neighbors=3)"
      ]
     },
     "execution_count": 47,
     "metadata": {},
     "output_type": "execute_result"
    }
   ],
   "source": [
    "model1 = KNeighborsClassifier(n_neighbors=3)\n",
    "model1.fit(X_train_scaled, y_train)"
   ]
  },
  {
   "cell_type": "code",
   "execution_count": 48,
   "metadata": {},
   "outputs": [
    {
     "name": "stdout",
     "output_type": "stream",
     "text": [
      "1 1.0 0.5163398692810458\n",
      "3 0.7396061269146609 0.5294117647058824\n",
      "5 0.6827133479212254 0.5620915032679739\n",
      "7 0.6761487964989059 0.5424836601307189\n",
      "9 0.6608315098468271 0.5359477124183006\n",
      "11 0.6345733041575492 0.6078431372549019\n",
      "13 0.6192560175054704 0.6013071895424836\n",
      "15 0.6170678336980306 0.5555555555555556\n",
      "17 0.612691466083151 0.5751633986928104\n",
      "19 0.6170678336980306 0.5686274509803921\n"
     ]
    }
   ],
   "source": [
    "train_score = []\n",
    "test_score = []\n",
    "for k in range(1, 20, 2): \n",
    "  model = KNeighborsClassifier(n_neighbors=k)\n",
    "  model.fit(X_train_scaled, y_train)\n",
    "  train_score.append(model.score(X_train_scaled, y_train))\n",
    "  test_score.append(model.score(X_test_scaled, y_test))\n",
    "  print(k, model.score(X_train_scaled, y_train), model.score(X_test_scaled, y_test))"
   ]
  },
  {
   "cell_type": "code",
   "execution_count": 50,
   "metadata": {},
   "outputs": [
    {
     "data": {
      "text/plain": [
       "array(['Vancouver, BC'], dtype=object)"
      ]
     },
     "execution_count": 50,
     "metadata": {},
     "output_type": "execute_result"
    }
   ],
   "source": [
    "data_point = [[3.1, 0, 90]]\n",
    "\n",
    "prediction = model1.predict(data_point)\n",
    "prediction"
   ]
  },
  {
   "cell_type": "code",
   "execution_count": null,
   "metadata": {},
   "outputs": [],
   "source": [
    "pickle.dump(model1, open('model.pkl','wb'))"
   ]
  },
  {
   "cell_type": "code",
   "execution_count": null,
   "metadata": {},
   "outputs": [],
   "source": [
    "model = pickle.load(open('model.pkl','rb'))"
   ]
  },
  {
   "cell_type": "code",
   "execution_count": null,
   "metadata": {},
   "outputs": [],
   "source": []
  }
 ],
 "metadata": {
  "kernelspec": {
   "display_name": "Python 3",
   "language": "python",
   "name": "python3"
  },
  "language_info": {
   "codemirror_mode": {
    "name": "ipython",
    "version": 3
   },
   "file_extension": ".py",
   "mimetype": "text/x-python",
   "name": "python",
   "nbconvert_exporter": "python",
   "pygments_lexer": "ipython3",
   "version": "3.8.3"
  }
 },
 "nbformat": 4,
 "nbformat_minor": 4
}
